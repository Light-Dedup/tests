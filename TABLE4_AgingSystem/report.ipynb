{
 "cells": [
  {
   "cell_type": "code",
   "execution_count": 6,
   "metadata": {},
   "outputs": [
    {
     "data": {
      "text/html": [
       "<div>\n",
       "<style scoped>\n",
       "    .dataframe tbody tr th:only-of-type {\n",
       "        vertical-align: middle;\n",
       "    }\n",
       "\n",
       "    .dataframe tbody tr th {\n",
       "        vertical-align: top;\n",
       "    }\n",
       "\n",
       "    .dataframe thead th {\n",
       "        text-align: right;\n",
       "    }\n",
       "</style>\n",
       "<table border=\"1\" class=\"dataframe\">\n",
       "  <thead>\n",
       "    <tr style=\"text-align: right;\">\n",
       "      <th></th>\n",
       "      <th>system</th>\n",
       "      <th>metadata_layout</th>\n",
       "      <th>read_amp</th>\n",
       "      <th>write_amp</th>\n",
       "      <th>throughput(MiB/s)</th>\n",
       "      <th>latency(ns)</th>\n",
       "    </tr>\n",
       "  </thead>\n",
       "  <tbody>\n",
       "    <tr>\n",
       "      <th>0</th>\n",
       "      <td>FreshSystem</td>\n",
       "      <td>Region</td>\n",
       "      <td>3.053016</td>\n",
       "      <td>2.083294</td>\n",
       "      <td>1705.406923</td>\n",
       "      <td>2290.509055</td>\n",
       "    </tr>\n",
       "    <tr>\n",
       "      <th>1</th>\n",
       "      <td>FreshSystem</td>\n",
       "      <td>Entry</td>\n",
       "      <td>3.235009</td>\n",
       "      <td>2.146683</td>\n",
       "      <td>1680.777499</td>\n",
       "      <td>2324.073235</td>\n",
       "    </tr>\n",
       "    <tr>\n",
       "      <th>2</th>\n",
       "      <td>AgedSystem</td>\n",
       "      <td>Region</td>\n",
       "      <td>3.403063</td>\n",
       "      <td>2.024806</td>\n",
       "      <td>1365.323539</td>\n",
       "      <td>2861.043473</td>\n",
       "    </tr>\n",
       "    <tr>\n",
       "      <th>3</th>\n",
       "      <td>AgedSystem</td>\n",
       "      <td>Entry</td>\n",
       "      <td>17.409338</td>\n",
       "      <td>8.969513</td>\n",
       "      <td>1137.185882</td>\n",
       "      <td>3435.014506</td>\n",
       "    </tr>\n",
       "  </tbody>\n",
       "</table>\n",
       "</div>"
      ],
      "text/plain": [
       "        system metadata_layout   read_amp  write_amp  throughput(MiB/s)  \\\n",
       "0  FreshSystem          Region   3.053016   2.083294        1705.406923   \n",
       "1  FreshSystem           Entry   3.235009   2.146683        1680.777499   \n",
       "2   AgedSystem          Region   3.403063   2.024806        1365.323539   \n",
       "3   AgedSystem           Entry  17.409338   8.969513        1137.185882   \n",
       "\n",
       "   latency(ns)  \n",
       "0  2290.509055  \n",
       "1  2324.073235  \n",
       "2  2861.043473  \n",
       "3  3435.014506  "
      ]
     },
     "execution_count": 6,
     "metadata": {},
     "output_type": "execute_result"
    }
   ],
   "source": [
    "import pandas as pd\n",
    "\n",
    "with open(\"./avg-result-calculated-in-paper\", \"r\") as f:\n",
    "    df = pd.read_csv(f, delim_whitespace=True, engine='python')\n",
    "    \n",
    "df.head()"
   ]
  },
  {
   "cell_type": "code",
   "execution_count": 7,
   "metadata": {},
   "outputs": [
    {
     "name": "stdout",
     "output_type": "stream",
     "text": [
      "Region - extra read: 97.69652047753334, extra write: 66.66541033983232\n",
      "Entry - extra read: 103.52027893066406, extra write: 103.52027893066406\n"
     ]
    }
   ],
   "source": [
    "df.head()\n",
    "region_new = df.iloc[0] \n",
    "entry_new = df.iloc[1]\n",
    "extra_read_per_4k_blk = region_new[\"read_amp\"] * 32\n",
    "extra_write_per_4k_blk = region_new[\"write_amp\"] * 32\n",
    "print(\"Region - extra read: {}, extra write: {}\".format(extra_read_per_4k_blk, extra_write_per_4k_blk))\n",
    "extra_read_per_4k_blk = entry_new[\"read_amp\"] * 32\n",
    "extra_write_per_4k_blk = entry_new[\"read_amp\"] * 32\n",
    "print(\"Entry - extra read: {}, extra write: {}\".format(extra_read_per_4k_blk, extra_write_per_4k_blk))"
   ]
  },
  {
   "cell_type": "code",
   "execution_count": 8,
   "metadata": {},
   "outputs": [
    {
     "name": "stdout",
     "output_type": "stream",
     "text": [
      "Region - extra read: 108.89801025390625, extra write: 64.79377746582031\n",
      "Entry - extra read: 557.0988057255746, extra write: 557.0988057255746\n"
     ]
    }
   ],
   "source": [
    "df.head()\n",
    "region_age = df.iloc[2] \n",
    "entry_age = df.iloc[3]\n",
    "extra_read_per_4k_blk = region_age[\"read_amp\"] * 32\n",
    "extra_write_per_4k_blk = region_age[\"write_amp\"] * 32\n",
    "print(\"Region - extra read: {}, extra write: {}\".format(extra_read_per_4k_blk, extra_write_per_4k_blk))\n",
    "extra_read_per_4k_blk = entry_age[\"read_amp\"] * 32\n",
    "extra_write_per_4k_blk = entry_age[\"read_amp\"] * 32\n",
    "print(\"Entry - extra read: {}, extra write: {}\".format(extra_read_per_4k_blk, extra_write_per_4k_blk))"
   ]
  },
  {
   "cell_type": "markdown",
   "metadata": {},
   "source": [
    "- Entry-Based Row in Table 2: First Write"
   ]
  },
  {
   "cell_type": "code",
   "execution_count": 9,
   "metadata": {},
   "outputs": [
    {
     "name": "stdout",
     "output_type": "stream",
     "text": [
      "First Write - Read: 103.52027893066406, Write: 68.69386035203934\n"
     ]
    }
   ],
   "source": [
    "entry_new = df.iloc[1]\n",
    "\n",
    "new_extra_read_per_4k_blk = entry_new[\"read_amp\"] * 32\n",
    "new_extra_write_per_4k_blk = entry_new[\"write_amp\"] * 32\n",
    "print(\"First Write - Read: {}, Write: {}\".format(new_extra_read_per_4k_blk, new_extra_write_per_4k_blk))"
   ]
  },
  {
   "cell_type": "markdown",
   "metadata": {},
   "source": [
    "- Entry-Based Row in Table 2: Second Write"
   ]
  },
  {
   "cell_type": "code",
   "execution_count": 10,
   "metadata": {},
   "outputs": [
    {
     "name": "stdout",
     "output_type": "stream",
     "text": [
      "Second Write - Read: 557.0988057255746, Write: 287.0244039297104\n",
      "RA = 557.0988057255746/32 = 17.409337678924206, WA = 287.0244039297104/32 = 8.96951262280345\n"
     ]
    }
   ],
   "source": [
    "entry_age = df.iloc[3]\n",
    "\n",
    "new_extra_read_per_4k_blk = entry_age[\"read_amp\"] * 32\n",
    "new_extra_write_per_4k_blk = entry_age[\"write_amp\"] * 32\n",
    "print(\"Second Write - Read: {}, Write: {}\".format(new_extra_read_per_4k_blk, new_extra_write_per_4k_blk))\n",
    "print(\"RA = {}/{} = {}, WA = {}/{} = {}\".format(new_extra_read_per_4k_blk, 32, new_extra_read_per_4k_blk /32, new_extra_write_per_4k_blk, 32, new_extra_write_per_4k_blk / 32))"
   ]
  },
  {
   "cell_type": "markdown",
   "metadata": {},
   "source": [
    "- Performance degradation"
   ]
  },
  {
   "cell_type": "code",
   "execution_count": 11,
   "metadata": {},
   "outputs": [
    {
     "name": "stdout",
     "output_type": "stream",
     "text": [
      "Region Degrade: 0.19941480211464852\n",
      "Entry Degrade: 0.32341676257498403\n"
     ]
    }
   ],
   "source": [
    "region_based_new = df.iloc[0]\n",
    "entry_based_new = df.iloc[1]\n",
    "region_based_age = df.iloc[2]\n",
    "entry_based_age = df.iloc[3]\n",
    "\n",
    "region_degrade = (region_based_new[\"throughput(MiB/s)\"] - region_based_age[\"throughput(MiB/s)\"]) / region_based_new[\"throughput(MiB/s)\"]\n",
    "\n",
    "entry_degrade = (entry_based_new[\"throughput(MiB/s)\"] - entry_based_age[\"throughput(MiB/s)\"]) / entry_based_new[\"throughput(MiB/s)\"]\n",
    "\n",
    "print(\"Region Degrade: {}\".format(region_degrade))\n",
    "print(\"Entry Degrade: {}\".format(entry_degrade))"
   ]
  }
 ],
 "metadata": {
  "kernelspec": {
   "display_name": "Python 3.6.8 64-bit",
   "language": "python",
   "name": "python3"
  },
  "language_info": {
   "codemirror_mode": {
    "name": "ipython",
    "version": 3
   },
   "file_extension": ".py",
   "mimetype": "text/x-python",
   "name": "python",
   "nbconvert_exporter": "python",
   "pygments_lexer": "ipython3",
   "version": "3.6.8"
  },
  "orig_nbformat": 4,
  "vscode": {
   "interpreter": {
    "hash": "916dbcbb3f70747c44a77c7bcd40155683ae19c65e1c03b4aa3499c5328201f1"
   }
  }
 },
 "nbformat": 4,
 "nbformat_minor": 2
}

{
 "cells": [
  {
   "cell_type": "code",
   "execution_count": 1,
   "metadata": {},
   "outputs": [
    {
     "data": {
      "text/html": [
       "<div>\n",
       "<style scoped>\n",
       "    .dataframe tbody tr th:only-of-type {\n",
       "        vertical-align: middle;\n",
       "    }\n",
       "\n",
       "    .dataframe tbody tr th {\n",
       "        vertical-align: top;\n",
       "    }\n",
       "\n",
       "    .dataframe thead th {\n",
       "        text-align: right;\n",
       "    }\n",
       "</style>\n",
       "<table border=\"1\" class=\"dataframe\">\n",
       "  <thead>\n",
       "    <tr style=\"text-align: right;\">\n",
       "      <th></th>\n",
       "      <th>system</th>\n",
       "      <th>metadata_layout</th>\n",
       "      <th>read_amp</th>\n",
       "      <th>write_amp</th>\n",
       "      <th>throughput(MiB/s)</th>\n",
       "      <th>latency(ns)</th>\n",
       "    </tr>\n",
       "  </thead>\n",
       "  <tbody>\n",
       "    <tr>\n",
       "      <th>0</th>\n",
       "      <td>FreshSystem</td>\n",
       "      <td>Region</td>\n",
       "      <td>3.226780</td>\n",
       "      <td>2.159730</td>\n",
       "      <td>1661.686290</td>\n",
       "      <td>2350.774646</td>\n",
       "    </tr>\n",
       "    <tr>\n",
       "      <th>1</th>\n",
       "      <td>FreshSystem</td>\n",
       "      <td>Entry</td>\n",
       "      <td>3.481332</td>\n",
       "      <td>2.253776</td>\n",
       "      <td>1605.381752</td>\n",
       "      <td>2433.221877</td>\n",
       "    </tr>\n",
       "    <tr>\n",
       "      <th>2</th>\n",
       "      <td>AgedSystem</td>\n",
       "      <td>Region</td>\n",
       "      <td>3.444572</td>\n",
       "      <td>2.043290</td>\n",
       "      <td>1326.917675</td>\n",
       "      <td>2943.852564</td>\n",
       "    </tr>\n",
       "    <tr>\n",
       "      <th>3</th>\n",
       "      <td>AgedSystem</td>\n",
       "      <td>Entry</td>\n",
       "      <td>16.872295</td>\n",
       "      <td>8.749062</td>\n",
       "      <td>1118.903826</td>\n",
       "      <td>3491.140087</td>\n",
       "    </tr>\n",
       "  </tbody>\n",
       "</table>\n",
       "</div>"
      ],
      "text/plain": [
       "        system metadata_layout   read_amp  write_amp  throughput(MiB/s)  \\\n",
       "0  FreshSystem          Region   3.226780   2.159730        1661.686290   \n",
       "1  FreshSystem           Entry   3.481332   2.253776        1605.381752   \n",
       "2   AgedSystem          Region   3.444572   2.043290        1326.917675   \n",
       "3   AgedSystem           Entry  16.872295   8.749062        1118.903826   \n",
       "\n",
       "   latency(ns)  \n",
       "0  2350.774646  \n",
       "1  2433.221877  \n",
       "2  2943.852564  \n",
       "3  3491.140087  "
      ]
     },
     "execution_count": 1,
     "metadata": {},
     "output_type": "execute_result"
    }
   ],
   "source": [
    "import pandas as pd\n",
    "\n",
    "with open(\"./avg-result-calculated-in-paper\", \"r\") as f:\n",
    "    df = pd.read_csv(f, delim_whitespace=True, engine='python')\n",
    "with open(\"./avg-aging-table\", \"r\") as f:\n",
    "    df_age = pd.read_csv(f, delim_whitespace=True, engine='python')\n",
    "with open(\"./avg-newly-table\", \"r\") as f:\n",
    "    df_new = pd.read_csv(f, delim_whitespace=True, engine='python')\n",
    "    \n",
    "df.head()"
   ]
  },
  {
   "cell_type": "code",
   "execution_count": 2,
   "metadata": {},
   "outputs": [
    {
     "name": "stdout",
     "output_type": "stream",
     "text": [
      "Region - extra read: 110.22629290819168, extra write: 65.38527929782867\n",
      "Entry - extra read: 539.913447022438, extra write: 279.96998596191406\n"
     ]
    }
   ],
   "source": [
    "df_age.head()\n",
    "num_4k_blk = 64 * 1024 * 1024 * 1024 / 4096\n",
    "base = df_age.iloc[0] \n",
    "region = df_age.iloc[1]\n",
    "entry = df_age.iloc[2]\n",
    "extra_read_per_4k_blk = (region[\"read\"] - base[\"read\"]) / num_4k_blk\n",
    "extra_write_per_4k_blk = (region[\"write\"] - base[\"write\"]) / num_4k_blk\n",
    "print(\"Region - extra read: {}, extra write: {}\".format(extra_read_per_4k_blk, extra_write_per_4k_blk))\n",
    "extra_read_per_4k_blk = (entry[\"read\"] - base[\"read\"]) / num_4k_blk\n",
    "extra_write_per_4k_blk = (entry[\"write\"] - base[\"write\"]) / num_4k_blk\n",
    "print(\"Entry - extra read: {}, extra write: {}\".format(extra_read_per_4k_blk, extra_write_per_4k_blk))"
   ]
  },
  {
   "cell_type": "code",
   "execution_count": 3,
   "metadata": {},
   "outputs": [
    {
     "name": "stdout",
     "output_type": "stream",
     "text": [
      "Region - extra read: 103.25697579979897, extra write: 69.11137136816978\n",
      "Entry - extra read: 111.40260821580887, extra write: 72.12083688378334\n"
     ]
    }
   ],
   "source": [
    "df_new.head()\n",
    "num_4k_blk = 128 * 1024 * 1024 * 1024 / 4096\n",
    "base = df_new.iloc[0] \n",
    "region = df_new.iloc[1]\n",
    "entry = df_new.iloc[2]\n",
    "extra_read_per_4k_blk = (region[\"read\"] - base[\"read\"]) / num_4k_blk\n",
    "extra_write_per_4k_blk = (region[\"write\"] - base[\"write\"]) / num_4k_blk\n",
    "print(\"Region - extra read: {}, extra write: {}\".format(extra_read_per_4k_blk, extra_write_per_4k_blk))\n",
    "extra_read_per_4k_blk = (entry[\"read\"] - base[\"read\"]) / num_4k_blk\n",
    "extra_write_per_4k_blk = (entry[\"write\"] - base[\"write\"]) / num_4k_blk\n",
    "print(\"Entry - extra read: {}, extra write: {}\".format(extra_read_per_4k_blk, extra_write_per_4k_blk))\n"
   ]
  },
  {
   "cell_type": "markdown",
   "metadata": {},
   "source": [
    "- Entry-Based Row in Table 2: First Write"
   ]
  },
  {
   "cell_type": "code",
   "execution_count": 4,
   "metadata": {},
   "outputs": [
    {
     "name": "stdout",
     "output_type": "stream",
     "text": [
      "First Write - Read: 111.40260821580887, Write: 72.12083688378334\n"
     ]
    }
   ],
   "source": [
    "volatile_fp = df_new.iloc[0]\n",
    "entry_based = df_new.iloc[2]\n",
    "\n",
    "num_4k_blk = 128 * 1024 * 1024 * 1024 / 4096\n",
    "new_extra_read_per_4k_blk = (entry_based[\"read\"] - volatile_fp[\"read\"]) / num_4k_blk\n",
    "new_extra_write_per_4k_blk = (entry_based[\"write\"] - volatile_fp[\"write\"]) / num_4k_blk\n",
    "print(\"First Write - Read: {}, Write: {}\".format(new_extra_read_per_4k_blk, new_extra_write_per_4k_blk))"
   ]
  },
  {
   "cell_type": "markdown",
   "metadata": {},
   "source": [
    "- Entry-Based Row in Table 2: Second Write"
   ]
  },
  {
   "cell_type": "code",
   "execution_count": 5,
   "metadata": {},
   "outputs": [
    {
     "name": "stdout",
     "output_type": "stream",
     "text": [
      "Second Write - Read: 539.913447022438, Write: 279.96998596191406\n",
      "RA = 539.913447022438/32 = 16.87229521945119, WA = 279.96998596191406/32 = 8.749062061309814\n"
     ]
    }
   ],
   "source": [
    "volatile_fp = df_age.iloc[0]\n",
    "entry_based = df_age.iloc[2]\n",
    "\n",
    "num_4k_blk = 64 * 1024 * 1024 * 1024 / 4096\n",
    "new_extra_read_per_4k_blk = (entry_based[\"read\"] - volatile_fp[\"read\"]) / num_4k_blk\n",
    "new_extra_write_per_4k_blk = (entry_based[\"write\"] - volatile_fp[\"write\"]) / num_4k_blk\n",
    "print(\"Second Write - Read: {}, Write: {}\".format(new_extra_read_per_4k_blk, new_extra_write_per_4k_blk))\n",
    "print(\"RA = {}/{} = {}, WA = {}/{} = {}\".format(new_extra_read_per_4k_blk, 32, new_extra_read_per_4k_blk /32, new_extra_write_per_4k_blk, 32, new_extra_write_per_4k_blk / 32))"
   ]
  },
  {
   "cell_type": "markdown",
   "metadata": {},
   "source": [
    "- Performance degradation"
   ]
  },
  {
   "cell_type": "code",
   "execution_count": 6,
   "metadata": {},
   "outputs": [
    {
     "name": "stdout",
     "output_type": "stream",
     "text": [
      "Region Degrade: 0.20146318644045744\n",
      "Entry Degrade: 0.3030294357504273\n"
     ]
    }
   ],
   "source": [
    "region_based_new = df.iloc[0]\n",
    "entry_based_new = df.iloc[1]\n",
    "region_based_age = df.iloc[2]\n",
    "entry_based_age = df.iloc[3]\n",
    "\n",
    "region_degrade = (region_based_new[\"throughput(MiB/s)\"] - region_based_age[\"throughput(MiB/s)\"]) / region_based_new[\"throughput(MiB/s)\"]\n",
    "\n",
    "entry_degrade = (entry_based_new[\"throughput(MiB/s)\"] - entry_based_age[\"throughput(MiB/s)\"]) / entry_based_new[\"throughput(MiB/s)\"]\n",
    "\n",
    "print(\"Region Degrade: {}\".format(region_degrade))\n",
    "print(\"Entry Degrade: {}\".format(entry_degrade))"
   ]
  }
 ],
 "metadata": {
  "kernelspec": {
   "display_name": "Python 3.6.8 64-bit",
   "language": "python",
   "name": "python3"
  },
  "language_info": {
   "codemirror_mode": {
    "name": "ipython",
    "version": 3
   },
   "file_extension": ".py",
   "mimetype": "text/x-python",
   "name": "python",
   "nbconvert_exporter": "python",
   "pygments_lexer": "ipython3",
   "version": "3.6.8"
  },
  "orig_nbformat": 4,
  "vscode": {
   "interpreter": {
    "hash": "916dbcbb3f70747c44a77c7bcd40155683ae19c65e1c03b4aa3499c5328201f1"
   }
  }
 },
 "nbformat": 4,
 "nbformat_minor": 2
}

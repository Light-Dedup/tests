{
 "cells": [
  {
   "cell_type": "code",
   "execution_count": 2,
   "metadata": {},
   "outputs": [
    {
     "data": {
      "text/html": [
       "<div>\n",
       "<style scoped>\n",
       "    .dataframe tbody tr th:only-of-type {\n",
       "        vertical-align: middle;\n",
       "    }\n",
       "\n",
       "    .dataframe tbody tr th {\n",
       "        vertical-align: top;\n",
       "    }\n",
       "\n",
       "    .dataframe thead th {\n",
       "        text-align: right;\n",
       "    }\n",
       "</style>\n",
       "<table border=\"1\" class=\"dataframe\">\n",
       "  <thead>\n",
       "    <tr style=\"text-align: right;\">\n",
       "      <th></th>\n",
       "      <th>file_system</th>\n",
       "      <th>trace</th>\n",
       "      <th>job</th>\n",
       "      <th>bandwidth(MiB/s)</th>\n",
       "    </tr>\n",
       "  </thead>\n",
       "  <tbody>\n",
       "    <tr>\n",
       "      <th>0</th>\n",
       "      <td>Light-Dedup</td>\n",
       "      <td>homes-110108-112108.1-21.blkparse</td>\n",
       "      <td>1</td>\n",
       "      <td>853.46</td>\n",
       "    </tr>\n",
       "    <tr>\n",
       "      <th>1</th>\n",
       "      <td>Light-Dedup</td>\n",
       "      <td>homes-110108-112108.1-21.blkparse</td>\n",
       "      <td>2</td>\n",
       "      <td>1452.09</td>\n",
       "    </tr>\n",
       "    <tr>\n",
       "      <th>2</th>\n",
       "      <td>Light-Dedup</td>\n",
       "      <td>homes-110108-112108.1-21.blkparse</td>\n",
       "      <td>4</td>\n",
       "      <td>2142.93</td>\n",
       "    </tr>\n",
       "    <tr>\n",
       "      <th>3</th>\n",
       "      <td>Light-Dedup</td>\n",
       "      <td>homes-110108-112108.1-21.blkparse</td>\n",
       "      <td>8</td>\n",
       "      <td>2301.88</td>\n",
       "    </tr>\n",
       "    <tr>\n",
       "      <th>4</th>\n",
       "      <td>Light-Dedup</td>\n",
       "      <td>homes-110108-112108.1-21.blkparse</td>\n",
       "      <td>16</td>\n",
       "      <td>1794.80</td>\n",
       "    </tr>\n",
       "  </tbody>\n",
       "</table>\n",
       "</div>"
      ],
      "text/plain": [
       "   file_system                              trace  job  bandwidth(MiB/s)\n",
       "0  Light-Dedup  homes-110108-112108.1-21.blkparse    1            853.46\n",
       "1  Light-Dedup  homes-110108-112108.1-21.blkparse    2           1452.09\n",
       "2  Light-Dedup  homes-110108-112108.1-21.blkparse    4           2142.93\n",
       "3  Light-Dedup  homes-110108-112108.1-21.blkparse    8           2301.88\n",
       "4  Light-Dedup  homes-110108-112108.1-21.blkparse   16           1794.80"
      ]
     },
     "execution_count": 2,
     "metadata": {},
     "output_type": "execute_result"
    }
   ],
   "source": [
    "import pandas as pd\n",
    "with open(\"./performance-comparison-table\", \"r\") as f:\n",
    "    df = pd.read_csv(f, delim_whitespace=True, engine='python')\n",
    "df.head()"
   ]
  },
  {
   "cell_type": "markdown",
   "metadata": {},
   "source": [
    "# The throughput of Light-Dedup compared to NOVA (under three traces) when the threads number is greater than 8"
   ]
  },
  {
   "cell_type": "code",
   "execution_count": 19,
   "metadata": {},
   "outputs": [
    {
     "name": "stderr",
     "output_type": "stream",
     "text": [
      "/home/deadpool/.local/lib/python3.6/site-packages/ipykernel_launcher.py:1: UserWarning: Boolean Series key will be reindexed to match DataFrame index.\n",
      "  \"\"\"Entry point for launching an IPython kernel.\n",
      "/home/deadpool/.local/lib/python3.6/site-packages/ipykernel_launcher.py:2: UserWarning: Boolean Series key will be reindexed to match DataFrame index.\n",
      "  \n",
      "/home/deadpool/.local/lib/python3.6/site-packages/ipykernel_launcher.py:2: UserWarning: Boolean Series key will be reindexed to match DataFrame index.\n",
      "  \n"
     ]
    },
    {
     "data": {
      "text/html": [
       "<div>\n",
       "<style scoped>\n",
       "    .dataframe tbody tr th:only-of-type {\n",
       "        vertical-align: middle;\n",
       "    }\n",
       "\n",
       "    .dataframe tbody tr th {\n",
       "        vertical-align: top;\n",
       "    }\n",
       "\n",
       "    .dataframe thead th {\n",
       "        text-align: right;\n",
       "    }\n",
       "</style>\n",
       "<table border=\"1\" class=\"dataframe\">\n",
       "  <thead>\n",
       "    <tr style=\"text-align: right;\">\n",
       "      <th></th>\n",
       "      <th>index</th>\n",
       "      <th>file_system</th>\n",
       "      <th>trace</th>\n",
       "      <th>job</th>\n",
       "      <th>bandwidth(MiB/s)</th>\n",
       "      <th>Light-Dedup/NOVA</th>\n",
       "    </tr>\n",
       "  </thead>\n",
       "  <tbody>\n",
       "    <tr>\n",
       "      <th>0</th>\n",
       "      <td>3</td>\n",
       "      <td>Light-Dedup</td>\n",
       "      <td>homes-110108-112108.1-21.blkparse</td>\n",
       "      <td>8</td>\n",
       "      <td>2301.88</td>\n",
       "      <td>1.209136</td>\n",
       "    </tr>\n",
       "    <tr>\n",
       "      <th>1</th>\n",
       "      <td>4</td>\n",
       "      <td>Light-Dedup</td>\n",
       "      <td>homes-110108-112108.1-21.blkparse</td>\n",
       "      <td>16</td>\n",
       "      <td>1794.80</td>\n",
       "      <td>1.103121</td>\n",
       "    </tr>\n",
       "    <tr>\n",
       "      <th>2</th>\n",
       "      <td>8</td>\n",
       "      <td>Light-Dedup</td>\n",
       "      <td>webmail+online.cs.fiu.edu-110108-113008.1-21.b...</td>\n",
       "      <td>8</td>\n",
       "      <td>2726.51</td>\n",
       "      <td>1.430398</td>\n",
       "    </tr>\n",
       "    <tr>\n",
       "      <th>3</th>\n",
       "      <td>9</td>\n",
       "      <td>Light-Dedup</td>\n",
       "      <td>webmail+online.cs.fiu.edu-110108-113008.1-21.b...</td>\n",
       "      <td>16</td>\n",
       "      <td>2108.07</td>\n",
       "      <td>1.300531</td>\n",
       "    </tr>\n",
       "    <tr>\n",
       "      <th>4</th>\n",
       "      <td>13</td>\n",
       "      <td>Light-Dedup</td>\n",
       "      <td>cheetah.cs.fiu.edu-110108-113008.1-2.blkparse</td>\n",
       "      <td>8</td>\n",
       "      <td>4456.62</td>\n",
       "      <td>2.343296</td>\n",
       "    </tr>\n",
       "    <tr>\n",
       "      <th>5</th>\n",
       "      <td>14</td>\n",
       "      <td>Light-Dedup</td>\n",
       "      <td>cheetah.cs.fiu.edu-110108-113008.1-2.blkparse</td>\n",
       "      <td>16</td>\n",
       "      <td>5660.55</td>\n",
       "      <td>3.472943</td>\n",
       "    </tr>\n",
       "  </tbody>\n",
       "</table>\n",
       "</div>"
      ],
      "text/plain": [
       "   index  file_system                                              trace  job  \\\n",
       "0      3  Light-Dedup                  homes-110108-112108.1-21.blkparse    8   \n",
       "1      4  Light-Dedup                  homes-110108-112108.1-21.blkparse   16   \n",
       "2      8  Light-Dedup  webmail+online.cs.fiu.edu-110108-113008.1-21.b...    8   \n",
       "3      9  Light-Dedup  webmail+online.cs.fiu.edu-110108-113008.1-21.b...   16   \n",
       "4     13  Light-Dedup      cheetah.cs.fiu.edu-110108-113008.1-2.blkparse    8   \n",
       "5     14  Light-Dedup      cheetah.cs.fiu.edu-110108-113008.1-2.blkparse   16   \n",
       "\n",
       "   bandwidth(MiB/s)  Light-Dedup/NOVA  \n",
       "0           2301.88          1.209136  \n",
       "1           1794.80          1.103121  \n",
       "2           2726.51          1.430398  \n",
       "3           2108.07          1.300531  \n",
       "4           4456.62          2.343296  \n",
       "5           5660.55          3.472943  "
      ]
     },
     "execution_count": 19,
     "metadata": {},
     "output_type": "execute_result"
    }
   ],
   "source": [
    "newdf = df[df['file_system'] == \"Light-Dedup\"][df[\"job\"] >= 8].reset_index()\n",
    "newdf[\"Light-Dedup/NOVA\"] = (df[df['file_system'] == \"Light-Dedup\"][df[\"job\"] >= 8][\"bandwidth(MiB/s)\"].reset_index() / df[df['file_system'] == \"NOVA\"][df[\"job\"] >= 8][\"bandwidth(MiB/s)\"].reset_index())[\"bandwidth(MiB/s)\"]\n",
    "newdf"
   ]
  }
 ],
 "metadata": {
  "kernelspec": {
   "display_name": "Python 3.6.9 64-bit",
   "language": "python",
   "name": "python3"
  },
  "language_info": {
   "codemirror_mode": {
    "name": "ipython",
    "version": 3
   },
   "file_extension": ".py",
   "mimetype": "text/x-python",
   "name": "python",
   "nbconvert_exporter": "python",
   "pygments_lexer": "ipython3",
   "version": "3.6.8"
  },
  "orig_nbformat": 4,
  "vscode": {
   "interpreter": {
    "hash": "31f2aee4e71d21fbe5cf8b01ff0e069b9275f58929596ceb00d14d90e3e16cd6"
   }
  }
 },
 "nbformat": 4,
 "nbformat_minor": 2
}

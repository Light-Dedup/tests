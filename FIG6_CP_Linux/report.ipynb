{
 "cells": [
  {
   "cell_type": "code",
   "execution_count": 3,
   "metadata": {},
   "outputs": [
    {
     "data": {
      "text/html": [
       "<div>\n",
       "<style scoped>\n",
       "    .dataframe tbody tr th:only-of-type {\n",
       "        vertical-align: middle;\n",
       "    }\n",
       "\n",
       "    .dataframe tbody tr th {\n",
       "        vertical-align: top;\n",
       "    }\n",
       "\n",
       "    .dataframe thead th {\n",
       "        text-align: right;\n",
       "    }\n",
       "</style>\n",
       "<table border=\"1\" class=\"dataframe\">\n",
       "  <thead>\n",
       "    <tr style=\"text-align: right;\">\n",
       "      <th></th>\n",
       "      <th>file_system</th>\n",
       "      <th>num_job</th>\n",
       "      <th>first_bw</th>\n",
       "      <th>second_bw</th>\n",
       "    </tr>\n",
       "  </thead>\n",
       "  <tbody>\n",
       "    <tr>\n",
       "      <th>0</th>\n",
       "      <td>Light-Dedup</td>\n",
       "      <td>1</td>\n",
       "      <td>1092</td>\n",
       "      <td>1247</td>\n",
       "    </tr>\n",
       "    <tr>\n",
       "      <th>1</th>\n",
       "      <td>Light-Dedup</td>\n",
       "      <td>2</td>\n",
       "      <td>1481</td>\n",
       "      <td>2115</td>\n",
       "    </tr>\n",
       "    <tr>\n",
       "      <th>2</th>\n",
       "      <td>Light-Dedup</td>\n",
       "      <td>3</td>\n",
       "      <td>1631</td>\n",
       "      <td>2741</td>\n",
       "    </tr>\n",
       "    <tr>\n",
       "      <th>3</th>\n",
       "      <td>Light-Dedup</td>\n",
       "      <td>4</td>\n",
       "      <td>1723</td>\n",
       "      <td>3154</td>\n",
       "    </tr>\n",
       "    <tr>\n",
       "      <th>4</th>\n",
       "      <td>Light-Dedup</td>\n",
       "      <td>5</td>\n",
       "      <td>1762</td>\n",
       "      <td>3381</td>\n",
       "    </tr>\n",
       "  </tbody>\n",
       "</table>\n",
       "</div>"
      ],
      "text/plain": [
       "   file_system  num_job  first_bw  second_bw\n",
       "0  Light-Dedup        1      1092       1247\n",
       "1  Light-Dedup        2      1481       2115\n",
       "2  Light-Dedup        3      1631       2741\n",
       "3  Light-Dedup        4      1723       3154\n",
       "4  Light-Dedup        5      1762       3381"
      ]
     },
     "execution_count": 3,
     "metadata": {},
     "output_type": "execute_result"
    }
   ],
   "source": [
    "import pandas as pd\n",
    "\n",
    "with open(\"./avg-test-result-in-paper\", \"r\") as f:\n",
    "    df = pd.read_csv(f, delim_whitespace=True, engine='python')\n",
    "df.head()"
   ]
  },
  {
   "cell_type": "markdown",
   "metadata": {},
   "source": [
    "- The improvement from of Light-Dedup compared to others"
   ]
  },
  {
   "cell_type": "code",
   "execution_count": 14,
   "metadata": {},
   "outputs": [
    {
     "name": "stdout",
     "output_type": "stream",
     "text": [
      "NOVA_MAX:  3.719665271966527\n",
      "NOVA_MIN:  1.1610800744878957\n",
      "SHA256_MAX:  4.07516339869281\n",
      "SHA256_MIN:  1.2207346378304154\n",
      "NV_MAX:  5.773148148148148\n",
      "NV_MIN:  1.8909574468085106\n"
     ]
    }
   ],
   "source": [
    "NOVA_MAX=(df[df[\"file_system\"] == \"Light-Dedup\"][\"second_bw\"].reset_index() / df[df[\"file_system\"] == \"NOVA\"][\"second_bw\"].reset_index()).max()\n",
    "NOVA_MIN=(df[df[\"file_system\"] == \"Light-Dedup\"][\"second_bw\"].reset_index() / df[df[\"file_system\"] == \"NOVA\"][\"second_bw\"].reset_index()).min()\n",
    "print(\"NOVA_MAX: \", NOVA_MAX.iloc[1])\n",
    "print(\"NOVA_MIN: \", NOVA_MIN.iloc[1])\n",
    "SHA256_MAX=(df[df[\"file_system\"] == \"Light-Dedup\"][\"second_bw\"].reset_index() / df[df[\"file_system\"] == \"Light-Dedup(SHA256)\"][\"second_bw\"].reset_index()).max()\n",
    "SHA256_MIN=(df[df[\"file_system\"] == \"Light-Dedup\"][\"second_bw\"].reset_index() / df[df[\"file_system\"] == \"Light-Dedup(SHA256)\"][\"second_bw\"].reset_index()).min()\n",
    "print(\"SHA256_MAX: \", SHA256_MAX.iloc[1])\n",
    "print(\"SHA256_MIN: \", SHA256_MIN.iloc[1])\n",
    "NV_MAX=(df[df[\"file_system\"] == \"Light-Dedup\"][\"second_bw\"].reset_index() / df[df[\"file_system\"] == \"NV-Dedup\"][\"second_bw\"].reset_index()).max()\n",
    "NV_MIN=(df[df[\"file_system\"] == \"Light-Dedup\"][\"second_bw\"].reset_index() / df[df[\"file_system\"] == \"NV-Dedup\"][\"second_bw\"].reset_index()).min()\n",
    "print(\"NV_MAX: \", NV_MAX.iloc[1])\n",
    "print(\"NV_MIN: \", NV_MIN.iloc[1])"
   ]
  }
 ],
 "metadata": {
  "kernelspec": {
   "display_name": "Python 3.6.8 64-bit",
   "language": "python",
   "name": "python3"
  },
  "language_info": {
   "codemirror_mode": {
    "name": "ipython",
    "version": 3
   },
   "file_extension": ".py",
   "mimetype": "text/x-python",
   "name": "python",
   "nbconvert_exporter": "python",
   "pygments_lexer": "ipython3",
   "version": "3.6.8"
  },
  "orig_nbformat": 4,
  "vscode": {
   "interpreter": {
    "hash": "916dbcbb3f70747c44a77c7bcd40155683ae19c65e1c03b4aa3499c5328201f1"
   }
  }
 },
 "nbformat": 4,
 "nbformat_minor": 2
}

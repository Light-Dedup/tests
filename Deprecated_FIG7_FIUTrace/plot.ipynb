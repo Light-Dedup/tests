{
 "cells": [
  {
   "cell_type": "code",
   "execution_count": 1,
   "metadata": {},
   "outputs": [
    {
     "ename": "SyntaxError",
     "evalue": "EOL while scanning string literal (<ipython-input-1-0cb4c4db9877>, line 72)",
     "output_type": "error",
     "traceback": [
      "\u001b[0;36m  File \u001b[0;32m\"<ipython-input-1-0cb4c4db9877>\"\u001b[0;36m, line \u001b[0;32m72\u001b[0m\n\u001b[0;31m    fss = fss.replace(\"Light-Dedup(SHA256)\", \"Light-Dedup-SHA256))\u001b[0m\n\u001b[0m                                                                  ^\u001b[0m\n\u001b[0;31mSyntaxError\u001b[0m\u001b[0;31m:\u001b[0m EOL while scanning string literal\n"
     ]
    }
   ],
   "source": [
    "# ipython -c \"%run plot.ipynb\"\n",
    "\n",
    "import matplotlib\n",
    "import matplotlib.pyplot as plt\n",
    "from matplotlib import style\n",
    "import pandas as pd\n",
    "\n",
    "# Paper specific settings\n",
    "STANDARD_WIDTH = 17.8\n",
    "SINGLE_COL_WIDTH = STANDARD_WIDTH / 2\n",
    "DOUBLE_COL_WIDTH = STANDARD_WIDTH\n",
    "def cm_to_inch(value):\n",
    "    return value/2.54\n",
    "    \n",
    "# matplotlib style settings\n",
    "matplotlib.rcParams['text.usetex'] = False\n",
    "style.use('seaborn-white')\n",
    "plt.rcParams[\"axes.grid\"] = True\n",
    "plt.rcParams[\"axes.grid.axis\"] = \"y\"\n",
    "plt.rcParams[\"grid.linewidth\"] = 0.8\n",
    "plt.rcParams[\"font.family\"] = \"Nimbus Roman\"\n",
    "pd.options.display.max_columns = None\n",
    "pd.options.display.max_rows = None\n",
    "\n",
    "\n",
    "# Data Preprocessing\n",
    "with open(\"./performance-comparison-table\", \"r\") as f:\n",
    "# with open(\"./performance-comparison-table-append\", \"r\") as f:\n",
    "    df = pd.read_csv(f, delim_whitespace=True, index_col=None, engine='python')\n",
    "\n",
    "# Plotting Settings\n",
    "fig = plt.figure(dpi = 300, figsize = (cm_to_inch(SINGLE_COL_WIDTH), cm_to_inch(9)))\n",
    "bar_width = 0.2\n",
    "subfig_titles_blk = [\"(a) Homes-Blk\", \"(b) VMs-Blk\", \"(c) Mails-Blk\"]\n",
    "subfig_titles_real = [\"(d) Homes-Batch\", \"(e) VMs-Batch\", \"(f) Mails-Batch\"]\n",
    "patterns = ['///', '\\\\\\\\\\\\', '', 'XXX']\n",
    "# Reference: https://designbro.com/blog/inspiration/color-combinations/\n",
    "colors = [\"#E8F9FD\", \"#79DAE8\", \"#0AA1DD\", \"#2155CD\"]\n",
    "traces = [\"homes-110108-112108.1-21.blkparse\", \"webmail+online.cs.fiu.edu-110108-113008.1-21.blkparse\", \"cheetah.cs.fiu.edu-110108-113008.1-2.blkparse\"]\n",
    "cblks = [ 1, 512 ]\n",
    "\n",
    "for i in range(2):\n",
    "    for j in range(3):\n",
    "        subfig = plt.subplot(3, 2, i + 1 + 2 * j)\n",
    "        trace = traces[j]\n",
    "        x = [1, 2, 3, 4, 5]\n",
    "        x_label = df['job'].drop_duplicates().reset_index().drop(columns=['index'])['job']\n",
    "        fss = df['file_system'].drop_duplicates().reset_index().drop(columns=['index'])['file_system']\n",
    "        tot = len(fss) * bar_width\n",
    "        for idx, fs in enumerate(fss):\n",
    "            points = []\n",
    "            for pivot in x:\n",
    "                point = pivot - tot / 2 + bar_width / 2 + idx * bar_width\n",
    "                points.append(point)\n",
    "            plt.bar(points, df[(df['file_system'] == fs) & (df['cblks'] == cblks[i]) & (df['trace'] == trace)]['bandwidth(MiB/s)'] / 1024, width=bar_width, hatch=patterns[idx], edgecolor='black', color=colors[idx])\n",
    "            plt.xticks(x, labels=x_label, fontsize=8)\n",
    "\n",
    "        # Draw title\n",
    "        subfig.text(0.5, -0.25, \"Threads (#.)\", ha='center', va='center', fontsize=6, transform=subfig.transAxes)\n",
    "        if i == 0 and j == 1:\n",
    "            plt.ylabel('Throughput (GiB/s)', fontsize=8)\n",
    "        if (j != 2):\n",
    "            plt.yticks([0, 1, 2, 3], fontsize=8)\n",
    "        else:\n",
    "            plt.yticks([0, 2, 4, 6], fontsize=8)\n",
    "\n",
    "        if i == 0:\n",
    "            plt.xlabel(subfig_titles_blk[j], labelpad = 4, fontsize=8)\n",
    "        else:\n",
    "            plt.xlabel(subfig_titles_real[j], labelpad = 4, fontsize=8)\n",
    "\n",
    "fss = fss.replace(\"Light-Dedup(SHA256)\", \"Light-Dedup-SHA256\")\n",
    "fig.legend(fss, loc='center', bbox_to_anchor=(0.5, 1), ncol=2, fontsize=8)\n",
    "plt.tight_layout()\n",
    "plt.savefig(\"./FIG-Trace.pdf\", bbox_inches='tight', pad_inches=0)\n"
   ]
  }
 ],
 "metadata": {
  "kernelspec": {
   "display_name": "Python 3.6.8 64-bit",
   "language": "python",
   "name": "python3"
  },
  "language_info": {
   "codemirror_mode": {
    "name": "ipython",
    "version": 3
   },
   "file_extension": ".py",
   "mimetype": "text/x-python",
   "name": "python",
   "nbconvert_exporter": "python",
   "pygments_lexer": "ipython3",
   "version": "3.6.8"
  },
  "orig_nbformat": 4,
  "vscode": {
   "interpreter": {
    "hash": "916dbcbb3f70747c44a77c7bcd40155683ae19c65e1c03b4aa3499c5328201f1"
   }
  }
 },
 "nbformat": 4,
 "nbformat_minor": 2
}

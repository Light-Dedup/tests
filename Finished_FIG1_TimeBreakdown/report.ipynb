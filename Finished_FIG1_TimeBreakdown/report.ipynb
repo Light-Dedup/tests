{
 "cells": [
  {
   "cell_type": "code",
   "execution_count": 1,
   "metadata": {},
   "outputs": [
    {
     "data": {
      "text/html": [
       "<div>\n",
       "<style scoped>\n",
       "    .dataframe tbody tr th:only-of-type {\n",
       "        vertical-align: middle;\n",
       "    }\n",
       "\n",
       "    .dataframe tbody tr th {\n",
       "        vertical-align: top;\n",
       "    }\n",
       "\n",
       "    .dataframe thead th {\n",
       "        text-align: right;\n",
       "    }\n",
       "</style>\n",
       "<table border=\"1\" class=\"dataframe\">\n",
       "  <thead>\n",
       "    <tr style=\"text-align: right;\">\n",
       "      <th></th>\n",
       "      <th>dup_rate</th>\n",
       "      <th>whole_time</th>\n",
       "      <th>strong_fp_time</th>\n",
       "      <th>weak_fp_time</th>\n",
       "      <th>IO_time</th>\n",
       "      <th>others</th>\n",
       "      <th>bw</th>\n",
       "    </tr>\n",
       "  </thead>\n",
       "  <tbody>\n",
       "    <tr>\n",
       "      <th>0</th>\n",
       "      <td>0</td>\n",
       "      <td>4276055271</td>\n",
       "      <td>754581</td>\n",
       "      <td>183402346</td>\n",
       "      <td>1068507702</td>\n",
       "      <td>3023390642</td>\n",
       "      <td>740</td>\n",
       "    </tr>\n",
       "    <tr>\n",
       "      <th>1</th>\n",
       "      <td>25</td>\n",
       "      <td>6381141441</td>\n",
       "      <td>2196873430</td>\n",
       "      <td>249276758</td>\n",
       "      <td>927598528</td>\n",
       "      <td>3007392725</td>\n",
       "      <td>532</td>\n",
       "    </tr>\n",
       "    <tr>\n",
       "      <th>2</th>\n",
       "      <td>50</td>\n",
       "      <td>9028643378</td>\n",
       "      <td>5382168093</td>\n",
       "      <td>339349380</td>\n",
       "      <td>554522495</td>\n",
       "      <td>2752603410</td>\n",
       "      <td>401</td>\n",
       "    </tr>\n",
       "    <tr>\n",
       "      <th>3</th>\n",
       "      <td>75</td>\n",
       "      <td>9512604051</td>\n",
       "      <td>6112296841</td>\n",
       "      <td>379279919</td>\n",
       "      <td>243543401</td>\n",
       "      <td>2777483890</td>\n",
       "      <td>384</td>\n",
       "    </tr>\n",
       "  </tbody>\n",
       "</table>\n",
       "</div>"
      ],
      "text/plain": [
       "   dup_rate  whole_time  strong_fp_time  weak_fp_time     IO_time      others  \\\n",
       "0         0  4276055271          754581     183402346  1068507702  3023390642   \n",
       "1        25  6381141441      2196873430     249276758   927598528  3007392725   \n",
       "2        50  9028643378      5382168093     339349380   554522495  2752603410   \n",
       "3        75  9512604051      6112296841     379279919   243543401  2777483890   \n",
       "\n",
       "    bw  \n",
       "0  740  \n",
       "1  532  \n",
       "2  401  \n",
       "3  384  "
      ]
     },
     "execution_count": 1,
     "metadata": {},
     "output_type": "execute_result"
    }
   ],
   "source": [
    "import pandas as pd\n",
    "\n",
    "with open(\"./avg-test-result-in-paper\", \"r\") as f:\n",
    "    df = pd.read_csv(f, delim_whitespace=True, engine='python')\n",
    "df.head()"
   ]
  },
  {
   "cell_type": "markdown",
   "metadata": {},
   "source": [
    "- How much performance degradation when dup ratio is 75% compared to 0%?"
   ]
  },
  {
   "cell_type": "code",
   "execution_count": 7,
   "metadata": {},
   "outputs": [
    {
     "name": "stdout",
     "output_type": "stream",
     "text": [
      "48.10810810810811\n"
     ]
    }
   ],
   "source": [
    "print(((df[df[\"dup_rate\"] == 0][\"bw\"].reset_index() - df[df[\"dup_rate\"] == 75][\"bw\"].reset_index()) / df[df[\"dup_rate\"] == 0][\"bw\"].reset_index())[\"bw\"].iloc[0] * 100)"
   ]
  },
  {
   "cell_type": "markdown",
   "metadata": {},
   "source": [
    "- When the duplication ratio is up to 75%, how much strong fingerprinting calculation time dominate the whole block writing time"
   ]
  },
  {
   "cell_type": "code",
   "execution_count": 14,
   "metadata": {},
   "outputs": [
    {
     "name": "stdout",
     "output_type": "stream",
     "text": [
      "0.6425471730169883\n"
     ]
    }
   ],
   "source": [
    "print(((df[df[\"dup_rate\"] == 75][\"strong_fp_time\"] / df[df[\"dup_rate\"] == 75][\"whole_time\"])).reset_index().reset_index()[0].iloc[0] * 100)"
   ]
  }
 ],
 "metadata": {
  "kernelspec": {
   "display_name": "Python 3.6.8 64-bit",
   "language": "python",
   "name": "python3"
  },
  "language_info": {
   "codemirror_mode": {
    "name": "ipython",
    "version": 3
   },
   "file_extension": ".py",
   "mimetype": "text/x-python",
   "name": "python",
   "nbconvert_exporter": "python",
   "pygments_lexer": "ipython3",
   "version": "3.6.8"
  },
  "orig_nbformat": 4,
  "vscode": {
   "interpreter": {
    "hash": "916dbcbb3f70747c44a77c7bcd40155683ae19c65e1c03b4aa3499c5328201f1"
   }
  }
 },
 "nbformat": 4,
 "nbformat_minor": 2
}

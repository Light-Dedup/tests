{
 "cells": [
  {
   "cell_type": "code",
   "execution_count": 1,
   "metadata": {},
   "outputs": [
    {
     "data": {
      "text/html": [
       "<div>\n",
       "<style scoped>\n",
       "    .dataframe tbody tr th:only-of-type {\n",
       "        vertical-align: middle;\n",
       "    }\n",
       "\n",
       "    .dataframe tbody tr th {\n",
       "        vertical-align: top;\n",
       "    }\n",
       "\n",
       "    .dataframe thead th {\n",
       "        text-align: right;\n",
       "    }\n",
       "</style>\n",
       "<table border=\"1\" class=\"dataframe\">\n",
       "  <thead>\n",
       "    <tr style=\"text-align: right;\">\n",
       "      <th></th>\n",
       "      <th>file_system</th>\n",
       "      <th>num_job</th>\n",
       "      <th>first_bandwidth(MiB/s)</th>\n",
       "      <th>second_bandwidth(MiB/s)</th>\n",
       "    </tr>\n",
       "  </thead>\n",
       "  <tbody>\n",
       "    <tr>\n",
       "      <th>0</th>\n",
       "      <td>Prefetch-Next+Speculation</td>\n",
       "      <td>1</td>\n",
       "      <td>1433</td>\n",
       "      <td>1242</td>\n",
       "    </tr>\n",
       "    <tr>\n",
       "      <th>1</th>\n",
       "      <td>Prefetch-Next+Speculation</td>\n",
       "      <td>2</td>\n",
       "      <td>1833</td>\n",
       "      <td>1824</td>\n",
       "    </tr>\n",
       "    <tr>\n",
       "      <th>2</th>\n",
       "      <td>Prefetch-Next+Speculation</td>\n",
       "      <td>4</td>\n",
       "      <td>2094</td>\n",
       "      <td>2635</td>\n",
       "    </tr>\n",
       "    <tr>\n",
       "      <th>3</th>\n",
       "      <td>Prefetch-Next+Speculation</td>\n",
       "      <td>8</td>\n",
       "      <td>2109</td>\n",
       "      <td>3186</td>\n",
       "    </tr>\n",
       "    <tr>\n",
       "      <th>4</th>\n",
       "      <td>Prefetch-Next+Speculation</td>\n",
       "      <td>16</td>\n",
       "      <td>1388</td>\n",
       "      <td>3158</td>\n",
       "    </tr>\n",
       "  </tbody>\n",
       "</table>\n",
       "</div>"
      ],
      "text/plain": [
       "                 file_system  num_job  first_bandwidth(MiB/s)  \\\n",
       "0  Prefetch-Next+Speculation        1                    1433   \n",
       "1  Prefetch-Next+Speculation        2                    1833   \n",
       "2  Prefetch-Next+Speculation        4                    2094   \n",
       "3  Prefetch-Next+Speculation        8                    2109   \n",
       "4  Prefetch-Next+Speculation       16                    1388   \n",
       "\n",
       "   second_bandwidth(MiB/s)  \n",
       "0                     1242  \n",
       "1                     1824  \n",
       "2                     2635  \n",
       "3                     3186  \n",
       "4                     3158  "
      ]
     },
     "execution_count": 1,
     "metadata": {},
     "output_type": "execute_result"
    }
   ],
   "source": [
    "import pandas as pd\n",
    "\n",
    "with open(\"./avg-test-result-in-paper\", \"r\") as f:\n",
    "    df = pd.read_csv(f, delim_whitespace=True, engine='python')\n",
    "df.head()"
   ]
  },
  {
   "cell_type": "markdown",
   "metadata": {},
   "source": [
    "- How much performance improvment of Prefetch-Next+Speculation under single threads"
   ]
  },
  {
   "cell_type": "code",
   "execution_count": 8,
   "metadata": {},
   "outputs": [
    {
     "name": "stdout",
     "output_type": "stream",
     "text": [
      "0    1.466352\n",
      "Name: second_bandwidth(MiB/s), dtype: float64\n",
      "0    1.252016\n",
      "Name: second_bandwidth(MiB/s), dtype: float64\n"
     ]
    }
   ],
   "source": [
    "print(df[(df[\"num_job\"] == 1) & (df[\"file_system\"] == \"Prefetch-Next+Speculation\")][\"second_bandwidth(MiB/s)\"] / min(df[df[\"num_job\"] == 1][\"second_bandwidth(MiB/s)\"]))\n",
    "\n",
    "print(df[(df[\"num_job\"] == 1) & (df[\"file_system\"] == \"Prefetch-Next+Speculation\")][\"second_bandwidth(MiB/s)\"] / max(df[(df[\"num_job\"] == 1) & (df[\"file_system\"] != \"Prefetch-Next+Speculation\")][\"second_bandwidth(MiB/s)\"]))"
   ]
  },
  {
   "cell_type": "markdown",
   "metadata": {},
   "source": [
    "- How much performance is Prefecth-Current faster than others"
   ]
  },
  {
   "cell_type": "code",
   "execution_count": 9,
   "metadata": {},
   "outputs": [
    {
     "name": "stdout",
     "output_type": "stream",
     "text": [
      "16    1.468822\n",
      "Name: second_bandwidth(MiB/s), dtype: float64\n",
      "16    1.046053\n",
      "Name: second_bandwidth(MiB/s), dtype: float64\n"
     ]
    }
   ],
   "source": [
    "print(df[(df[\"num_job\"] == 2) & (df[\"file_system\"] == \"Prefetch-Current\")][\"second_bandwidth(MiB/s)\"] / min(df[df[\"num_job\"] == 2][\"second_bandwidth(MiB/s)\"]))\n",
    "\n",
    "print(df[(df[\"num_job\"] == 2) & (df[\"file_system\"] == \"Prefetch-Current\")][\"second_bandwidth(MiB/s)\"] / max(df[(df[\"num_job\"] == 2) & (df[\"file_system\"] != \"Prefetch-Current\")][\"second_bandwidth(MiB/s)\"]))"
   ]
  },
  {
   "cell_type": "code",
   "execution_count": 10,
   "metadata": {},
   "outputs": [
    {
     "name": "stdout",
     "output_type": "stream",
     "text": [
      "17    1.59032\n",
      "Name: second_bandwidth(MiB/s), dtype: float64\n",
      "17    1.062969\n",
      "Name: second_bandwidth(MiB/s), dtype: float64\n"
     ]
    }
   ],
   "source": [
    "print(df[(df[\"num_job\"] == 4) & (df[\"file_system\"] == \"Prefetch-Current\")][\"second_bandwidth(MiB/s)\"] / min(df[df[\"num_job\"] == 4][\"second_bandwidth(MiB/s)\"]))\n",
    "\n",
    "print(df[(df[\"num_job\"] == 4) & (df[\"file_system\"] == \"Prefetch-Current\")][\"second_bandwidth(MiB/s)\"] / max(df[(df[\"num_job\"] == 4) & (df[\"file_system\"] != \"Prefetch-Current\")][\"second_bandwidth(MiB/s)\"]))"
   ]
  },
  {
   "cell_type": "markdown",
   "metadata": {},
   "source": [
    "- How much performance is Speculation faster than others"
   ]
  },
  {
   "cell_type": "code",
   "execution_count": 12,
   "metadata": {},
   "outputs": [
    {
     "name": "stdout",
     "output_type": "stream",
     "text": [
      "13    1.840996\n",
      "Name: second_bandwidth(MiB/s), dtype: float64\n",
      "13    1.073343\n",
      "Name: second_bandwidth(MiB/s), dtype: float64\n"
     ]
    }
   ],
   "source": [
    "print(df[(df[\"num_job\"] == 8) & (df[\"file_system\"] == \"Speculation\")][\"second_bandwidth(MiB/s)\"] / min(df[df[\"num_job\"] == 8][\"second_bandwidth(MiB/s)\"]))\n",
    "\n",
    "print(df[(df[\"num_job\"] == 8) & (df[\"file_system\"] == \"Speculation\")][\"second_bandwidth(MiB/s)\"] / max(df[(df[\"num_job\"] == 8) & (df[\"file_system\"] != \"Speculation\")][\"second_bandwidth(MiB/s)\"]))"
   ]
  },
  {
   "cell_type": "code",
   "execution_count": 11,
   "metadata": {},
   "outputs": [
    {
     "name": "stdout",
     "output_type": "stream",
     "text": [
      "14    1.925586\n",
      "Name: second_bandwidth(MiB/s), dtype: float64\n",
      "14    1.023565\n",
      "Name: second_bandwidth(MiB/s), dtype: float64\n"
     ]
    }
   ],
   "source": [
    "print(df[(df[\"num_job\"] == 16) & (df[\"file_system\"] == \"Speculation\")][\"second_bandwidth(MiB/s)\"] / min(df[df[\"num_job\"] == 16][\"second_bandwidth(MiB/s)\"]))\n",
    "\n",
    "print(df[(df[\"num_job\"] == 16) & (df[\"file_system\"] == \"Speculation\")][\"second_bandwidth(MiB/s)\"] / max(df[(df[\"num_job\"] == 16) & (df[\"file_system\"] != \"Speculation\")][\"second_bandwidth(MiB/s)\"]))"
   ]
  }
 ],
 "metadata": {
  "kernelspec": {
   "display_name": "Python 3.6.8 64-bit",
   "language": "python",
   "name": "python3"
  },
  "language_info": {
   "codemirror_mode": {
    "name": "ipython",
    "version": 3
   },
   "file_extension": ".py",
   "mimetype": "text/x-python",
   "name": "python",
   "nbconvert_exporter": "python",
   "pygments_lexer": "ipython3",
   "version": "3.6.8"
  },
  "orig_nbformat": 4,
  "vscode": {
   "interpreter": {
    "hash": "916dbcbb3f70747c44a77c7bcd40155683ae19c65e1c03b4aa3499c5328201f1"
   }
  }
 },
 "nbformat": 4,
 "nbformat_minor": 2
}

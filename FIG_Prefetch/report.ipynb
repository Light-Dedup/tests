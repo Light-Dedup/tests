{
 "cells": [
  {
   "cell_type": "code",
   "execution_count": 1,
   "metadata": {},
   "outputs": [
    {
     "data": {
      "text/html": [
       "<div>\n",
       "<style scoped>\n",
       "    .dataframe tbody tr th:only-of-type {\n",
       "        vertical-align: middle;\n",
       "    }\n",
       "\n",
       "    .dataframe tbody tr th {\n",
       "        vertical-align: top;\n",
       "    }\n",
       "\n",
       "    .dataframe thead th {\n",
       "        text-align: right;\n",
       "    }\n",
       "</style>\n",
       "<table border=\"1\" class=\"dataframe\">\n",
       "  <thead>\n",
       "    <tr style=\"text-align: right;\">\n",
       "      <th></th>\n",
       "      <th>file_system</th>\n",
       "      <th>num_job</th>\n",
       "      <th>first_bandwidth(MiB/s)</th>\n",
       "      <th>second_bandwidth(MiB/s)</th>\n",
       "      <th>second_cmp_lat(ns)</th>\n",
       "      <th>second_fp_lat(ns)</th>\n",
       "      <th>second_prefetch_lat(ns)</th>\n",
       "      <th>second_lookup_lat(ns)</th>\n",
       "      <th>second_others_lat(ns)</th>\n",
       "      <th>second_lat(ns)</th>\n",
       "    </tr>\n",
       "  </thead>\n",
       "  <tbody>\n",
       "    <tr>\n",
       "      <th>0</th>\n",
       "      <td>Naive</td>\n",
       "      <td>1</td>\n",
       "      <td>1479</td>\n",
       "      <td>815</td>\n",
       "      <td>53184645460</td>\n",
       "      <td>5049257122</td>\n",
       "      <td>0</td>\n",
       "      <td>3754197887</td>\n",
       "      <td>9468614908</td>\n",
       "      <td>71456715378</td>\n",
       "    </tr>\n",
       "    <tr>\n",
       "      <th>1</th>\n",
       "      <td>Prefetch-Cmp-64</td>\n",
       "      <td>1</td>\n",
       "      <td>1467</td>\n",
       "      <td>1077</td>\n",
       "      <td>32674867493</td>\n",
       "      <td>5049242181</td>\n",
       "      <td>0</td>\n",
       "      <td>3717663995</td>\n",
       "      <td>10446359630</td>\n",
       "      <td>51888133301</td>\n",
       "    </tr>\n",
       "    <tr>\n",
       "      <th>2</th>\n",
       "      <td>Prefetch-Cmp-256-64</td>\n",
       "      <td>1</td>\n",
       "      <td>1476</td>\n",
       "      <td>1282</td>\n",
       "      <td>24716264357</td>\n",
       "      <td>4989453174</td>\n",
       "      <td>0</td>\n",
       "      <td>3723972768</td>\n",
       "      <td>8723803092</td>\n",
       "      <td>42153493393</td>\n",
       "    </tr>\n",
       "    <tr>\n",
       "      <th>3</th>\n",
       "      <td>Prefetch-Current</td>\n",
       "      <td>1</td>\n",
       "      <td>1611</td>\n",
       "      <td>1481</td>\n",
       "      <td>16658130822</td>\n",
       "      <td>4991843710</td>\n",
       "      <td>2270887855</td>\n",
       "      <td>4023920546</td>\n",
       "      <td>7377165443</td>\n",
       "      <td>35321948378</td>\n",
       "    </tr>\n",
       "    <tr>\n",
       "      <th>4</th>\n",
       "      <td>Speculation</td>\n",
       "      <td>1</td>\n",
       "      <td>1452</td>\n",
       "      <td>1729</td>\n",
       "      <td>25715062960</td>\n",
       "      <td>128955848</td>\n",
       "      <td>0</td>\n",
       "      <td>20045875</td>\n",
       "      <td>3088250357</td>\n",
       "      <td>28952315040</td>\n",
       "    </tr>\n",
       "  </tbody>\n",
       "</table>\n",
       "</div>"
      ],
      "text/plain": [
       "           file_system  num_job  first_bandwidth(MiB/s)  \\\n",
       "0                Naive        1                    1479   \n",
       "1      Prefetch-Cmp-64        1                    1467   \n",
       "2  Prefetch-Cmp-256-64        1                    1476   \n",
       "3     Prefetch-Current        1                    1611   \n",
       "4          Speculation        1                    1452   \n",
       "\n",
       "   second_bandwidth(MiB/s)  second_cmp_lat(ns)  second_fp_lat(ns)  \\\n",
       "0                      815         53184645460         5049257122   \n",
       "1                     1077         32674867493         5049242181   \n",
       "2                     1282         24716264357         4989453174   \n",
       "3                     1481         16658130822         4991843710   \n",
       "4                     1729         25715062960          128955848   \n",
       "\n",
       "   second_prefetch_lat(ns)  second_lookup_lat(ns)  second_others_lat(ns)  \\\n",
       "0                        0             3754197887             9468614908   \n",
       "1                        0             3717663995            10446359630   \n",
       "2                        0             3723972768             8723803092   \n",
       "3               2270887855             4023920546             7377165443   \n",
       "4                        0               20045875             3088250357   \n",
       "\n",
       "   second_lat(ns)  \n",
       "0     71456715378  \n",
       "1     51888133301  \n",
       "2     42153493393  \n",
       "3     35321948378  \n",
       "4     28952315040  "
      ]
     },
     "execution_count": 1,
     "metadata": {},
     "output_type": "execute_result"
    }
   ],
   "source": [
    "import pandas as pd\n",
    "\n",
    "with open(\"./avg-test-result-single-in-paper\", \"r\") as f:\n",
    "    df_single = pd.read_csv(f, delim_whitespace=True, engine='python')\n",
    "df_single.head()"
   ]
  },
  {
   "cell_type": "markdown",
   "metadata": {},
   "source": [
    "- How much performance improvement does Prefetch-Cmp-64 compared to Naive"
   ]
  },
  {
   "cell_type": "code",
   "execution_count": 2,
   "metadata": {},
   "outputs": [
    {
     "name": "stdout",
     "output_type": "stream",
     "text": [
      "x: 1.3214723926380367\n"
     ]
    }
   ],
   "source": [
    "x = df_single[(df_single[\"num_job\"] == 1) & (df_single[\"file_system\"] == \"Prefetch-Cmp-64\")][\"second_bandwidth(MiB/s)\"].iloc[0] / df_single[(df_single[\"num_job\"] == 1) & (df_single[\"file_system\"] == \"Naive\")][\"second_bandwidth(MiB/s)\"].iloc[0]\n",
    "print(\"x: \" + str(x))"
   ]
  },
  {
   "cell_type": "markdown",
   "metadata": {},
   "source": [
    "- How much performance improvement does Prefetch-Cmp-256-64 compared to Prefetch-Cmp-64"
   ]
  },
  {
   "cell_type": "code",
   "execution_count": null,
   "metadata": {},
   "outputs": [],
   "source": [
    "x = df_single[(df_single[\"num_job\"] == 1) & (df_single[\"file_system\"] == \"Prefetch-Cmp-256-64\")][\"second_bandwidth(MiB/s)\"].iloc[0] / df_single[(df_single[\"num_job\"] == 1) & (df_single[\"file_system\"] == \"Prefetch-Cmp-64\")][\"second_bandwidth(MiB/s)\"].iloc[0]\n",
    "print(\"x: \" + str(x))"
   ]
  },
  {
   "cell_type": "code",
   "execution_count": 1,
   "metadata": {},
   "outputs": [
    {
     "data": {
      "text/html": [
       "<div>\n",
       "<style scoped>\n",
       "    .dataframe tbody tr th:only-of-type {\n",
       "        vertical-align: middle;\n",
       "    }\n",
       "\n",
       "    .dataframe tbody tr th {\n",
       "        vertical-align: top;\n",
       "    }\n",
       "\n",
       "    .dataframe thead th {\n",
       "        text-align: right;\n",
       "    }\n",
       "</style>\n",
       "<table border=\"1\" class=\"dataframe\">\n",
       "  <thead>\n",
       "    <tr style=\"text-align: right;\">\n",
       "      <th></th>\n",
       "      <th>file_system</th>\n",
       "      <th>num_job</th>\n",
       "      <th>first_bandwidth(MiB/s)</th>\n",
       "      <th>second_bandwidth(MiB/s)</th>\n",
       "      <th>second_cmp_lat(ns)</th>\n",
       "      <th>second_fp_lat(ns)</th>\n",
       "      <th>second_prefetch_lat(ns)</th>\n",
       "      <th>second_lookup_lat(ns)</th>\n",
       "      <th>second_others_lat(ns)</th>\n",
       "      <th>second_lat(ns)</th>\n",
       "    </tr>\n",
       "  </thead>\n",
       "  <tbody>\n",
       "    <tr>\n",
       "      <th>0</th>\n",
       "      <td>Speculation-No-Calc</td>\n",
       "      <td>1</td>\n",
       "      <td>1438</td>\n",
       "      <td>1486</td>\n",
       "      <td>31879495669</td>\n",
       "      <td>127120938</td>\n",
       "      <td>0</td>\n",
       "      <td>16619173</td>\n",
       "      <td>3.098483e+09</td>\n",
       "      <td>35121718669</td>\n",
       "    </tr>\n",
       "    <tr>\n",
       "      <th>1</th>\n",
       "      <td>Speculation-No-Calc</td>\n",
       "      <td>2</td>\n",
       "      <td>1921</td>\n",
       "      <td>2825</td>\n",
       "      <td>33462336482</td>\n",
       "      <td>117677668</td>\n",
       "      <td>0</td>\n",
       "      <td>18640192</td>\n",
       "      <td>3.208706e+09</td>\n",
       "      <td>36807360457</td>\n",
       "    </tr>\n",
       "    <tr>\n",
       "      <th>2</th>\n",
       "      <td>Speculation-No-Calc</td>\n",
       "      <td>3</td>\n",
       "      <td>2065</td>\n",
       "      <td>4084</td>\n",
       "      <td>34847941684</td>\n",
       "      <td>191066761</td>\n",
       "      <td>0</td>\n",
       "      <td>41858937</td>\n",
       "      <td>3.429105e+09</td>\n",
       "      <td>38509972329</td>\n",
       "    </tr>\n",
       "    <tr>\n",
       "      <th>3</th>\n",
       "      <td>Speculation-No-Calc</td>\n",
       "      <td>4</td>\n",
       "      <td>2103</td>\n",
       "      <td>5121</td>\n",
       "      <td>37896349373</td>\n",
       "      <td>115888393</td>\n",
       "      <td>0</td>\n",
       "      <td>19031742</td>\n",
       "      <td>3.298242e+09</td>\n",
       "      <td>41329511962</td>\n",
       "    </tr>\n",
       "    <tr>\n",
       "      <th>4</th>\n",
       "      <td>Speculation-No-Calc</td>\n",
       "      <td>5</td>\n",
       "      <td>2162</td>\n",
       "      <td>5644</td>\n",
       "      <td>44367047188</td>\n",
       "      <td>191075356</td>\n",
       "      <td>0</td>\n",
       "      <td>42634390</td>\n",
       "      <td>3.483416e+09</td>\n",
       "      <td>48084172479</td>\n",
       "    </tr>\n",
       "  </tbody>\n",
       "</table>\n",
       "</div>"
      ],
      "text/plain": [
       "           file_system  num_job  first_bandwidth(MiB/s)  \\\n",
       "0  Speculation-No-Calc        1                    1438   \n",
       "1  Speculation-No-Calc        2                    1921   \n",
       "2  Speculation-No-Calc        3                    2065   \n",
       "3  Speculation-No-Calc        4                    2103   \n",
       "4  Speculation-No-Calc        5                    2162   \n",
       "\n",
       "   second_bandwidth(MiB/s)  second_cmp_lat(ns)  second_fp_lat(ns)  \\\n",
       "0                     1486         31879495669          127120938   \n",
       "1                     2825         33462336482          117677668   \n",
       "2                     4084         34847941684          191066761   \n",
       "3                     5121         37896349373          115888393   \n",
       "4                     5644         44367047188          191075356   \n",
       "\n",
       "   second_prefetch_lat(ns)  second_lookup_lat(ns)  second_others_lat(ns)  \\\n",
       "0                        0               16619173           3.098483e+09   \n",
       "1                        0               18640192           3.208706e+09   \n",
       "2                        0               41858937           3.429105e+09   \n",
       "3                        0               19031742           3.298242e+09   \n",
       "4                        0               42634390           3.483416e+09   \n",
       "\n",
       "   second_lat(ns)  \n",
       "0     35121718669  \n",
       "1     36807360457  \n",
       "2     38509972329  \n",
       "3     41329511962  \n",
       "4     48084172479  "
      ]
     },
     "execution_count": 1,
     "metadata": {},
     "output_type": "execute_result"
    }
   ],
   "source": [
    "import pandas as pd\n",
    "\n",
    "with open(\"./avg-test-result-multi-in-paper\", \"r\") as f:\n",
    "    df_multi = pd.read_csv(f, delim_whitespace=True, engine='python')\n",
    "df_multi.head()"
   ]
  },
  {
   "cell_type": "markdown",
   "metadata": {},
   "source": [
    "- How much performance improvement of Prefetch-Next compared to Speculation when #. threads <= 5"
   ]
  },
  {
   "cell_type": "code",
   "execution_count": 5,
   "metadata": {},
   "outputs": [
    {
     "name": "stdout",
     "output_type": "stream",
     "text": [
      "x: 1.2772543741588156\n",
      "x: 1.288141592920354\n",
      "x: 1.2203721841332027\n",
      "x: 1.1025190392501465\n",
      "x: 1.0660878809355068\n"
     ]
    }
   ],
   "source": [
    "for thread in range(1, 6):\n",
    "    x = df_multi[(df_multi[\"num_job\"] == thread) & (df_multi[\"file_system\"] == \"Prefetch-Next\")][\"second_bandwidth(MiB/s)\"].iloc[0] / df_multi[(df_multi[\"num_job\"] == thread) & (df_multi[\"file_system\"] == \"Speculation-No-Calc\")][\"second_bandwidth(MiB/s)\"].iloc[0]\n",
    "    print(\"x: \" + str(x))"
   ]
  },
  {
   "cell_type": "markdown",
   "metadata": {},
   "source": [
    "- How much performance improvement of Speculation compared to Prefetch-Next when #. threads >= 6"
   ]
  },
  {
   "cell_type": "code",
   "execution_count": 7,
   "metadata": {},
   "outputs": [
    {
     "name": "stdout",
     "output_type": "stream",
     "text": [
      "x: 1.0934459335413989\n",
      "x: 1.4571220930232558\n",
      "x: 1.6219445953286258\n",
      "x: 1.6762402088772845\n",
      "x: 1.740054661402976\n",
      "x: 1.764595691539182\n",
      "x: 1.763058527375708\n",
      "x: 1.7664141414141414\n",
      "x: 1.7574414186193794\n",
      "x: 1.754113924050633\n",
      "x: 1.7543636940653762\n"
     ]
    }
   ],
   "source": [
    "for thread in range(6, 17):\n",
    "    x = df_multi[(df_multi[\"num_job\"] == thread) & (df_multi[\"file_system\"] == \"Speculation-No-Calc\")][\"second_bandwidth(MiB/s)\"].iloc[0] / df_multi[(df_multi[\"num_job\"] == thread) & (df_multi[\"file_system\"] == \"Prefetch-Next\")][\"second_bandwidth(MiB/s)\"].iloc[0]\n",
    "    print(\"x: \" + str(x))"
   ]
  },
  {
   "cell_type": "markdown",
   "metadata": {},
   "source": [
    "- How much content-comparing latency of Speculation compared to Prefetch-Next when #. threads >= 6"
   ]
  },
  {
   "cell_type": "code",
   "execution_count": 9,
   "metadata": {},
   "outputs": [
    {
     "name": "stdout",
     "output_type": "stream",
     "text": [
      "x: 0.9251311497795928\n",
      "x: 1.2678174230802082\n",
      "x: 1.4182500371414464\n",
      "x: 1.4740562409148463\n",
      "x: 1.5580269280574537\n",
      "x: 1.5980288520975008\n",
      "x: 1.6172311441474183\n",
      "x: 1.635800991740524\n",
      "x: 1.6386331809891947\n",
      "x: 1.6350893573364877\n",
      "x: 1.6397336284265975\n"
     ]
    }
   ],
   "source": [
    "for thread in range(6, 17):\n",
    "    x = df_multi[(df_multi[\"num_job\"] == thread) & (df_multi[\"file_system\"] == \"Prefetch-Next\")][\"second_cmp_lat(ns)\"].iloc[0] / df_multi[(df_multi[\"num_job\"] == thread) & (df_multi[\"file_system\"] == \"Speculation-No-Calc\")][\"second_cmp_lat(ns)\"].iloc[0]\n",
    "    print(\"x: \" + str(x))"
   ]
  },
  {
   "cell_type": "markdown",
   "metadata": {},
   "source": [
    "# Obsolete Part"
   ]
  },
  {
   "cell_type": "markdown",
   "metadata": {},
   "source": [
    "- How much performance improvment of Prefetch-Next+Speculation under single threads"
   ]
  },
  {
   "cell_type": "code",
   "execution_count": 8,
   "metadata": {},
   "outputs": [
    {
     "name": "stdout",
     "output_type": "stream",
     "text": [
      "0    1.466352\n",
      "Name: second_bandwidth(MiB/s), dtype: float64\n",
      "0    1.252016\n",
      "Name: second_bandwidth(MiB/s), dtype: float64\n"
     ]
    }
   ],
   "source": [
    "print(df_multi[(df_multi[\"num_job\"] == 1) & (df_multi[\"file_system\"] == \"Prefetch-Next+Speculation\")][\"second_bandwidth(MiB/s)\"] / min(df_multi[df_multi[\"num_job\"] == 1][\"second_bandwidth(MiB/s)\"]))\n",
    "\n",
    "print(df_multi[(df_multi[\"num_job\"] == 1) & (df_multi[\"file_system\"] == \"Prefetch-Next+Speculation\")][\"second_bandwidth(MiB/s)\"] / max(df_multi[(df_multi[\"num_job\"] == 1) & (df_multi[\"file_system\"] != \"Prefetch-Next+Speculation\")][\"second_bandwidth(MiB/s)\"]))"
   ]
  },
  {
   "cell_type": "markdown",
   "metadata": {},
   "source": [
    "- How much performance is Prefecth-Current faster than others"
   ]
  },
  {
   "cell_type": "code",
   "execution_count": 9,
   "metadata": {},
   "outputs": [
    {
     "name": "stdout",
     "output_type": "stream",
     "text": [
      "16    1.468822\n",
      "Name: second_bandwidth(MiB/s), dtype: float64\n",
      "16    1.046053\n",
      "Name: second_bandwidth(MiB/s), dtype: float64\n"
     ]
    }
   ],
   "source": [
    "print(df_multi[(df_multi[\"num_job\"] == 2) & (df_multi[\"file_system\"] == \"Prefetch-Current\")][\"second_bandwidth(MiB/s)\"] / min(df_multi[df_multi[\"num_job\"] == 2][\"second_bandwidth(MiB/s)\"]))\n",
    "\n",
    "print(df_multi[(df_multi[\"num_job\"] == 2) & (df_multi[\"file_system\"] == \"Prefetch-Current\")][\"second_bandwidth(MiB/s)\"] / max(df_multi[(df_multi[\"num_job\"] == 2) & (df_multi[\"file_system\"] != \"Prefetch-Current\")][\"second_bandwidth(MiB/s)\"]))"
   ]
  },
  {
   "cell_type": "code",
   "execution_count": 10,
   "metadata": {},
   "outputs": [
    {
     "name": "stdout",
     "output_type": "stream",
     "text": [
      "17    1.59032\n",
      "Name: second_bandwidth(MiB/s), dtype: float64\n",
      "17    1.062969\n",
      "Name: second_bandwidth(MiB/s), dtype: float64\n"
     ]
    }
   ],
   "source": [
    "print(df_multi[(df_multi[\"num_job\"] == 4) & (df_multi[\"file_system\"] == \"Prefetch-Current\")][\"second_bandwidth(MiB/s)\"] / min(df_multi[df_multi[\"num_job\"] == 4][\"second_bandwidth(MiB/s)\"]))\n",
    "\n",
    "print(df_multi[(df_multi[\"num_job\"] == 4) & (df_multi[\"file_system\"] == \"Prefetch-Current\")][\"second_bandwidth(MiB/s)\"] / max(df_multi[(df_multi[\"num_job\"] == 4) & (df_multi[\"file_system\"] != \"Prefetch-Current\")][\"second_bandwidth(MiB/s)\"]))"
   ]
  },
  {
   "cell_type": "markdown",
   "metadata": {},
   "source": [
    "- How much performance is Speculation faster than others"
   ]
  },
  {
   "cell_type": "code",
   "execution_count": 12,
   "metadata": {},
   "outputs": [
    {
     "name": "stdout",
     "output_type": "stream",
     "text": [
      "13    1.840996\n",
      "Name: second_bandwidth(MiB/s), dtype: float64\n",
      "13    1.073343\n",
      "Name: second_bandwidth(MiB/s), dtype: float64\n"
     ]
    }
   ],
   "source": [
    "print(df_multi[(df_multi[\"num_job\"] == 8) & (df_multi[\"file_system\"] == \"Speculation\")][\"second_bandwidth(MiB/s)\"] / min(df_multi[df_multi[\"num_job\"] == 8][\"second_bandwidth(MiB/s)\"]))\n",
    "\n",
    "print(df_multi[(df_multi[\"num_job\"] == 8) & (df_multi[\"file_system\"] == \"Speculation\")][\"second_bandwidth(MiB/s)\"] / max(df_multi[(df_multi[\"num_job\"] == 8) & (df_multi[\"file_system\"] != \"Speculation\")][\"second_bandwidth(MiB/s)\"]))"
   ]
  },
  {
   "cell_type": "code",
   "execution_count": 11,
   "metadata": {},
   "outputs": [
    {
     "name": "stdout",
     "output_type": "stream",
     "text": [
      "14    1.925586\n",
      "Name: second_bandwidth(MiB/s), dtype: float64\n",
      "14    1.023565\n",
      "Name: second_bandwidth(MiB/s), dtype: float64\n"
     ]
    }
   ],
   "source": [
    "print(df_multi[(df_multi[\"num_job\"] == 16) & (df_multi[\"file_system\"] == \"Speculation\")][\"second_bandwidth(MiB/s)\"] / min(df_multi[df_multi[\"num_job\"] == 16][\"second_bandwidth(MiB/s)\"]))\n",
    "\n",
    "print(df_multi[(df_multi[\"num_job\"] == 16) & (df_multi[\"file_system\"] == \"Speculation\")][\"second_bandwidth(MiB/s)\"] / max(df_multi[(df_multi[\"num_job\"] == 16) & (df_multi[\"file_system\"] != \"Speculation\")][\"second_bandwidth(MiB/s)\"]))"
   ]
  }
 ],
 "metadata": {
  "kernelspec": {
   "display_name": "Python 3.6.8 64-bit",
   "language": "python",
   "name": "python3"
  },
  "language_info": {
   "codemirror_mode": {
    "name": "ipython",
    "version": 3
   },
   "file_extension": ".py",
   "mimetype": "text/x-python",
   "name": "python",
   "nbconvert_exporter": "python",
   "pygments_lexer": "ipython3",
   "version": "3.6.8"
  },
  "orig_nbformat": 4,
  "vscode": {
   "interpreter": {
    "hash": "916dbcbb3f70747c44a77c7bcd40155683ae19c65e1c03b4aa3499c5328201f1"
   }
  }
 },
 "nbformat": 4,
 "nbformat_minor": 2
}

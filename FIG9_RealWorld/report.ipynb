{
 "cells": [
  {
   "cell_type": "code",
   "execution_count": 1,
   "metadata": {},
   "outputs": [
    {
     "data": {
      "text/html": [
       "<div>\n",
       "<style scoped>\n",
       "    .dataframe tbody tr th:only-of-type {\n",
       "        vertical-align: middle;\n",
       "    }\n",
       "\n",
       "    .dataframe tbody tr th {\n",
       "        vertical-align: top;\n",
       "    }\n",
       "\n",
       "    .dataframe thead th {\n",
       "        text-align: right;\n",
       "    }\n",
       "</style>\n",
       "<table border=\"1\" class=\"dataframe\">\n",
       "  <thead>\n",
       "    <tr style=\"text-align: right;\">\n",
       "      <th></th>\n",
       "      <th>file_system</th>\n",
       "      <th>trace</th>\n",
       "      <th>cblks</th>\n",
       "      <th>job</th>\n",
       "      <th>bandwidth(MiB/s)</th>\n",
       "    </tr>\n",
       "  </thead>\n",
       "  <tbody>\n",
       "    <tr>\n",
       "      <th>0</th>\n",
       "      <td>Light-Dedup</td>\n",
       "      <td>homes-2022-fall-50.hitsztrace</td>\n",
       "      <td>1</td>\n",
       "      <td>1</td>\n",
       "      <td>991.496</td>\n",
       "    </tr>\n",
       "    <tr>\n",
       "      <th>1</th>\n",
       "      <td>Light-Dedup</td>\n",
       "      <td>homes-2022-fall-50.hitsztrace</td>\n",
       "      <td>1</td>\n",
       "      <td>8</td>\n",
       "      <td>3744.230</td>\n",
       "    </tr>\n",
       "    <tr>\n",
       "      <th>2</th>\n",
       "      <td>Light-Dedup</td>\n",
       "      <td>webmail+online.cs.fiu.edu-110108-113008.1-21.b...</td>\n",
       "      <td>1</td>\n",
       "      <td>1</td>\n",
       "      <td>896.592</td>\n",
       "    </tr>\n",
       "    <tr>\n",
       "      <th>3</th>\n",
       "      <td>Light-Dedup</td>\n",
       "      <td>webmail+online.cs.fiu.edu-110108-113008.1-21.b...</td>\n",
       "      <td>1</td>\n",
       "      <td>8</td>\n",
       "      <td>2358.440</td>\n",
       "    </tr>\n",
       "    <tr>\n",
       "      <th>4</th>\n",
       "      <td>Light-Dedup</td>\n",
       "      <td>cheetah.cs.fiu.edu-110108-113008.1.blkparse</td>\n",
       "      <td>1</td>\n",
       "      <td>1</td>\n",
       "      <td>803.642</td>\n",
       "    </tr>\n",
       "  </tbody>\n",
       "</table>\n",
       "</div>"
      ],
      "text/plain": [
       "   file_system                                              trace  cblks  job  \\\n",
       "0  Light-Dedup                      homes-2022-fall-50.hitsztrace      1    1   \n",
       "1  Light-Dedup                      homes-2022-fall-50.hitsztrace      1    8   \n",
       "2  Light-Dedup  webmail+online.cs.fiu.edu-110108-113008.1-21.b...      1    1   \n",
       "3  Light-Dedup  webmail+online.cs.fiu.edu-110108-113008.1-21.b...      1    8   \n",
       "4  Light-Dedup        cheetah.cs.fiu.edu-110108-113008.1.blkparse      1    1   \n",
       "\n",
       "   bandwidth(MiB/s)  \n",
       "0           991.496  \n",
       "1          3744.230  \n",
       "2           896.592  \n",
       "3          2358.440  \n",
       "4           803.642  "
      ]
     },
     "execution_count": 1,
     "metadata": {},
     "output_type": "execute_result"
    }
   ],
   "source": [
    "import pandas as pd\n",
    "\n",
    "with open(\"./performance-comparison-table-cp\", \"r\") as f:\n",
    "    df_cp = pd.read_csv(f, delim_whitespace=True, engine='python')\n",
    "df_cp.head()\n",
    "\n",
    "with open(\"./performance-comparison-table-trace\", \"r\") as f:\n",
    "    df_trace = pd.read_csv(f, delim_whitespace=True, engine='python')\n",
    "df_trace.head()"
   ]
  },
  {
   "attachments": {},
   "cell_type": "markdown",
   "metadata": {},
   "source": [
    "- How fast Light-Dedup is compared to NOVA?"
   ]
  },
  {
   "cell_type": "code",
   "execution_count": 2,
   "metadata": {},
   "outputs": [
    {
     "name": "stdout",
     "output_type": "stream",
     "text": [
      "df1_min: 1.3116531165311653, df1_max: 2.7920446615491974\n",
      "df2_min: 1.1315674322913467, df2_max: 2.8689475189040228\n"
     ]
    }
   ],
   "source": [
    "df1 = df_cp[df_cp[\"file_system\"] == \"Light-Dedup\"][\"second_bw\"].reset_index() / df_cp[df_cp[\"file_system\"] == \"NOVA\"][\"second_bw\"].reset_index()\n",
    "df1_min = df1[df1[\"second_bw\"] > 1].min()[\"second_bw\"]\n",
    "df1_max = df1.max()[\"second_bw\"]\n",
    "\n",
    "df2 = df_trace[df_trace[\"file_system\"] == \"Light-Dedup\"][\"bandwidth(MiB/s)\"].reset_index() / df_trace[df_trace[\"file_system\"] == \"NOVA\"][\"bandwidth(MiB/s)\"].reset_index()\n",
    "df2_min = df2[df2[\"bandwidth(MiB/s)\"] > 1].min()[\"bandwidth(MiB/s)\"]\n",
    "df2_max = df2.max()[\"bandwidth(MiB/s)\"]\n",
    "print(\"df1_min: {}, df1_max: {}\".format(df1_min, df1_max))\n",
    "print(\"df2_min: {}, df2_max: {}\".format(df2_min, df2_max))"
   ]
  },
  {
   "attachments": {},
   "cell_type": "markdown",
   "metadata": {},
   "source": [
    "- How fast Light-Dedup is compared to NOVA under three traces when 8 threads?"
   ]
  },
  {
   "cell_type": "code",
   "execution_count": 3,
   "metadata": {},
   "outputs": [
    {
     "name": "stdout",
     "output_type": "stream",
     "text": [
      "      index  bandwidth(MiB/s)\n",
      "0  0.040000          1.974799\n",
      "1  0.111111          1.131567\n",
      "2  0.172414          1.740279\n"
     ]
    }
   ],
   "source": [
    "df2 = df_trace[(df_trace[\"file_system\"] == \"Light-Dedup\") & (df_trace[\"job\"] == 8) & (df_trace[\"cblks\"] == 1)][\"bandwidth(MiB/s)\"].reset_index() / df_trace[(df_trace[\"file_system\"] == \"NOVA\") & (df_trace[\"job\"] == 8) & (df_trace[\"cblks\"] == 1)][\"bandwidth(MiB/s)\"].reset_index()\n",
    "print(df2)\n",
    "# df2_min = df2[df2[\"bandwidth(MiB/s)\"] > 1].min()[\"bandwidth(MiB/s)\"]\n",
    "# df2_max = df2.max()[\"bandwidth(MiB/s)\"]\n",
    "# print(\"df1_min: {}, df1_max: {}\".format(df1_min, df1_max))\n",
    "# print(\"df2_min: {}, df2_max: {}\".format(df2_min, df2_max))"
   ]
  },
  {
   "attachments": {},
   "cell_type": "markdown",
   "metadata": {},
   "source": [
    "- How fast Light-Dedup is compared to NOVA under Mails under single thread?"
   ]
  },
  {
   "cell_type": "code",
   "execution_count": 4,
   "metadata": {},
   "outputs": [
    {
     "name": "stdout",
     "output_type": "stream",
     "text": [
      "      index  bandwidth(MiB/s)\n",
      "0  0.555556          1.362539\n",
      "1  0.571429          1.297435\n",
      "2  0.586207          1.282881\n"
     ]
    }
   ],
   "source": [
    "df2 = df_trace[(df_trace[\"file_system\"] == \"Light-Dedup\") & (df_trace[\"job\"] == 1) & (df_trace[\"cblks\"] == 512)][\"bandwidth(MiB/s)\"].reset_index() / df_trace[(df_trace[\"file_system\"] == \"NOVA\") & (df_trace[\"job\"] == 1) & (df_trace[\"cblks\"] == 512)][\"bandwidth(MiB/s)\"].reset_index()\n",
    "print(df2)"
   ]
  },
  {
   "attachments": {},
   "cell_type": "markdown",
   "metadata": {},
   "source": [
    "- How fast Light-Dedup is compared to Naive under Mails under single thread?"
   ]
  },
  {
   "cell_type": "code",
   "execution_count": 5,
   "metadata": {},
   "outputs": [
    {
     "name": "stdout",
     "output_type": "stream",
     "text": [
      "      index  bandwidth(MiB/s)\n",
      "0  0.833333          2.016389\n",
      "1  0.842105          1.106938\n",
      "2  0.850000          1.745492\n"
     ]
    }
   ],
   "source": [
    "df2 = df_trace[(df_trace[\"file_system\"] == \"Light-Dedup\") & (df_trace[\"job\"] == 1) & (df_trace[\"cblks\"] == 512)][\"bandwidth(MiB/s)\"].reset_index() / df_trace[(df_trace[\"file_system\"] == \"Naive\") & (df_trace[\"job\"] == 1) & (df_trace[\"cblks\"] == 512)][\"bandwidth(MiB/s)\"].reset_index()\n",
    "print(df2)"
   ]
  },
  {
   "attachments": {},
   "cell_type": "markdown",
   "metadata": {},
   "source": [
    "- How fast Light-Dedup is compared to NV-Dedup?"
   ]
  },
  {
   "cell_type": "code",
   "execution_count": 6,
   "metadata": {},
   "outputs": [
    {
     "name": "stdout",
     "output_type": "stream",
     "text": [
      "df1_min: 3.108780108780109, df1_max: 6.3406113537117905\n",
      "df2_min: 1.1709565595591909, df2_max: 3.8471768016427466\n"
     ]
    }
   ],
   "source": [
    "df1 = df_cp[df_cp[\"file_system\"] == \"Light-Dedup\"][\"second_bw\"].reset_index() / df_cp[df_cp[\"file_system\"] == \"NV-Dedup\"][\"second_bw\"].reset_index()\n",
    "df1_min = df1[df1[\"second_bw\"] > 1].min()[\"second_bw\"]\n",
    "df1_max = df1.max()[\"second_bw\"]\n",
    "\n",
    "df2 = df_trace[df_trace[\"file_system\"] == \"Light-Dedup\"][\"bandwidth(MiB/s)\"].reset_index() / df_trace[df_trace[\"file_system\"] == \"NV-Dedup\"][\"bandwidth(MiB/s)\"].reset_index()\n",
    "df2_min = df2[df2[\"bandwidth(MiB/s)\"] > 1].min()[\"bandwidth(MiB/s)\"]\n",
    "df2_max = df2.max()[\"bandwidth(MiB/s)\"]\n",
    "print(\"df1_min: {}, df1_max: {}\".format(df1_min, df1_max))\n",
    "print(\"df2_min: {}, df2_max: {}\".format(df2_min, df2_max))"
   ]
  },
  {
   "attachments": {},
   "cell_type": "markdown",
   "metadata": {},
   "source": [
    "- How fast Light-Dedup is compared to DeNOVA?"
   ]
  },
  {
   "cell_type": "code",
   "execution_count": 7,
   "metadata": {},
   "outputs": [
    {
     "name": "stdout",
     "output_type": "stream",
     "text": [
      "df1_min: 1.3854961832061068, df1_max: 2.8992753623188405\n",
      "df2_min: 1.295558568317802, df2_max: 6.235431733853215\n"
     ]
    }
   ],
   "source": [
    "df1 = df_cp[df_cp[\"file_system\"] == \"Light-Dedup\"][\"second_bw\"].reset_index() / df_cp[df_cp[\"file_system\"] == \"DeNOVA\"][\"second_bw\"].reset_index()\n",
    "df1_min = df1[df1[\"second_bw\"] > 1].min()[\"second_bw\"]\n",
    "df1_max = df1.max()[\"second_bw\"]\n",
    "\n",
    "df2 = df_trace[df_trace[\"file_system\"] == \"Light-Dedup\"][\"bandwidth(MiB/s)\"].reset_index() / df_trace[df_trace[\"file_system\"] == \"DeNOVA\"][\"bandwidth(MiB/s)\"].reset_index()\n",
    "df2_min = df2[df2[\"bandwidth(MiB/s)\"] > 1].min()[\"bandwidth(MiB/s)\"]\n",
    "df2_max = df2.max()[\"bandwidth(MiB/s)\"]\n",
    "print(\"df1_min: {}, df1_max: {}\".format(df1_min, df1_max))\n",
    "print(\"df2_min: {}, df2_max: {}\".format(df2_min, df2_max))"
   ]
  },
  {
   "attachments": {},
   "cell_type": "markdown",
   "metadata": {},
   "source": [
    "- How fast Light-Dedup is compared to Naive?"
   ]
  },
  {
   "cell_type": "code",
   "execution_count": 8,
   "metadata": {},
   "outputs": [
    {
     "name": "stdout",
     "output_type": "stream",
     "text": [
      "df1_min: 1.0752485890889545, df1_max: 1.8832684824902723\n",
      "df2_min: 1.0067044240193965, df2_max: 2.0163885883491823\n"
     ]
    }
   ],
   "source": [
    "df1 = df_cp[df_cp[\"file_system\"] == \"Light-Dedup\"][\"second_bw\"].reset_index() / df_cp[df_cp[\"file_system\"] == \"Naive\"][\"second_bw\"].reset_index()\n",
    "df1_min = df1[df1[\"second_bw\"] > 1].min()[\"second_bw\"]\n",
    "df1_max = df1.max()[\"second_bw\"]\n",
    "\n",
    "df2 = df_trace[df_trace[\"file_system\"] == \"Light-Dedup\"][\"bandwidth(MiB/s)\"].reset_index() / df_trace[df_trace[\"file_system\"] == \"Naive\"][\"bandwidth(MiB/s)\"].reset_index()\n",
    "df2_min = df2[df2[\"bandwidth(MiB/s)\"] > 1].min()[\"bandwidth(MiB/s)\"]\n",
    "df2_max = df2.max()[\"bandwidth(MiB/s)\"]\n",
    "print(\"df1_min: {}, df1_max: {}\".format(df1_min, df1_max))\n",
    "print(\"df2_min: {}, df2_max: {}\".format(df2_min, df2_max))"
   ]
  }
 ],
 "metadata": {
  "kernelspec": {
   "display_name": "Python 3.6.8 64-bit",
   "language": "python",
   "name": "python3"
  },
  "language_info": {
   "codemirror_mode": {
    "name": "ipython",
    "version": 3
   },
   "file_extension": ".py",
   "mimetype": "text/x-python",
   "name": "python",
   "nbconvert_exporter": "python",
   "pygments_lexer": "ipython3",
   "version": "3.9.16"
  },
  "orig_nbformat": 4,
  "vscode": {
   "interpreter": {
    "hash": "916dbcbb3f70747c44a77c7bcd40155683ae19c65e1c03b4aa3499c5328201f1"
   }
  }
 },
 "nbformat": 4,
 "nbformat_minor": 2
}

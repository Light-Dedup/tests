{
 "cells": [
  {
   "cell_type": "code",
   "execution_count": 1,
   "metadata": {},
   "outputs": [
    {
     "ename": "EmptyDataError",
     "evalue": "No columns to parse from file",
     "output_type": "error",
     "traceback": [
      "\u001b[0;31m---------------------------------------------------------------------------\u001b[0m",
      "\u001b[0;31mStopIteration\u001b[0m                             Traceback (most recent call last)",
      "\u001b[0;32m~/.local/lib/python3.6/site-packages/pandas/io/parsers.py\u001b[0m in \u001b[0;36m_infer_columns\u001b[0;34m(self)\u001b[0m\n\u001b[1;32m   2684\u001b[0m                 \u001b[0;32mtry\u001b[0m\u001b[0;34m:\u001b[0m\u001b[0;34m\u001b[0m\u001b[0;34m\u001b[0m\u001b[0m\n\u001b[0;32m-> 2685\u001b[0;31m                     \u001b[0mline\u001b[0m \u001b[0;34m=\u001b[0m \u001b[0mself\u001b[0m\u001b[0;34m.\u001b[0m\u001b[0m_buffered_line\u001b[0m\u001b[0;34m(\u001b[0m\u001b[0;34m)\u001b[0m\u001b[0;34m\u001b[0m\u001b[0;34m\u001b[0m\u001b[0m\n\u001b[0m\u001b[1;32m   2686\u001b[0m \u001b[0;34m\u001b[0m\u001b[0m\n",
      "\u001b[0;32m~/.local/lib/python3.6/site-packages/pandas/io/parsers.py\u001b[0m in \u001b[0;36m_buffered_line\u001b[0;34m(self)\u001b[0m\n\u001b[1;32m   2860\u001b[0m         \u001b[0;32melse\u001b[0m\u001b[0;34m:\u001b[0m\u001b[0;34m\u001b[0m\u001b[0;34m\u001b[0m\u001b[0m\n\u001b[0;32m-> 2861\u001b[0;31m             \u001b[0;32mreturn\u001b[0m \u001b[0mself\u001b[0m\u001b[0;34m.\u001b[0m\u001b[0m_next_line\u001b[0m\u001b[0;34m(\u001b[0m\u001b[0;34m)\u001b[0m\u001b[0;34m\u001b[0m\u001b[0;34m\u001b[0m\u001b[0m\n\u001b[0m\u001b[1;32m   2862\u001b[0m \u001b[0;34m\u001b[0m\u001b[0m\n",
      "\u001b[0;32m~/.local/lib/python3.6/site-packages/pandas/io/parsers.py\u001b[0m in \u001b[0;36m_next_line\u001b[0;34m(self)\u001b[0m\n\u001b[1;32m   2957\u001b[0m             \u001b[0;32mwhile\u001b[0m \u001b[0;32mTrue\u001b[0m\u001b[0;34m:\u001b[0m\u001b[0;34m\u001b[0m\u001b[0;34m\u001b[0m\u001b[0m\n\u001b[0;32m-> 2958\u001b[0;31m                 \u001b[0morig_line\u001b[0m \u001b[0;34m=\u001b[0m \u001b[0mself\u001b[0m\u001b[0;34m.\u001b[0m\u001b[0m_next_iter_line\u001b[0m\u001b[0;34m(\u001b[0m\u001b[0mrow_num\u001b[0m\u001b[0;34m=\u001b[0m\u001b[0mself\u001b[0m\u001b[0;34m.\u001b[0m\u001b[0mpos\u001b[0m \u001b[0;34m+\u001b[0m \u001b[0;36m1\u001b[0m\u001b[0;34m)\u001b[0m\u001b[0;34m\u001b[0m\u001b[0;34m\u001b[0m\u001b[0m\n\u001b[0m\u001b[1;32m   2959\u001b[0m                 \u001b[0mself\u001b[0m\u001b[0;34m.\u001b[0m\u001b[0mpos\u001b[0m \u001b[0;34m+=\u001b[0m \u001b[0;36m1\u001b[0m\u001b[0;34m\u001b[0m\u001b[0;34m\u001b[0m\u001b[0m\n",
      "\u001b[0;32m~/.local/lib/python3.6/site-packages/pandas/io/parsers.py\u001b[0m in \u001b[0;36m_next_iter_line\u001b[0;34m(self, row_num)\u001b[0m\n\u001b[1;32m   3015\u001b[0m         \u001b[0;32mtry\u001b[0m\u001b[0;34m:\u001b[0m\u001b[0;34m\u001b[0m\u001b[0;34m\u001b[0m\u001b[0m\n\u001b[0;32m-> 3016\u001b[0;31m             \u001b[0;32mreturn\u001b[0m \u001b[0mnext\u001b[0m\u001b[0;34m(\u001b[0m\u001b[0mself\u001b[0m\u001b[0;34m.\u001b[0m\u001b[0mdata\u001b[0m\u001b[0;34m)\u001b[0m\u001b[0;34m\u001b[0m\u001b[0;34m\u001b[0m\u001b[0m\n\u001b[0m\u001b[1;32m   3017\u001b[0m         \u001b[0;32mexcept\u001b[0m \u001b[0mcsv\u001b[0m\u001b[0;34m.\u001b[0m\u001b[0mError\u001b[0m \u001b[0;32mas\u001b[0m \u001b[0me\u001b[0m\u001b[0;34m:\u001b[0m\u001b[0;34m\u001b[0m\u001b[0;34m\u001b[0m\u001b[0m\n",
      "\u001b[0;31mStopIteration\u001b[0m: ",
      "\nThe above exception was the direct cause of the following exception:\n",
      "\u001b[0;31mEmptyDataError\u001b[0m                            Traceback (most recent call last)",
      "\u001b[0;32m<ipython-input-1-cceb3d4a7b42>\u001b[0m in \u001b[0;36m<module>\u001b[0;34m\u001b[0m\n\u001b[1;32m      2\u001b[0m \u001b[0;34m\u001b[0m\u001b[0m\n\u001b[1;32m      3\u001b[0m \u001b[0;32mwith\u001b[0m \u001b[0mopen\u001b[0m\u001b[0;34m(\u001b[0m\u001b[0;34m\"./avg-test-result-single-in-paper\"\u001b[0m\u001b[0;34m,\u001b[0m \u001b[0;34m\"r\"\u001b[0m\u001b[0;34m)\u001b[0m \u001b[0;32mas\u001b[0m \u001b[0mf\u001b[0m\u001b[0;34m:\u001b[0m\u001b[0;34m\u001b[0m\u001b[0;34m\u001b[0m\u001b[0m\n\u001b[0;32m----> 4\u001b[0;31m     \u001b[0mdf_single\u001b[0m \u001b[0;34m=\u001b[0m \u001b[0mpd\u001b[0m\u001b[0;34m.\u001b[0m\u001b[0mread_csv\u001b[0m\u001b[0;34m(\u001b[0m\u001b[0mf\u001b[0m\u001b[0;34m,\u001b[0m \u001b[0mdelim_whitespace\u001b[0m\u001b[0;34m=\u001b[0m\u001b[0;32mTrue\u001b[0m\u001b[0;34m,\u001b[0m \u001b[0mengine\u001b[0m\u001b[0;34m=\u001b[0m\u001b[0;34m'python'\u001b[0m\u001b[0;34m)\u001b[0m\u001b[0;34m\u001b[0m\u001b[0;34m\u001b[0m\u001b[0m\n\u001b[0m\u001b[1;32m      5\u001b[0m \u001b[0mdf_single\u001b[0m\u001b[0;34m.\u001b[0m\u001b[0mhead\u001b[0m\u001b[0;34m(\u001b[0m\u001b[0;34m)\u001b[0m\u001b[0;34m\u001b[0m\u001b[0;34m\u001b[0m\u001b[0m\n",
      "\u001b[0;32m~/.local/lib/python3.6/site-packages/pandas/io/parsers.py\u001b[0m in \u001b[0;36mread_csv\u001b[0;34m(filepath_or_buffer, sep, delimiter, header, names, index_col, usecols, squeeze, prefix, mangle_dupe_cols, dtype, engine, converters, true_values, false_values, skipinitialspace, skiprows, skipfooter, nrows, na_values, keep_default_na, na_filter, verbose, skip_blank_lines, parse_dates, infer_datetime_format, keep_date_col, date_parser, dayfirst, cache_dates, iterator, chunksize, compression, thousands, decimal, lineterminator, quotechar, quoting, doublequote, escapechar, comment, encoding, dialect, error_bad_lines, warn_bad_lines, delim_whitespace, low_memory, memory_map, float_precision)\u001b[0m\n\u001b[1;32m    686\u001b[0m     )\n\u001b[1;32m    687\u001b[0m \u001b[0;34m\u001b[0m\u001b[0m\n\u001b[0;32m--> 688\u001b[0;31m     \u001b[0;32mreturn\u001b[0m \u001b[0m_read\u001b[0m\u001b[0;34m(\u001b[0m\u001b[0mfilepath_or_buffer\u001b[0m\u001b[0;34m,\u001b[0m \u001b[0mkwds\u001b[0m\u001b[0;34m)\u001b[0m\u001b[0;34m\u001b[0m\u001b[0;34m\u001b[0m\u001b[0m\n\u001b[0m\u001b[1;32m    689\u001b[0m \u001b[0;34m\u001b[0m\u001b[0m\n\u001b[1;32m    690\u001b[0m \u001b[0;34m\u001b[0m\u001b[0m\n",
      "\u001b[0;32m~/.local/lib/python3.6/site-packages/pandas/io/parsers.py\u001b[0m in \u001b[0;36m_read\u001b[0;34m(filepath_or_buffer, kwds)\u001b[0m\n\u001b[1;32m    452\u001b[0m \u001b[0;34m\u001b[0m\u001b[0m\n\u001b[1;32m    453\u001b[0m     \u001b[0;31m# Create the parser.\u001b[0m\u001b[0;34m\u001b[0m\u001b[0;34m\u001b[0m\u001b[0;34m\u001b[0m\u001b[0m\n\u001b[0;32m--> 454\u001b[0;31m     \u001b[0mparser\u001b[0m \u001b[0;34m=\u001b[0m \u001b[0mTextFileReader\u001b[0m\u001b[0;34m(\u001b[0m\u001b[0mfp_or_buf\u001b[0m\u001b[0;34m,\u001b[0m \u001b[0;34m**\u001b[0m\u001b[0mkwds\u001b[0m\u001b[0;34m)\u001b[0m\u001b[0;34m\u001b[0m\u001b[0;34m\u001b[0m\u001b[0m\n\u001b[0m\u001b[1;32m    455\u001b[0m \u001b[0;34m\u001b[0m\u001b[0m\n\u001b[1;32m    456\u001b[0m     \u001b[0;32mif\u001b[0m \u001b[0mchunksize\u001b[0m \u001b[0;32mor\u001b[0m \u001b[0miterator\u001b[0m\u001b[0;34m:\u001b[0m\u001b[0;34m\u001b[0m\u001b[0;34m\u001b[0m\u001b[0m\n",
      "\u001b[0;32m~/.local/lib/python3.6/site-packages/pandas/io/parsers.py\u001b[0m in \u001b[0;36m__init__\u001b[0;34m(self, f, engine, **kwds)\u001b[0m\n\u001b[1;32m    946\u001b[0m             \u001b[0mself\u001b[0m\u001b[0;34m.\u001b[0m\u001b[0moptions\u001b[0m\u001b[0;34m[\u001b[0m\u001b[0;34m\"has_index_names\"\u001b[0m\u001b[0;34m]\u001b[0m \u001b[0;34m=\u001b[0m \u001b[0mkwds\u001b[0m\u001b[0;34m[\u001b[0m\u001b[0;34m\"has_index_names\"\u001b[0m\u001b[0;34m]\u001b[0m\u001b[0;34m\u001b[0m\u001b[0;34m\u001b[0m\u001b[0m\n\u001b[1;32m    947\u001b[0m \u001b[0;34m\u001b[0m\u001b[0m\n\u001b[0;32m--> 948\u001b[0;31m         \u001b[0mself\u001b[0m\u001b[0;34m.\u001b[0m\u001b[0m_make_engine\u001b[0m\u001b[0;34m(\u001b[0m\u001b[0mself\u001b[0m\u001b[0;34m.\u001b[0m\u001b[0mengine\u001b[0m\u001b[0;34m)\u001b[0m\u001b[0;34m\u001b[0m\u001b[0;34m\u001b[0m\u001b[0m\n\u001b[0m\u001b[1;32m    949\u001b[0m \u001b[0;34m\u001b[0m\u001b[0m\n\u001b[1;32m    950\u001b[0m     \u001b[0;32mdef\u001b[0m \u001b[0mclose\u001b[0m\u001b[0;34m(\u001b[0m\u001b[0mself\u001b[0m\u001b[0;34m)\u001b[0m\u001b[0;34m:\u001b[0m\u001b[0;34m\u001b[0m\u001b[0;34m\u001b[0m\u001b[0m\n",
      "\u001b[0;32m~/.local/lib/python3.6/site-packages/pandas/io/parsers.py\u001b[0m in \u001b[0;36m_make_engine\u001b[0;34m(self, engine)\u001b[0m\n\u001b[1;32m   1189\u001b[0m                     \u001b[0;34m'are \"c\", \"python\", or \"python-fwf\")'\u001b[0m\u001b[0;34m\u001b[0m\u001b[0;34m\u001b[0m\u001b[0m\n\u001b[1;32m   1190\u001b[0m                 )\n\u001b[0;32m-> 1191\u001b[0;31m             \u001b[0mself\u001b[0m\u001b[0;34m.\u001b[0m\u001b[0m_engine\u001b[0m \u001b[0;34m=\u001b[0m \u001b[0mklass\u001b[0m\u001b[0;34m(\u001b[0m\u001b[0mself\u001b[0m\u001b[0;34m.\u001b[0m\u001b[0mf\u001b[0m\u001b[0;34m,\u001b[0m \u001b[0;34m**\u001b[0m\u001b[0mself\u001b[0m\u001b[0;34m.\u001b[0m\u001b[0moptions\u001b[0m\u001b[0;34m)\u001b[0m\u001b[0;34m\u001b[0m\u001b[0;34m\u001b[0m\u001b[0m\n\u001b[0m\u001b[1;32m   1192\u001b[0m \u001b[0;34m\u001b[0m\u001b[0m\n\u001b[1;32m   1193\u001b[0m     \u001b[0;32mdef\u001b[0m \u001b[0m_failover_to_python\u001b[0m\u001b[0;34m(\u001b[0m\u001b[0mself\u001b[0m\u001b[0;34m)\u001b[0m\u001b[0;34m:\u001b[0m\u001b[0;34m\u001b[0m\u001b[0;34m\u001b[0m\u001b[0m\n",
      "\u001b[0;32m~/.local/lib/python3.6/site-packages/pandas/io/parsers.py\u001b[0m in \u001b[0;36m__init__\u001b[0;34m(self, f, **kwds)\u001b[0m\n\u001b[1;32m   2405\u001b[0m                 \u001b[0mself\u001b[0m\u001b[0;34m.\u001b[0m\u001b[0mnum_original_columns\u001b[0m\u001b[0;34m,\u001b[0m\u001b[0;34m\u001b[0m\u001b[0;34m\u001b[0m\u001b[0m\n\u001b[1;32m   2406\u001b[0m                 \u001b[0mself\u001b[0m\u001b[0;34m.\u001b[0m\u001b[0munnamed_cols\u001b[0m\u001b[0;34m,\u001b[0m\u001b[0;34m\u001b[0m\u001b[0;34m\u001b[0m\u001b[0m\n\u001b[0;32m-> 2407\u001b[0;31m             ) = self._infer_columns()\n\u001b[0m\u001b[1;32m   2408\u001b[0m         \u001b[0;32mexcept\u001b[0m \u001b[0;34m(\u001b[0m\u001b[0mTypeError\u001b[0m\u001b[0;34m,\u001b[0m \u001b[0mValueError\u001b[0m\u001b[0;34m)\u001b[0m\u001b[0;34m:\u001b[0m\u001b[0;34m\u001b[0m\u001b[0;34m\u001b[0m\u001b[0m\n\u001b[1;32m   2409\u001b[0m             \u001b[0mself\u001b[0m\u001b[0;34m.\u001b[0m\u001b[0mclose\u001b[0m\u001b[0;34m(\u001b[0m\u001b[0;34m)\u001b[0m\u001b[0;34m\u001b[0m\u001b[0;34m\u001b[0m\u001b[0m\n",
      "\u001b[0;32m~/.local/lib/python3.6/site-packages/pandas/io/parsers.py\u001b[0m in \u001b[0;36m_infer_columns\u001b[0;34m(self)\u001b[0m\n\u001b[1;32m   2705\u001b[0m \u001b[0;34m\u001b[0m\u001b[0m\n\u001b[1;32m   2706\u001b[0m                     \u001b[0;32mif\u001b[0m \u001b[0;32mnot\u001b[0m \u001b[0mself\u001b[0m\u001b[0;34m.\u001b[0m\u001b[0mnames\u001b[0m\u001b[0;34m:\u001b[0m\u001b[0;34m\u001b[0m\u001b[0;34m\u001b[0m\u001b[0m\n\u001b[0;32m-> 2707\u001b[0;31m                         \u001b[0;32mraise\u001b[0m \u001b[0mEmptyDataError\u001b[0m\u001b[0;34m(\u001b[0m\u001b[0;34m\"No columns to parse from file\"\u001b[0m\u001b[0;34m)\u001b[0m \u001b[0;32mfrom\u001b[0m \u001b[0merr\u001b[0m\u001b[0;34m\u001b[0m\u001b[0;34m\u001b[0m\u001b[0m\n\u001b[0m\u001b[1;32m   2708\u001b[0m \u001b[0;34m\u001b[0m\u001b[0m\n\u001b[1;32m   2709\u001b[0m                     \u001b[0mline\u001b[0m \u001b[0;34m=\u001b[0m \u001b[0mself\u001b[0m\u001b[0;34m.\u001b[0m\u001b[0mnames\u001b[0m\u001b[0;34m[\u001b[0m\u001b[0;34m:\u001b[0m\u001b[0;34m]\u001b[0m\u001b[0;34m\u001b[0m\u001b[0;34m\u001b[0m\u001b[0m\n",
      "\u001b[0;31mEmptyDataError\u001b[0m: No columns to parse from file"
     ]
    }
   ],
   "source": [
    "import pandas as pd\n",
    "\n",
    "with open(\"./avg-test-result-single-in-paper\", \"r\") as f:\n",
    "    df_single = pd.read_csv(f, delim_whitespace=True, engine='python')\n",
    "df_single.head()"
   ]
  },
  {
   "cell_type": "markdown",
   "metadata": {},
   "source": [
    "- How much performance improvement does Prefetch-Cmp-64 compared to Naive"
   ]
  },
  {
   "cell_type": "code",
   "execution_count": null,
   "metadata": {},
   "outputs": [
    {
     "name": "stdout",
     "output_type": "stream",
     "text": [
      "x: 1.3214723926380367\n"
     ]
    }
   ],
   "source": [
    "x = df_single[(df_single[\"num_job\"] == 1) & (df_single[\"file_system\"] == \"Prefetch-Cmp-64\")][\"second_bandwidth(MiB/s)\"].iloc[0] / df_single[(df_single[\"num_job\"] == 1) & (df_single[\"file_system\"] == \"Naive\")][\"second_bandwidth(MiB/s)\"].iloc[0]\n",
    "print(\"x: \" + str(x))"
   ]
  },
  {
   "cell_type": "markdown",
   "metadata": {},
   "source": [
    "- How much performance improvement does Prefetch-Cmp-256-64 compared to Prefetch-Cmp-64"
   ]
  },
  {
   "cell_type": "code",
   "execution_count": null,
   "metadata": {},
   "outputs": [
    {
     "name": "stdout",
     "output_type": "stream",
     "text": [
      "x: 1.1903435468895078\n"
     ]
    }
   ],
   "source": [
    "x = df_single[(df_single[\"num_job\"] == 1) & (df_single[\"file_system\"] == \"Prefetch-Cmp-256-64\")][\"second_bandwidth(MiB/s)\"].iloc[0] / df_single[(df_single[\"num_job\"] == 1) & (df_single[\"file_system\"] == \"Prefetch-Cmp-64\")][\"second_bandwidth(MiB/s)\"].iloc[0]\n",
    "print(\"x: \" + str(x))"
   ]
  },
  {
   "cell_type": "code",
   "execution_count": 2,
   "metadata": {},
   "outputs": [
    {
     "data": {
      "text/html": [
       "<div>\n",
       "<style scoped>\n",
       "    .dataframe tbody tr th:only-of-type {\n",
       "        vertical-align: middle;\n",
       "    }\n",
       "\n",
       "    .dataframe tbody tr th {\n",
       "        vertical-align: top;\n",
       "    }\n",
       "\n",
       "    .dataframe thead th {\n",
       "        text-align: right;\n",
       "    }\n",
       "</style>\n",
       "<table border=\"1\" class=\"dataframe\">\n",
       "  <thead>\n",
       "    <tr style=\"text-align: right;\">\n",
       "      <th></th>\n",
       "      <th>file_system</th>\n",
       "      <th>num_job</th>\n",
       "      <th>first_bandwidth(MiB/s)</th>\n",
       "      <th>second_bandwidth(MiB/s)</th>\n",
       "      <th>second_cmp_lat(ns)</th>\n",
       "      <th>second_fp_lat(ns)</th>\n",
       "      <th>second_prefetch_lat(ns)</th>\n",
       "      <th>second_lookup_lat(ns)</th>\n",
       "      <th>second_others_lat(ns)</th>\n",
       "      <th>second_lat(ns)</th>\n",
       "    </tr>\n",
       "  </thead>\n",
       "  <tbody>\n",
       "    <tr>\n",
       "      <th>0</th>\n",
       "      <td>Naive</td>\n",
       "      <td>1</td>\n",
       "      <td>1424</td>\n",
       "      <td>815</td>\n",
       "      <td>51908437578</td>\n",
       "      <td>7797909630</td>\n",
       "      <td>0</td>\n",
       "      <td>3904557619</td>\n",
       "      <td>6023110881</td>\n",
       "      <td>2.986010e+10</td>\n",
       "    </tr>\n",
       "    <tr>\n",
       "      <th>1</th>\n",
       "      <td>Naive</td>\n",
       "      <td>2</td>\n",
       "      <td>1857</td>\n",
       "      <td>1579</td>\n",
       "      <td>53467951131</td>\n",
       "      <td>7906564283</td>\n",
       "      <td>0</td>\n",
       "      <td>4147450131</td>\n",
       "      <td>6107758570</td>\n",
       "      <td>3.066568e+10</td>\n",
       "    </tr>\n",
       "    <tr>\n",
       "      <th>2</th>\n",
       "      <td>Naive</td>\n",
       "      <td>3</td>\n",
       "      <td>1940</td>\n",
       "      <td>2316</td>\n",
       "      <td>54460102490</td>\n",
       "      <td>8399566940</td>\n",
       "      <td>0</td>\n",
       "      <td>4416016285</td>\n",
       "      <td>6151623387</td>\n",
       "      <td>3.147136e+10</td>\n",
       "    </tr>\n",
       "    <tr>\n",
       "      <th>3</th>\n",
       "      <td>Naive</td>\n",
       "      <td>4</td>\n",
       "      <td>2020</td>\n",
       "      <td>2980</td>\n",
       "      <td>55607482817</td>\n",
       "      <td>9609896340</td>\n",
       "      <td>0</td>\n",
       "      <td>4649568704</td>\n",
       "      <td>6232235892</td>\n",
       "      <td>3.264228e+10</td>\n",
       "    </tr>\n",
       "    <tr>\n",
       "      <th>4</th>\n",
       "      <td>Naive</td>\n",
       "      <td>5</td>\n",
       "      <td>2084</td>\n",
       "      <td>3544</td>\n",
       "      <td>56993632461</td>\n",
       "      <td>12083138849</td>\n",
       "      <td>0</td>\n",
       "      <td>4879484359</td>\n",
       "      <td>6383557536</td>\n",
       "      <td>3.402018e+10</td>\n",
       "    </tr>\n",
       "  </tbody>\n",
       "</table>\n",
       "</div>"
      ],
      "text/plain": [
       "  file_system  num_job  first_bandwidth(MiB/s)  second_bandwidth(MiB/s)  \\\n",
       "0       Naive        1                    1424                      815   \n",
       "1       Naive        2                    1857                     1579   \n",
       "2       Naive        3                    1940                     2316   \n",
       "3       Naive        4                    2020                     2980   \n",
       "4       Naive        5                    2084                     3544   \n",
       "\n",
       "   second_cmp_lat(ns)  second_fp_lat(ns)  second_prefetch_lat(ns)  \\\n",
       "0         51908437578         7797909630                        0   \n",
       "1         53467951131         7906564283                        0   \n",
       "2         54460102490         8399566940                        0   \n",
       "3         55607482817         9609896340                        0   \n",
       "4         56993632461        12083138849                        0   \n",
       "\n",
       "   second_lookup_lat(ns)  second_others_lat(ns)  second_lat(ns)  \n",
       "0             3904557619             6023110881    2.986010e+10  \n",
       "1             4147450131             6107758570    3.066568e+10  \n",
       "2             4416016285             6151623387    3.147136e+10  \n",
       "3             4649568704             6232235892    3.264228e+10  \n",
       "4             4879484359             6383557536    3.402018e+10  "
      ]
     },
     "execution_count": 2,
     "metadata": {},
     "output_type": "execute_result"
    }
   ],
   "source": [
    "import pandas as pd\n",
    "\n",
    "with open(\"./avg-test-result-multi-in-paper\", \"r\") as f:\n",
    "    df_multi = pd.read_csv(f, delim_whitespace=True, engine='python')\n",
    "df_multi.head()"
   ]
  },
  {
   "cell_type": "markdown",
   "metadata": {},
   "source": [
    "- How much performance improvement of Prefetch-Next compared to Speculation when #. threads <= 5"
   ]
  },
  {
   "cell_type": "code",
   "execution_count": 4,
   "metadata": {},
   "outputs": [
    {
     "name": "stdout",
     "output_type": "stream",
     "text": [
      "x: 1.2347242921013413\n",
      "x: 1.2266047950502708\n",
      "x: 1.2038420490928494\n",
      "x: 1.1491057961646196\n",
      "x: 1.1143253417872003\n"
     ]
    }
   ],
   "source": [
    "for thread in range(1, 6):\n",
    "    x = df_multi[(df_multi[\"num_job\"] == thread) & (df_multi[\"file_system\"] == \"Prefetch-Next\")][\"second_bandwidth(MiB/s)\"].iloc[0] / df_multi[(df_multi[\"num_job\"] == thread) & (df_multi[\"file_system\"] == \"Speculation-64\")][\"second_bandwidth(MiB/s)\"].iloc[0]\n",
    "    print(\"x: \" + str(x))"
   ]
  },
  {
   "cell_type": "markdown",
   "metadata": {},
   "source": [
    "- How much performance improvement of Prefetch-Next compared to NV when #. threads <= 5"
   ]
  },
  {
   "cell_type": "code",
   "execution_count": 5,
   "metadata": {},
   "outputs": [
    {
     "name": "stdout",
     "output_type": "stream",
     "text": [
      "x: 2.033128834355828\n",
      "x: 2.0088663711209627\n",
      "x: 1.9481865284974094\n",
      "x: 1.7895973154362417\n",
      "x: 1.5869074492099322\n"
     ]
    }
   ],
   "source": [
    "for thread in range(1, 6):\n",
    "    x = df_multi[(df_multi[\"num_job\"] == thread) & (df_multi[\"file_system\"] == \"Prefetch-Next\")][\"second_bandwidth(MiB/s)\"].iloc[0] / df_multi[(df_multi[\"num_job\"] == thread) & (df_multi[\"file_system\"] == \"Naive\")][\"second_bandwidth(MiB/s)\"].iloc[0]\n",
    "    print(\"x: \" + str(x))"
   ]
  },
  {
   "cell_type": "markdown",
   "metadata": {},
   "source": [
    "- How much performance improvement of Speculation compared to Prefetch-Next when #. threads >= 6"
   ]
  },
  {
   "cell_type": "code",
   "execution_count": 7,
   "metadata": {},
   "outputs": [
    {
     "name": "stdout",
     "output_type": "stream",
     "text": [
      "x: 1.0818397754264737\n",
      "x: 1.4372698952138205\n",
      "x: 1.5997525518094649\n",
      "x: 1.5812630948817719\n",
      "x: 1.6092774308652988\n",
      "x: 1.651564828614009\n",
      "x: 1.6966122202056866\n",
      "x: 1.6932477849068133\n",
      "x: 1.7298387096774193\n",
      "x: 1.7729984301412873\n",
      "x: 1.7932235592146928\n",
      "x: 1.0723385877780176\n",
      "x: 1.422543188898329\n",
      "x: 1.5787194556139807\n",
      "x: 1.541155342711763\n",
      "x: 1.6143324412726732\n",
      "x: 1.6628912071535022\n",
      "x: 1.6826981246218995\n",
      "x: 1.666972196761381\n",
      "x: 1.7227047146401986\n",
      "x: 1.7789638932496075\n",
      "x: 1.7938568714376188\n"
     ]
    }
   ],
   "source": [
    "for thread in range(6, 17):\n",
    "    x = df_multi[(df_multi[\"num_job\"] == thread) & (df_multi[\"file_system\"] == \"Speculation-64\")][\"second_bandwidth(MiB/s)\"].iloc[0] / df_multi[(df_multi[\"num_job\"] == thread) & (df_multi[\"file_system\"] == \"Prefetch-Next\")][\"second_bandwidth(MiB/s)\"].iloc[0]\n",
    "    print(\"x: \" + str(x))\n",
    "for thread in range(6, 17):\n",
    "    x = df_multi[(df_multi[\"num_job\"] == thread) & (df_multi[\"file_system\"] == \"Transition\")][\"second_bandwidth(MiB/s)\"].iloc[0] / df_multi[(df_multi[\"num_job\"] == thread) & (df_multi[\"file_system\"] == \"Prefetch-Next\")][\"second_bandwidth(MiB/s)\"].iloc[0]\n",
    "    print(\"x: \" + str(x))"
   ]
  },
  {
   "cell_type": "markdown",
   "metadata": {},
   "source": [
    "- How much content-comparing latency of Speculation compared to Prefetch-Next when #. threads >= 6"
   ]
  },
  {
   "cell_type": "code",
   "execution_count": 8,
   "metadata": {},
   "outputs": [
    {
     "name": "stdout",
     "output_type": "stream",
     "text": [
      "x: 0.9430660640718369\n",
      "x: 1.3329939141195792\n",
      "x: 1.5297509895534\n",
      "x: 1.510930635107265\n",
      "x: 1.5508800852629279\n",
      "x: 1.605276230287005\n",
      "x: 1.654475179399919\n",
      "x: 1.6502161893754115\n",
      "x: 1.6883919869999209\n",
      "x: 1.7226161918709906\n",
      "x: 1.7470794008793515\n"
     ]
    }
   ],
   "source": [
    "for thread in range(6, 17):\n",
    "    x = df_multi[(df_multi[\"num_job\"] == thread) & (df_multi[\"file_system\"] == \"Prefetch-Next\")][\"second_cmp_lat(ns)\"].iloc[0] / df_multi[(df_multi[\"num_job\"] == thread) & (df_multi[\"file_system\"] == \"Speculation-64\")][\"second_cmp_lat(ns)\"].iloc[0]\n",
    "    print(\"x: \" + str(x))\n",
    "for thread in range(6, 17):\n",
    "    x = df_multi[(df_multi[\"num_job\"] == thread) & (df_multi[\"file_system\"] == \"Prefetch-Next\")][\"second_cmp_lat(ns)\"].iloc[0] / df_multi[(df_multi[\"num_job\"] == thread) & (df_multi[\"file_system\"] == \"Transition\")][\"second_cmp_lat(ns)\"].iloc[0]\n",
    "    print(\"x: \" + str(x))"
   ]
  },
  {
   "cell_type": "markdown",
   "metadata": {},
   "source": [
    "# Obsolete Part"
   ]
  },
  {
   "cell_type": "markdown",
   "metadata": {},
   "source": [
    "- How much performance improvment of Prefetch-Next+Speculation under single threads"
   ]
  },
  {
   "cell_type": "code",
   "execution_count": null,
   "metadata": {},
   "outputs": [
    {
     "name": "stdout",
     "output_type": "stream",
     "text": [
      "0    1.466352\n",
      "Name: second_bandwidth(MiB/s), dtype: float64\n",
      "0    1.252016\n",
      "Name: second_bandwidth(MiB/s), dtype: float64\n"
     ]
    }
   ],
   "source": [
    "print(df_multi[(df_multi[\"num_job\"] == 1) & (df_multi[\"file_system\"] == \"Prefetch-Next+Speculation\")][\"second_bandwidth(MiB/s)\"] / min(df_multi[df_multi[\"num_job\"] == 1][\"second_bandwidth(MiB/s)\"]))\n",
    "\n",
    "print(df_multi[(df_multi[\"num_job\"] == 1) & (df_multi[\"file_system\"] == \"Prefetch-Next+Speculation\")][\"second_bandwidth(MiB/s)\"] / max(df_multi[(df_multi[\"num_job\"] == 1) & (df_multi[\"file_system\"] != \"Prefetch-Next+Speculation\")][\"second_bandwidth(MiB/s)\"]))"
   ]
  },
  {
   "cell_type": "markdown",
   "metadata": {},
   "source": [
    "- How much performance is Prefecth-Current faster than others"
   ]
  },
  {
   "cell_type": "code",
   "execution_count": null,
   "metadata": {},
   "outputs": [
    {
     "name": "stdout",
     "output_type": "stream",
     "text": [
      "16    1.468822\n",
      "Name: second_bandwidth(MiB/s), dtype: float64\n",
      "16    1.046053\n",
      "Name: second_bandwidth(MiB/s), dtype: float64\n"
     ]
    }
   ],
   "source": [
    "print(df_multi[(df_multi[\"num_job\"] == 2) & (df_multi[\"file_system\"] == \"Prefetch-Current\")][\"second_bandwidth(MiB/s)\"] / min(df_multi[df_multi[\"num_job\"] == 2][\"second_bandwidth(MiB/s)\"]))\n",
    "\n",
    "print(df_multi[(df_multi[\"num_job\"] == 2) & (df_multi[\"file_system\"] == \"Prefetch-Current\")][\"second_bandwidth(MiB/s)\"] / max(df_multi[(df_multi[\"num_job\"] == 2) & (df_multi[\"file_system\"] != \"Prefetch-Current\")][\"second_bandwidth(MiB/s)\"]))"
   ]
  },
  {
   "cell_type": "code",
   "execution_count": null,
   "metadata": {},
   "outputs": [
    {
     "name": "stdout",
     "output_type": "stream",
     "text": [
      "17    1.59032\n",
      "Name: second_bandwidth(MiB/s), dtype: float64\n",
      "17    1.062969\n",
      "Name: second_bandwidth(MiB/s), dtype: float64\n"
     ]
    }
   ],
   "source": [
    "print(df_multi[(df_multi[\"num_job\"] == 4) & (df_multi[\"file_system\"] == \"Prefetch-Current\")][\"second_bandwidth(MiB/s)\"] / min(df_multi[df_multi[\"num_job\"] == 4][\"second_bandwidth(MiB/s)\"]))\n",
    "\n",
    "print(df_multi[(df_multi[\"num_job\"] == 4) & (df_multi[\"file_system\"] == \"Prefetch-Current\")][\"second_bandwidth(MiB/s)\"] / max(df_multi[(df_multi[\"num_job\"] == 4) & (df_multi[\"file_system\"] != \"Prefetch-Current\")][\"second_bandwidth(MiB/s)\"]))"
   ]
  },
  {
   "cell_type": "markdown",
   "metadata": {},
   "source": [
    "- How much performance is Speculation faster than others"
   ]
  },
  {
   "cell_type": "code",
   "execution_count": null,
   "metadata": {},
   "outputs": [
    {
     "name": "stdout",
     "output_type": "stream",
     "text": [
      "13    1.840996\n",
      "Name: second_bandwidth(MiB/s), dtype: float64\n",
      "13    1.073343\n",
      "Name: second_bandwidth(MiB/s), dtype: float64\n"
     ]
    }
   ],
   "source": [
    "print(df_multi[(df_multi[\"num_job\"] == 8) & (df_multi[\"file_system\"] == \"Speculation\")][\"second_bandwidth(MiB/s)\"] / min(df_multi[df_multi[\"num_job\"] == 8][\"second_bandwidth(MiB/s)\"]))\n",
    "\n",
    "print(df_multi[(df_multi[\"num_job\"] == 8) & (df_multi[\"file_system\"] == \"Speculation\")][\"second_bandwidth(MiB/s)\"] / max(df_multi[(df_multi[\"num_job\"] == 8) & (df_multi[\"file_system\"] != \"Speculation\")][\"second_bandwidth(MiB/s)\"]))"
   ]
  },
  {
   "cell_type": "code",
   "execution_count": null,
   "metadata": {},
   "outputs": [
    {
     "name": "stdout",
     "output_type": "stream",
     "text": [
      "14    1.925586\n",
      "Name: second_bandwidth(MiB/s), dtype: float64\n",
      "14    1.023565\n",
      "Name: second_bandwidth(MiB/s), dtype: float64\n"
     ]
    }
   ],
   "source": [
    "print(df_multi[(df_multi[\"num_job\"] == 16) & (df_multi[\"file_system\"] == \"Speculation\")][\"second_bandwidth(MiB/s)\"] / min(df_multi[df_multi[\"num_job\"] == 16][\"second_bandwidth(MiB/s)\"]))\n",
    "\n",
    "print(df_multi[(df_multi[\"num_job\"] == 16) & (df_multi[\"file_system\"] == \"Speculation\")][\"second_bandwidth(MiB/s)\"] / max(df_multi[(df_multi[\"num_job\"] == 16) & (df_multi[\"file_system\"] != \"Speculation\")][\"second_bandwidth(MiB/s)\"]))"
   ]
  }
 ],
 "metadata": {
  "kernelspec": {
   "display_name": "Python 3.6.8 64-bit",
   "language": "python",
   "name": "python3"
  },
  "language_info": {
   "codemirror_mode": {
    "name": "ipython",
    "version": 3
   },
   "file_extension": ".py",
   "mimetype": "text/x-python",
   "name": "python",
   "nbconvert_exporter": "python",
   "pygments_lexer": "ipython3",
   "version": "3.6.8"
  },
  "orig_nbformat": 4,
  "vscode": {
   "interpreter": {
    "hash": "916dbcbb3f70747c44a77c7bcd40155683ae19c65e1c03b4aa3499c5328201f1"
   }
  }
 },
 "nbformat": 4,
 "nbformat_minor": 2
}

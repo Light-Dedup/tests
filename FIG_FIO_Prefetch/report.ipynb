{
 "cells": [
  {
   "cell_type": "code",
   "execution_count": 10,
   "metadata": {},
   "outputs": [
    {
     "data": {
      "text/html": [
       "<div>\n",
       "<style scoped>\n",
       "    .dataframe tbody tr th:only-of-type {\n",
       "        vertical-align: middle;\n",
       "    }\n",
       "\n",
       "    .dataframe tbody tr th {\n",
       "        vertical-align: top;\n",
       "    }\n",
       "\n",
       "    .dataframe thead th {\n",
       "        text-align: right;\n",
       "    }\n",
       "</style>\n",
       "<table border=\"1\" class=\"dataframe\">\n",
       "  <thead>\n",
       "    <tr style=\"text-align: right;\">\n",
       "      <th></th>\n",
       "      <th>file_system</th>\n",
       "      <th>num_job</th>\n",
       "      <th>first_bandwidth(MiB/s)</th>\n",
       "      <th>second_bandwidth(MiB/s)</th>\n",
       "      <th>second_cmp_lat(ns)</th>\n",
       "      <th>second_fp_lat(ns)</th>\n",
       "      <th>second_prefetch_lat(ns)</th>\n",
       "      <th>second_lookup_lat(ns)</th>\n",
       "      <th>second_copy_user(ns)</th>\n",
       "      <th>second_others_lat(ns)</th>\n",
       "      <th>second_lat(ns)</th>\n",
       "    </tr>\n",
       "  </thead>\n",
       "  <tbody>\n",
       "    <tr>\n",
       "      <th>0</th>\n",
       "      <td>Naive</td>\n",
       "      <td>1</td>\n",
       "      <td>1438</td>\n",
       "      <td>822</td>\n",
       "      <td>51738599078</td>\n",
       "      <td>7630687104</td>\n",
       "      <td>0</td>\n",
       "      <td>3895886103</td>\n",
       "      <td>5042909539</td>\n",
       "      <td>2326766513</td>\n",
       "      <td>70634848338</td>\n",
       "    </tr>\n",
       "    <tr>\n",
       "      <th>1</th>\n",
       "      <td>Prefetch-Cmp-64</td>\n",
       "      <td>1</td>\n",
       "      <td>1433</td>\n",
       "      <td>1168</td>\n",
       "      <td>28106417829</td>\n",
       "      <td>7756934533</td>\n",
       "      <td>0</td>\n",
       "      <td>3853131065</td>\n",
       "      <td>5054238294</td>\n",
       "      <td>2321942961</td>\n",
       "      <td>47092664683</td>\n",
       "    </tr>\n",
       "    <tr>\n",
       "      <th>2</th>\n",
       "      <td>Prefetch-Cmp-256-64</td>\n",
       "      <td>1</td>\n",
       "      <td>1420</td>\n",
       "      <td>1281</td>\n",
       "      <td>21640106927</td>\n",
       "      <td>7532655388</td>\n",
       "      <td>0</td>\n",
       "      <td>3865194242</td>\n",
       "      <td>5069544027</td>\n",
       "      <td>3955797753</td>\n",
       "      <td>42063298339</td>\n",
       "    </tr>\n",
       "    <tr>\n",
       "      <th>3</th>\n",
       "      <td>Prefetch-Current</td>\n",
       "      <td>1</td>\n",
       "      <td>1440</td>\n",
       "      <td>1451</td>\n",
       "      <td>13760949146</td>\n",
       "      <td>8864519373</td>\n",
       "      <td>546731655</td>\n",
       "      <td>3902975548</td>\n",
       "      <td>5042856368</td>\n",
       "      <td>4038966620</td>\n",
       "      <td>36156998713</td>\n",
       "    </tr>\n",
       "    <tr>\n",
       "      <th>4</th>\n",
       "      <td>Speculation</td>\n",
       "      <td>1</td>\n",
       "      <td>1411</td>\n",
       "      <td>1543</td>\n",
       "      <td>25124257199</td>\n",
       "      <td>10005</td>\n",
       "      <td>0</td>\n",
       "      <td>12774</td>\n",
       "      <td>5063092155</td>\n",
       "      <td>3252794020</td>\n",
       "      <td>33440166155</td>\n",
       "    </tr>\n",
       "  </tbody>\n",
       "</table>\n",
       "</div>"
      ],
      "text/plain": [
       "           file_system  num_job  first_bandwidth(MiB/s)  \\\n",
       "0                Naive        1                    1438   \n",
       "1      Prefetch-Cmp-64        1                    1433   \n",
       "2  Prefetch-Cmp-256-64        1                    1420   \n",
       "3     Prefetch-Current        1                    1440   \n",
       "4          Speculation        1                    1411   \n",
       "\n",
       "   second_bandwidth(MiB/s)  second_cmp_lat(ns)  second_fp_lat(ns)  \\\n",
       "0                      822         51738599078         7630687104   \n",
       "1                     1168         28106417829         7756934533   \n",
       "2                     1281         21640106927         7532655388   \n",
       "3                     1451         13760949146         8864519373   \n",
       "4                     1543         25124257199              10005   \n",
       "\n",
       "   second_prefetch_lat(ns)  second_lookup_lat(ns)  second_copy_user(ns)  \\\n",
       "0                        0             3895886103            5042909539   \n",
       "1                        0             3853131065            5054238294   \n",
       "2                        0             3865194242            5069544027   \n",
       "3                546731655             3902975548            5042856368   \n",
       "4                        0                  12774            5063092155   \n",
       "\n",
       "   second_others_lat(ns)  second_lat(ns)  \n",
       "0             2326766513     70634848338  \n",
       "1             2321942961     47092664683  \n",
       "2             3955797753     42063298339  \n",
       "3             4038966620     36156998713  \n",
       "4             3252794020     33440166155  "
      ]
     },
     "execution_count": 10,
     "metadata": {},
     "output_type": "execute_result"
    }
   ],
   "source": [
    "import pandas as pd\n",
    "\n",
    "with open(\"./avg-test-result-single-in-paper\", \"r\") as f:\n",
    "    df_single = pd.read_csv(f, delim_whitespace=True, engine='python')\n",
    "df_single.head()"
   ]
  },
  {
   "cell_type": "markdown",
   "metadata": {},
   "source": [
    "- How much performance improvemnt does PN compared to others"
   ]
  },
  {
   "cell_type": "code",
   "execution_count": 26,
   "metadata": {},
   "outputs": [
    {
     "name": "stdout",
     "output_type": "stream",
     "text": [
      "x: 1.0829552819183408\n",
      "x: 2.0328467153284673\n"
     ]
    }
   ],
   "source": [
    "for fs in [\"Speculation\", \"Naive\"]:\n",
    "    x = df_single[(df_single[\"num_job\"] == 1) & (df_single[\"file_system\"] == \"Prefetch-Next\")][\"second_bandwidth(MiB/s)\"].iloc[0] / df_single[(df_single[\"num_job\"] == 1) & (df_single[\"file_system\"] == fs)][\"second_bandwidth(MiB/s)\"].iloc[0]\n",
    "    print(\"x: \" + str(x))"
   ]
  },
  {
   "cell_type": "markdown",
   "metadata": {},
   "source": [
    "- How much performance improvement does Prefetch-Cmp-64 compared to Naive"
   ]
  },
  {
   "cell_type": "code",
   "execution_count": 27,
   "metadata": {},
   "outputs": [
    {
     "name": "stdout",
     "output_type": "stream",
     "text": [
      "x: 1.4209245742092458\n"
     ]
    }
   ],
   "source": [
    "x = df_single[(df_single[\"num_job\"] == 1) & (df_single[\"file_system\"] == \"Prefetch-Cmp-64\")][\"second_bandwidth(MiB/s)\"].iloc[0] / df_single[(df_single[\"num_job\"] == 1) & (df_single[\"file_system\"] == \"Naive\")][\"second_bandwidth(MiB/s)\"].iloc[0]\n",
    "print(\"x: \" + str(x))"
   ]
  },
  {
   "cell_type": "markdown",
   "metadata": {},
   "source": [
    "- How much performance improvement does Prefetch-Cmp-256-64 compared to Prefetch-Cmp-64"
   ]
  },
  {
   "cell_type": "code",
   "execution_count": 12,
   "metadata": {},
   "outputs": [
    {
     "name": "stdout",
     "output_type": "stream",
     "text": [
      "x: 1.0967465753424657\n"
     ]
    }
   ],
   "source": [
    "x = df_single[(df_single[\"num_job\"] == 1) & (df_single[\"file_system\"] == \"Prefetch-Cmp-256-64\")][\"second_bandwidth(MiB/s)\"].iloc[0] / df_single[(df_single[\"num_job\"] == 1) & (df_single[\"file_system\"] == \"Prefetch-Cmp-64\")][\"second_bandwidth(MiB/s)\"].iloc[0]\n",
    "print(\"x: \" + str(x))"
   ]
  },
  {
   "cell_type": "markdown",
   "metadata": {},
   "source": [
    "- How much performance improvement does PN compared to SP"
   ]
  },
  {
   "cell_type": "code",
   "execution_count": null,
   "metadata": {},
   "outputs": [],
   "source": [
    "x = df_single[(df_single[\"num_job\"] == 1) & (df_single[\"file_system\"] == \"Prefetch-Next\")][\"second_bandwidth(MiB/s)\"].iloc[0] / df_single[(df_single[\"num_job\"] == 1) & (df_single[\"file_system\"] == \"Speculation\")][\"second_bandwidth(MiB/s)\"].iloc[0]\n",
    "print(\"x: \" + str(x))"
   ]
  },
  {
   "cell_type": "code",
   "execution_count": 13,
   "metadata": {},
   "outputs": [
    {
     "data": {
      "text/html": [
       "<div>\n",
       "<style scoped>\n",
       "    .dataframe tbody tr th:only-of-type {\n",
       "        vertical-align: middle;\n",
       "    }\n",
       "\n",
       "    .dataframe tbody tr th {\n",
       "        vertical-align: top;\n",
       "    }\n",
       "\n",
       "    .dataframe thead th {\n",
       "        text-align: right;\n",
       "    }\n",
       "</style>\n",
       "<table border=\"1\" class=\"dataframe\">\n",
       "  <thead>\n",
       "    <tr style=\"text-align: right;\">\n",
       "      <th></th>\n",
       "      <th>file_system</th>\n",
       "      <th>num_job</th>\n",
       "      <th>first_bandwidth(MiB/s)</th>\n",
       "      <th>second_bandwidth(MiB/s)</th>\n",
       "      <th>second_cmp_lat(ns)</th>\n",
       "      <th>second_fp_lat(ns)</th>\n",
       "      <th>second_prefetch_lat(ns)</th>\n",
       "      <th>second_lookup_lat(ns)</th>\n",
       "      <th>second_others_lat(ns)</th>\n",
       "      <th>second_lat(ns)</th>\n",
       "    </tr>\n",
       "  </thead>\n",
       "  <tbody>\n",
       "    <tr>\n",
       "      <th>0</th>\n",
       "      <td>Naive</td>\n",
       "      <td>1</td>\n",
       "      <td>1424</td>\n",
       "      <td>815</td>\n",
       "      <td>51908437578</td>\n",
       "      <td>7797909630</td>\n",
       "      <td>0</td>\n",
       "      <td>3904557619</td>\n",
       "      <td>6023110881</td>\n",
       "      <td>2.986010e+10</td>\n",
       "    </tr>\n",
       "    <tr>\n",
       "      <th>1</th>\n",
       "      <td>Naive</td>\n",
       "      <td>2</td>\n",
       "      <td>1857</td>\n",
       "      <td>1579</td>\n",
       "      <td>53467951131</td>\n",
       "      <td>7906564283</td>\n",
       "      <td>0</td>\n",
       "      <td>4147450131</td>\n",
       "      <td>6107758570</td>\n",
       "      <td>3.066568e+10</td>\n",
       "    </tr>\n",
       "    <tr>\n",
       "      <th>2</th>\n",
       "      <td>Naive</td>\n",
       "      <td>3</td>\n",
       "      <td>1940</td>\n",
       "      <td>2316</td>\n",
       "      <td>54460102490</td>\n",
       "      <td>8399566940</td>\n",
       "      <td>0</td>\n",
       "      <td>4416016285</td>\n",
       "      <td>6151623387</td>\n",
       "      <td>3.147136e+10</td>\n",
       "    </tr>\n",
       "    <tr>\n",
       "      <th>3</th>\n",
       "      <td>Naive</td>\n",
       "      <td>4</td>\n",
       "      <td>2020</td>\n",
       "      <td>2980</td>\n",
       "      <td>55607482817</td>\n",
       "      <td>9609896340</td>\n",
       "      <td>0</td>\n",
       "      <td>4649568704</td>\n",
       "      <td>6232235892</td>\n",
       "      <td>3.264228e+10</td>\n",
       "    </tr>\n",
       "    <tr>\n",
       "      <th>4</th>\n",
       "      <td>Naive</td>\n",
       "      <td>5</td>\n",
       "      <td>2084</td>\n",
       "      <td>3544</td>\n",
       "      <td>56993632461</td>\n",
       "      <td>12083138849</td>\n",
       "      <td>0</td>\n",
       "      <td>4879484359</td>\n",
       "      <td>6383557536</td>\n",
       "      <td>3.402018e+10</td>\n",
       "    </tr>\n",
       "  </tbody>\n",
       "</table>\n",
       "</div>"
      ],
      "text/plain": [
       "  file_system  num_job  first_bandwidth(MiB/s)  second_bandwidth(MiB/s)  \\\n",
       "0       Naive        1                    1424                      815   \n",
       "1       Naive        2                    1857                     1579   \n",
       "2       Naive        3                    1940                     2316   \n",
       "3       Naive        4                    2020                     2980   \n",
       "4       Naive        5                    2084                     3544   \n",
       "\n",
       "   second_cmp_lat(ns)  second_fp_lat(ns)  second_prefetch_lat(ns)  \\\n",
       "0         51908437578         7797909630                        0   \n",
       "1         53467951131         7906564283                        0   \n",
       "2         54460102490         8399566940                        0   \n",
       "3         55607482817         9609896340                        0   \n",
       "4         56993632461        12083138849                        0   \n",
       "\n",
       "   second_lookup_lat(ns)  second_others_lat(ns)  second_lat(ns)  \n",
       "0             3904557619             6023110881    2.986010e+10  \n",
       "1             4147450131             6107758570    3.066568e+10  \n",
       "2             4416016285             6151623387    3.147136e+10  \n",
       "3             4649568704             6232235892    3.264228e+10  \n",
       "4             4879484359             6383557536    3.402018e+10  "
      ]
     },
     "execution_count": 13,
     "metadata": {},
     "output_type": "execute_result"
    }
   ],
   "source": [
    "import pandas as pd\n",
    "\n",
    "with open(\"./avg-test-result-multi-in-paper\", \"r\") as f:\n",
    "    df_multi = pd.read_csv(f, delim_whitespace=True, engine='python')\n",
    "df_multi.head()"
   ]
  },
  {
   "cell_type": "markdown",
   "metadata": {},
   "source": [
    "- How much performance improvement of Prefetch-Next compared to Speculation when #. threads <= 5"
   ]
  },
  {
   "cell_type": "code",
   "execution_count": 14,
   "metadata": {},
   "outputs": [
    {
     "name": "stdout",
     "output_type": "stream",
     "text": [
      "x: 1.2347242921013413\n",
      "x: 1.2266047950502708\n",
      "x: 1.2038420490928494\n",
      "x: 1.1491057961646196\n",
      "x: 1.1143253417872003\n"
     ]
    }
   ],
   "source": [
    "for thread in range(1, 6):\n",
    "    x = df_multi[(df_multi[\"num_job\"] == thread) & (df_multi[\"file_system\"] == \"Prefetch-Next\")][\"second_bandwidth(MiB/s)\"].iloc[0] / df_multi[(df_multi[\"num_job\"] == thread) & (df_multi[\"file_system\"] == \"Speculation-64\")][\"second_bandwidth(MiB/s)\"].iloc[0]\n",
    "    print(\"x: \" + str(x))"
   ]
  },
  {
   "cell_type": "markdown",
   "metadata": {},
   "source": [
    "- How much performance improvement of Prefetch-Next compared to NV when #. threads <= 5"
   ]
  },
  {
   "cell_type": "code",
   "execution_count": 15,
   "metadata": {},
   "outputs": [
    {
     "name": "stdout",
     "output_type": "stream",
     "text": [
      "x: 2.033128834355828\n",
      "x: 2.0088663711209627\n",
      "x: 1.9481865284974094\n",
      "x: 1.7895973154362417\n",
      "x: 1.5869074492099322\n"
     ]
    }
   ],
   "source": [
    "for thread in range(1, 6):\n",
    "    x = df_multi[(df_multi[\"num_job\"] == thread) & (df_multi[\"file_system\"] == \"Prefetch-Next\")][\"second_bandwidth(MiB/s)\"].iloc[0] / df_multi[(df_multi[\"num_job\"] == thread) & (df_multi[\"file_system\"] == \"Naive\")][\"second_bandwidth(MiB/s)\"].iloc[0]\n",
    "    print(\"x: \" + str(x))"
   ]
  },
  {
   "cell_type": "markdown",
   "metadata": {},
   "source": [
    "- How much performance improvement of Speculation compared to Prefetch-Next when #. threads >= 6"
   ]
  },
  {
   "cell_type": "code",
   "execution_count": 16,
   "metadata": {},
   "outputs": [
    {
     "name": "stdout",
     "output_type": "stream",
     "text": [
      "x: 1.0818397754264737\n",
      "x: 1.4372698952138205\n",
      "x: 1.5997525518094649\n",
      "x: 1.5812630948817719\n",
      "x: 1.6092774308652988\n",
      "x: 1.651564828614009\n",
      "x: 1.6966122202056866\n",
      "x: 1.6932477849068133\n",
      "x: 1.7298387096774193\n",
      "x: 1.7729984301412873\n",
      "x: 1.7932235592146928\n",
      "x: 1.0723385877780176\n",
      "x: 1.422543188898329\n",
      "x: 1.5787194556139807\n",
      "x: 1.541155342711763\n",
      "x: 1.6143324412726732\n",
      "x: 1.6628912071535022\n",
      "x: 1.6826981246218995\n",
      "x: 1.666972196761381\n",
      "x: 1.7227047146401986\n",
      "x: 1.7789638932496075\n",
      "x: 1.7938568714376188\n"
     ]
    }
   ],
   "source": [
    "for thread in range(6, 17):\n",
    "    x = df_multi[(df_multi[\"num_job\"] == thread) & (df_multi[\"file_system\"] == \"Speculation-64\")][\"second_bandwidth(MiB/s)\"].iloc[0] / df_multi[(df_multi[\"num_job\"] == thread) & (df_multi[\"file_system\"] == \"Prefetch-Next\")][\"second_bandwidth(MiB/s)\"].iloc[0]\n",
    "    print(\"x: \" + str(x))\n",
    "for thread in range(6, 17):\n",
    "    x = df_multi[(df_multi[\"num_job\"] == thread) & (df_multi[\"file_system\"] == \"Transition\")][\"second_bandwidth(MiB/s)\"].iloc[0] / df_multi[(df_multi[\"num_job\"] == thread) & (df_multi[\"file_system\"] == \"Prefetch-Next\")][\"second_bandwidth(MiB/s)\"].iloc[0]\n",
    "    print(\"x: \" + str(x))"
   ]
  },
  {
   "cell_type": "markdown",
   "metadata": {},
   "source": [
    "- How much content-comparing latency of Speculation compared to Prefetch-Next when #. threads >= 6"
   ]
  },
  {
   "cell_type": "code",
   "execution_count": 17,
   "metadata": {},
   "outputs": [
    {
     "name": "stdout",
     "output_type": "stream",
     "text": [
      "x: 0.9430660640718369\n",
      "x: 1.3329939141195792\n",
      "x: 1.5297509895534\n",
      "x: 1.510930635107265\n",
      "x: 1.5508800852629279\n",
      "x: 1.605276230287005\n",
      "x: 1.654475179399919\n",
      "x: 1.6502161893754115\n",
      "x: 1.6883919869999209\n",
      "x: 1.7226161918709906\n",
      "x: 1.7470794008793515\n",
      "x: 0.940855380897298\n",
      "x: 1.3140468350823598\n",
      "x: 1.5011068160842327\n",
      "x: 1.4617890190113283\n",
      "x: 1.558432981973051\n",
      "x: 1.6205570783348449\n",
      "x: 1.6388787913461642\n",
      "x: 1.629004359462796\n",
      "x: 1.6763659470781818\n",
      "x: 1.7267346047483876\n",
      "x: 1.7471669567062136\n"
     ]
    }
   ],
   "source": [
    "for thread in range(6, 17):\n",
    "    x = df_multi[(df_multi[\"num_job\"] == thread) & (df_multi[\"file_system\"] == \"Prefetch-Next\")][\"second_cmp_lat(ns)\"].iloc[0] / df_multi[(df_multi[\"num_job\"] == thread) & (df_multi[\"file_system\"] == \"Speculation-64\")][\"second_cmp_lat(ns)\"].iloc[0]\n",
    "    print(\"x: \" + str(x))\n",
    "for thread in range(6, 17):\n",
    "    x = df_multi[(df_multi[\"num_job\"] == thread) & (df_multi[\"file_system\"] == \"Prefetch-Next\")][\"second_cmp_lat(ns)\"].iloc[0] / df_multi[(df_multi[\"num_job\"] == thread) & (df_multi[\"file_system\"] == \"Transition\")][\"second_cmp_lat(ns)\"].iloc[0]\n",
    "    print(\"x: \" + str(x))"
   ]
  },
  {
   "cell_type": "markdown",
   "metadata": {},
   "source": [
    "# Obsolete Part"
   ]
  },
  {
   "cell_type": "markdown",
   "metadata": {},
   "source": [
    "- How much performance improvment of Prefetch-Next+Speculation under single threads"
   ]
  },
  {
   "cell_type": "code",
   "execution_count": 18,
   "metadata": {},
   "outputs": [
    {
     "name": "stdout",
     "output_type": "stream",
     "text": [
      "Series([], Name: second_bandwidth(MiB/s), dtype: float64)\n",
      "Series([], Name: second_bandwidth(MiB/s), dtype: float64)\n"
     ]
    }
   ],
   "source": [
    "print(df_multi[(df_multi[\"num_job\"] == 1) & (df_multi[\"file_system\"] == \"Prefetch-Next+Speculation\")][\"second_bandwidth(MiB/s)\"] / min(df_multi[df_multi[\"num_job\"] == 1][\"second_bandwidth(MiB/s)\"]))\n",
    "\n",
    "print(df_multi[(df_multi[\"num_job\"] == 1) & (df_multi[\"file_system\"] == \"Prefetch-Next+Speculation\")][\"second_bandwidth(MiB/s)\"] / max(df_multi[(df_multi[\"num_job\"] == 1) & (df_multi[\"file_system\"] != \"Prefetch-Next+Speculation\")][\"second_bandwidth(MiB/s)\"]))"
   ]
  },
  {
   "cell_type": "markdown",
   "metadata": {},
   "source": [
    "- How much performance is Prefecth-Current faster than others"
   ]
  },
  {
   "cell_type": "code",
   "execution_count": 19,
   "metadata": {},
   "outputs": [
    {
     "name": "stdout",
     "output_type": "stream",
     "text": [
      "Series([], Name: second_bandwidth(MiB/s), dtype: float64)\n",
      "Series([], Name: second_bandwidth(MiB/s), dtype: float64)\n"
     ]
    }
   ],
   "source": [
    "print(df_multi[(df_multi[\"num_job\"] == 2) & (df_multi[\"file_system\"] == \"Prefetch-Current\")][\"second_bandwidth(MiB/s)\"] / min(df_multi[df_multi[\"num_job\"] == 2][\"second_bandwidth(MiB/s)\"]))\n",
    "\n",
    "print(df_multi[(df_multi[\"num_job\"] == 2) & (df_multi[\"file_system\"] == \"Prefetch-Current\")][\"second_bandwidth(MiB/s)\"] / max(df_multi[(df_multi[\"num_job\"] == 2) & (df_multi[\"file_system\"] != \"Prefetch-Current\")][\"second_bandwidth(MiB/s)\"]))"
   ]
  },
  {
   "cell_type": "code",
   "execution_count": 20,
   "metadata": {},
   "outputs": [
    {
     "name": "stdout",
     "output_type": "stream",
     "text": [
      "Series([], Name: second_bandwidth(MiB/s), dtype: float64)\n",
      "Series([], Name: second_bandwidth(MiB/s), dtype: float64)\n"
     ]
    }
   ],
   "source": [
    "print(df_multi[(df_multi[\"num_job\"] == 4) & (df_multi[\"file_system\"] == \"Prefetch-Current\")][\"second_bandwidth(MiB/s)\"] / min(df_multi[df_multi[\"num_job\"] == 4][\"second_bandwidth(MiB/s)\"]))\n",
    "\n",
    "print(df_multi[(df_multi[\"num_job\"] == 4) & (df_multi[\"file_system\"] == \"Prefetch-Current\")][\"second_bandwidth(MiB/s)\"] / max(df_multi[(df_multi[\"num_job\"] == 4) & (df_multi[\"file_system\"] != \"Prefetch-Current\")][\"second_bandwidth(MiB/s)\"]))"
   ]
  },
  {
   "cell_type": "markdown",
   "metadata": {},
   "source": [
    "- How much performance is Speculation faster than others"
   ]
  },
  {
   "cell_type": "code",
   "execution_count": 21,
   "metadata": {},
   "outputs": [
    {
     "name": "stdout",
     "output_type": "stream",
     "text": [
      "Series([], Name: second_bandwidth(MiB/s), dtype: float64)\n",
      "Series([], Name: second_bandwidth(MiB/s), dtype: float64)\n"
     ]
    }
   ],
   "source": [
    "print(df_multi[(df_multi[\"num_job\"] == 8) & (df_multi[\"file_system\"] == \"Speculation\")][\"second_bandwidth(MiB/s)\"] / min(df_multi[df_multi[\"num_job\"] == 8][\"second_bandwidth(MiB/s)\"]))\n",
    "\n",
    "print(df_multi[(df_multi[\"num_job\"] == 8) & (df_multi[\"file_system\"] == \"Speculation\")][\"second_bandwidth(MiB/s)\"] / max(df_multi[(df_multi[\"num_job\"] == 8) & (df_multi[\"file_system\"] != \"Speculation\")][\"second_bandwidth(MiB/s)\"]))"
   ]
  },
  {
   "cell_type": "code",
   "execution_count": 22,
   "metadata": {},
   "outputs": [
    {
     "name": "stdout",
     "output_type": "stream",
     "text": [
      "Series([], Name: second_bandwidth(MiB/s), dtype: float64)\n",
      "Series([], Name: second_bandwidth(MiB/s), dtype: float64)\n"
     ]
    }
   ],
   "source": [
    "print(df_multi[(df_multi[\"num_job\"] == 16) & (df_multi[\"file_system\"] == \"Speculation\")][\"second_bandwidth(MiB/s)\"] / min(df_multi[df_multi[\"num_job\"] == 16][\"second_bandwidth(MiB/s)\"]))\n",
    "\n",
    "print(df_multi[(df_multi[\"num_job\"] == 16) & (df_multi[\"file_system\"] == \"Speculation\")][\"second_bandwidth(MiB/s)\"] / max(df_multi[(df_multi[\"num_job\"] == 16) & (df_multi[\"file_system\"] != \"Speculation\")][\"second_bandwidth(MiB/s)\"]))"
   ]
  }
 ],
 "metadata": {
  "kernelspec": {
   "display_name": "Python 3.6.8 64-bit",
   "language": "python",
   "name": "python3"
  },
  "language_info": {
   "codemirror_mode": {
    "name": "ipython",
    "version": 3
   },
   "file_extension": ".py",
   "mimetype": "text/x-python",
   "name": "python",
   "nbconvert_exporter": "python",
   "pygments_lexer": "ipython3",
   "version": "3.6.8"
  },
  "orig_nbformat": 4,
  "vscode": {
   "interpreter": {
    "hash": "916dbcbb3f70747c44a77c7bcd40155683ae19c65e1c03b4aa3499c5328201f1"
   }
  }
 },
 "nbformat": 4,
 "nbformat_minor": 2
}

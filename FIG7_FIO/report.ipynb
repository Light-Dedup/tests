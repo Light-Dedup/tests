{
 "cells": [
  {
   "cell_type": "code",
   "execution_count": 15,
   "metadata": {},
   "outputs": [
    {
     "data": {
      "text/html": [
       "<div>\n",
       "<style scoped>\n",
       "    .dataframe tbody tr th:only-of-type {\n",
       "        vertical-align: middle;\n",
       "    }\n",
       "\n",
       "    .dataframe tbody tr th {\n",
       "        vertical-align: top;\n",
       "    }\n",
       "\n",
       "    .dataframe thead th {\n",
       "        text-align: right;\n",
       "    }\n",
       "</style>\n",
       "<table border=\"1\" class=\"dataframe\">\n",
       "  <thead>\n",
       "    <tr style=\"text-align: right;\">\n",
       "      <th></th>\n",
       "      <th>file_system</th>\n",
       "      <th>dup_rate</th>\n",
       "      <th>num_job</th>\n",
       "      <th>bandwidth(MiB/s)</th>\n",
       "    </tr>\n",
       "  </thead>\n",
       "  <tbody>\n",
       "    <tr>\n",
       "      <th>0</th>\n",
       "      <td>Light-Dedup</td>\n",
       "      <td>0</td>\n",
       "      <td>1</td>\n",
       "      <td>1490</td>\n",
       "    </tr>\n",
       "    <tr>\n",
       "      <th>1</th>\n",
       "      <td>Light-Dedup</td>\n",
       "      <td>0</td>\n",
       "      <td>8</td>\n",
       "      <td>2019</td>\n",
       "    </tr>\n",
       "    <tr>\n",
       "      <th>2</th>\n",
       "      <td>Naive</td>\n",
       "      <td>0</td>\n",
       "      <td>1</td>\n",
       "      <td>1530</td>\n",
       "    </tr>\n",
       "    <tr>\n",
       "      <th>3</th>\n",
       "      <td>Naive</td>\n",
       "      <td>0</td>\n",
       "      <td>8</td>\n",
       "      <td>2013</td>\n",
       "    </tr>\n",
       "    <tr>\n",
       "      <th>4</th>\n",
       "      <td>DeNOVA</td>\n",
       "      <td>0</td>\n",
       "      <td>1</td>\n",
       "      <td>1288</td>\n",
       "    </tr>\n",
       "  </tbody>\n",
       "</table>\n",
       "</div>"
      ],
      "text/plain": [
       "   file_system  dup_rate  num_job  bandwidth(MiB/s)\n",
       "0  Light-Dedup         0        1              1490\n",
       "1  Light-Dedup         0        8              2019\n",
       "2        Naive         0        1              1530\n",
       "3        Naive         0        8              2013\n",
       "4       DeNOVA         0        1              1288"
      ]
     },
     "execution_count": 15,
     "metadata": {},
     "output_type": "execute_result"
    }
   ],
   "source": [
    "import pandas as pd\n",
    "\n",
    "with open(\"./performance-comparison-table-4K\", \"r\") as f:\n",
    "    df_4K = pd.read_csv(f, delim_whitespace=True, engine='python')\n",
    "df_4K.head()\n",
    "\n",
    "with open(\"./performance-comparison-table-continuous\", \"r\") as f:\n",
    "    df_continuous = pd.read_csv(f, delim_whitespace=True, engine='python')\n",
    "df_continuous.head()"
   ]
  },
  {
   "attachments": {},
   "cell_type": "markdown",
   "metadata": {},
   "source": [
    "- How fast Light-Dedup is compared to NOVA in 4K?"
   ]
  },
  {
   "cell_type": "code",
   "execution_count": 16,
   "metadata": {},
   "outputs": [
    {
     "name": "stdout",
     "output_type": "stream",
     "text": [
      "MIN: 1.03 MAX: 2.28\n"
     ]
    }
   ],
   "source": [
    "df = df_4K[df_4K[\"file_system\"] == \"Light-Dedup\"][\"bandwidth(MiB/s)\"].reset_index() / df_4K[df_4K[\"file_system\"] == \"NOVA\"][\"bandwidth(MiB/s)\"].reset_index()\n",
    "print(\"MIN: %.2f MAX: %.2f\" % (df[df[\"bandwidth(MiB/s)\"] >= 1].min()[\"bandwidth(MiB/s)\"], df[df[\"bandwidth(MiB/s)\"] >= 1].max()[\"bandwidth(MiB/s)\"])) "
   ]
  },
  {
   "attachments": {},
   "cell_type": "markdown",
   "metadata": {},
   "source": [
    "- How fast Light-Dedup is compared to NOVA in 4K under >= 75% dup ratio?"
   ]
  },
  {
   "cell_type": "code",
   "execution_count": 17,
   "metadata": {},
   "outputs": [
    {
     "name": "stdout",
     "output_type": "stream",
     "text": [
      "MIN: 1.05 MAX: 2.28\n"
     ]
    }
   ],
   "source": [
    "df = df_4K[(df_4K[\"file_system\"] == \"Light-Dedup\") & (df_4K[\"dup_rate\"] >= 75)][\"bandwidth(MiB/s)\"].reset_index() / df_4K[(df_4K[\"file_system\"] == \"NOVA\") & (df_4K[\"dup_rate\"] >= 75)][\"bandwidth(MiB/s)\"].reset_index()\n",
    "print(\"MIN: %.2f MAX: %.2f\" % (df[df[\"bandwidth(MiB/s)\"] >= 1].min()[\"bandwidth(MiB/s)\"], df[df[\"bandwidth(MiB/s)\"] >= 1].max()[\"bandwidth(MiB/s)\"])) "
   ]
  },
  {
   "attachments": {},
   "cell_type": "markdown",
   "metadata": {},
   "source": [
    "- How slow Light-Dedup is compared to NOVA in 4K?"
   ]
  },
  {
   "cell_type": "code",
   "execution_count": 18,
   "metadata": {},
   "outputs": [
    {
     "name": "stdout",
     "output_type": "stream",
     "text": [
      "MIN: 0.85 MAX: 0.97\n"
     ]
    }
   ],
   "source": [
    "df = df_4K[df_4K[\"file_system\"] == \"Light-Dedup\"][\"bandwidth(MiB/s)\"].reset_index() / df_4K[df_4K[\"file_system\"] == \"NOVA\"][\"bandwidth(MiB/s)\"].reset_index()\n",
    "print(\"MIN: %.2f MAX: %.2f\" % (df[df[\"bandwidth(MiB/s)\"] < 1].min()[\"bandwidth(MiB/s)\"], df[df[\"bandwidth(MiB/s)\"] < 1].max()[\"bandwidth(MiB/s)\"])) "
   ]
  },
  {
   "attachments": {},
   "cell_type": "markdown",
   "metadata": {},
   "source": [
    "- How fast Light-Dedup is compared to NOVA in 2MiB?"
   ]
  },
  {
   "cell_type": "code",
   "execution_count": 19,
   "metadata": {},
   "outputs": [
    {
     "name": "stdout",
     "output_type": "stream",
     "text": [
      "MIN: 1.07 MAX: 3.56\n"
     ]
    }
   ],
   "source": [
    "df = df_continuous[df_continuous[\"file_system\"] == \"Light-Dedup\"][\"bandwidth(MiB/s)\"].reset_index() / df_continuous[df_continuous[\"file_system\"] == \"NOVA\"][\"bandwidth(MiB/s)\"].reset_index()\n",
    "print(\"MIN: %.2f MAX: %.2f\" % (df[df[\"bandwidth(MiB/s)\"] >= 1].min()[\"bandwidth(MiB/s)\"], df[df[\"bandwidth(MiB/s)\"] >= 1].max()[\"bandwidth(MiB/s)\"])) "
   ]
  },
  {
   "attachments": {},
   "cell_type": "markdown",
   "metadata": {},
   "source": [
    "- How fast Light-Dedup is compared to NV-Dedup in 4KiB?"
   ]
  },
  {
   "cell_type": "code",
   "execution_count": 20,
   "metadata": {},
   "outputs": [
    {
     "name": "stdout",
     "output_type": "stream",
     "text": [
      "MIN: 1.01 MAX: 4.58\n"
     ]
    }
   ],
   "source": [
    "df = df_4K[df_4K[\"file_system\"] == \"Light-Dedup\"][\"bandwidth(MiB/s)\"].reset_index() / df_4K[df_4K[\"file_system\"] == \"NV-Dedup\"][\"bandwidth(MiB/s)\"].reset_index()\n",
    "print(\"MIN: %.2f MAX: %.2f\" % (df[df[\"bandwidth(MiB/s)\"] >= 1].min()[\"bandwidth(MiB/s)\"], df[df[\"bandwidth(MiB/s)\"] >= 1].max()[\"bandwidth(MiB/s)\"])) "
   ]
  },
  {
   "attachments": {},
   "cell_type": "markdown",
   "metadata": {},
   "source": [
    "- How fast Light-Dedup is compared to NV-Dedup in 2MiB?"
   ]
  },
  {
   "cell_type": "code",
   "execution_count": 21,
   "metadata": {},
   "outputs": [
    {
     "name": "stdout",
     "output_type": "stream",
     "text": [
      "MIN: 1.18 MAX: 8.98\n"
     ]
    }
   ],
   "source": [
    "df = df_continuous[df_continuous[\"file_system\"] == \"Light-Dedup\"][\"bandwidth(MiB/s)\"].reset_index() / df_continuous[df_continuous[\"file_system\"] == \"NV-Dedup\"][\"bandwidth(MiB/s)\"].reset_index()\n",
    "print(\"MIN: %.2f MAX: %.2f\" % (df[df[\"bandwidth(MiB/s)\"] >= 1].min()[\"bandwidth(MiB/s)\"], df[df[\"bandwidth(MiB/s)\"] >= 1].max()[\"bandwidth(MiB/s)\"])) "
   ]
  },
  {
   "attachments": {},
   "cell_type": "markdown",
   "metadata": {},
   "source": [
    "- How fast Light-Dedup is compared to NV-Dedup in 4K >= 75% dup ratio?"
   ]
  },
  {
   "cell_type": "code",
   "execution_count": 22,
   "metadata": {},
   "outputs": [
    {
     "name": "stdout",
     "output_type": "stream",
     "text": [
      "MIN: 1.70 MAX: 4.58\n"
     ]
    }
   ],
   "source": [
    "df = df_4K[(df_4K[\"file_system\"] == \"Light-Dedup\") & (df_4K[\"dup_rate\"] >= 75)][\"bandwidth(MiB/s)\"].reset_index() / df_4K[(df_4K[\"file_system\"] == \"NV-Dedup\") & (df_4K[\"dup_rate\"] >= 75)][\"bandwidth(MiB/s)\"].reset_index()\n",
    "print(\"MIN: %.2f MAX: %.2f\" % (df[df[\"bandwidth(MiB/s)\"] >= 1].min()[\"bandwidth(MiB/s)\"], df[df[\"bandwidth(MiB/s)\"] >= 1].max()[\"bandwidth(MiB/s)\"])) "
   ]
  },
  {
   "attachments": {},
   "cell_type": "markdown",
   "metadata": {},
   "source": [
    "- How fast Light-Dedup is compared to DeNOVA in 4KiB?"
   ]
  },
  {
   "cell_type": "code",
   "execution_count": 23,
   "metadata": {},
   "outputs": [
    {
     "name": "stdout",
     "output_type": "stream",
     "text": [
      "MIN: 1.05 MAX: 7.95\n"
     ]
    }
   ],
   "source": [
    "df = df_4K[df_4K[\"file_system\"] == \"Light-Dedup\"][\"bandwidth(MiB/s)\"].reset_index() / df_4K[df_4K[\"file_system\"] == \"DeNOVA\"][\"bandwidth(MiB/s)\"].reset_index()\n",
    "print(\"MIN: %.2f MAX: %.2f\" % (df[df[\"bandwidth(MiB/s)\"] >= 1].min()[\"bandwidth(MiB/s)\"], df[df[\"bandwidth(MiB/s)\"] >= 1].max()[\"bandwidth(MiB/s)\"])) "
   ]
  },
  {
   "attachments": {},
   "cell_type": "markdown",
   "metadata": {},
   "source": [
    "- How fast Light-Dedup is compared to DeNOVA in 2MiB?"
   ]
  },
  {
   "cell_type": "code",
   "execution_count": 24,
   "metadata": {},
   "outputs": [
    {
     "name": "stdout",
     "output_type": "stream",
     "text": [
      "MIN: 1.16 MAX: 3.52\n"
     ]
    }
   ],
   "source": [
    "df = df_continuous[df_continuous[\"file_system\"] == \"Light-Dedup\"][\"bandwidth(MiB/s)\"].reset_index() / df_continuous[df_continuous[\"file_system\"] == \"DeNOVA\"][\"bandwidth(MiB/s)\"].reset_index()\n",
    "print(\"MIN: %.2f MAX: %.2f\" % (df[df[\"bandwidth(MiB/s)\"] >= 1].min()[\"bandwidth(MiB/s)\"], df[df[\"bandwidth(MiB/s)\"] >= 1].max()[\"bandwidth(MiB/s)\"])) "
   ]
  },
  {
   "attachments": {},
   "cell_type": "markdown",
   "metadata": {},
   "source": [
    "- How fast Light-Dedup is compared to Naive in 4KiB?"
   ]
  },
  {
   "cell_type": "code",
   "execution_count": 30,
   "metadata": {},
   "outputs": [
    {
     "name": "stdout",
     "output_type": "stream",
     "text": [
      "MIN: 1.0000000000 MAX: 1.5238907850\n"
     ]
    }
   ],
   "source": [
    "df = df_4K[df_4K[\"file_system\"] == \"Light-Dedup\"][\"bandwidth(MiB/s)\"].reset_index() / df_4K[df_4K[\"file_system\"] == \"Naive\"][\"bandwidth(MiB/s)\"].reset_index()\n",
    "print(\"MIN: %.10f MAX: %.10f\" % (df[df[\"bandwidth(MiB/s)\"] >= 1].min()[\"bandwidth(MiB/s)\"], df[df[\"bandwidth(MiB/s)\"] >= 1].max()[\"bandwidth(MiB/s)\"])) "
   ]
  },
  {
   "attachments": {},
   "cell_type": "markdown",
   "metadata": {},
   "source": [
    "- How fast Light-Dedup is compared to Naive in 4KiB under single thread?"
   ]
  },
  {
   "cell_type": "code",
   "execution_count": 29,
   "metadata": {},
   "outputs": [
    {
     "name": "stdout",
     "output_type": "stream",
     "text": [
      "MIN: 1.0026350461 MAX: 1.5238907850\n"
     ]
    }
   ],
   "source": [
    "df = df_4K[(df_4K[\"file_system\"] == \"Light-Dedup\") & (df_4K[\"num_job\"] == 1)][\"bandwidth(MiB/s)\"].reset_index() / df_4K[(df_4K[\"file_system\"] == \"Naive\") & (df_4K[\"num_job\"] == 1)][\"bandwidth(MiB/s)\"].reset_index()\n",
    "print(\"MIN: %.10f MAX: %.10f\" % (df[df[\"bandwidth(MiB/s)\"] >= 1].min()[\"bandwidth(MiB/s)\"], df[df[\"bandwidth(MiB/s)\"] >= 1].max()[\"bandwidth(MiB/s)\"])) "
   ]
  },
  {
   "attachments": {},
   "cell_type": "markdown",
   "metadata": {},
   "source": [
    "- How fast Light-Dedup is compared to Naive in 2MiB?"
   ]
  },
  {
   "cell_type": "code",
   "execution_count": 27,
   "metadata": {},
   "outputs": [
    {
     "name": "stdout",
     "output_type": "stream",
     "text": [
      "MIN: 1.002981 MAX: 2.176536\n"
     ]
    }
   ],
   "source": [
    "df = df_continuous[df_continuous[\"file_system\"] == \"Light-Dedup\"][\"bandwidth(MiB/s)\"].reset_index() / df_continuous[df_continuous[\"file_system\"] == \"Naive\"][\"bandwidth(MiB/s)\"].reset_index()\n",
    "print(\"MIN: %f MAX: %f\" % (df[df[\"bandwidth(MiB/s)\"] >= 1].min()[\"bandwidth(MiB/s)\"], df[df[\"bandwidth(MiB/s)\"] >= 1].max()[\"bandwidth(MiB/s)\"])) "
   ]
  },
  {
   "attachments": {},
   "cell_type": "markdown",
   "metadata": {},
   "source": [
    "- How fast Light-Dedup is compared to Naive in 2MiB at 75% dup rate and single thread?"
   ]
  },
  {
   "cell_type": "code",
   "execution_count": 28,
   "metadata": {},
   "outputs": [
    {
     "name": "stdout",
     "output_type": "stream",
     "text": [
      "MIN: 1.72 MAX: 2.18\n"
     ]
    }
   ],
   "source": [
    "df = df_continuous[(df_continuous[\"file_system\"] == \"Light-Dedup\") & (df_continuous[\"dup_rate\"] >= 75) & (df_continuous[\"num_job\"] == 1)][\"bandwidth(MiB/s)\"].reset_index() / df_continuous[(df_continuous[\"file_system\"] == \"Naive\") & (df_continuous[\"dup_rate\"] >= 75) & (df_continuous[\"num_job\"] == 1)][\"bandwidth(MiB/s)\"].reset_index()\n",
    "print(\"MIN: %.2f MAX: %.2f\" % (df[df[\"bandwidth(MiB/s)\"] >= 1].min()[\"bandwidth(MiB/s)\"], df[df[\"bandwidth(MiB/s)\"] >= 1].max()[\"bandwidth(MiB/s)\"])) "
   ]
  }
 ],
 "metadata": {
  "kernelspec": {
   "display_name": "Python 3.6.8 64-bit",
   "language": "python",
   "name": "python3"
  },
  "language_info": {
   "codemirror_mode": {
    "name": "ipython",
    "version": 3
   },
   "file_extension": ".py",
   "mimetype": "text/x-python",
   "name": "python",
   "nbconvert_exporter": "python",
   "pygments_lexer": "ipython3",
   "version": "3.6.8"
  },
  "orig_nbformat": 4,
  "vscode": {
   "interpreter": {
    "hash": "916dbcbb3f70747c44a77c7bcd40155683ae19c65e1c03b4aa3499c5328201f1"
   }
  }
 },
 "nbformat": 4,
 "nbformat_minor": 2
}

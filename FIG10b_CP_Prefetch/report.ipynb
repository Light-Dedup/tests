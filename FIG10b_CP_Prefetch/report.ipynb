{
 "cells": [
  {
   "cell_type": "code",
   "execution_count": 1,
   "metadata": {},
   "outputs": [
    {
     "data": {
      "text/html": [
       "<div>\n",
       "<style scoped>\n",
       "    .dataframe tbody tr th:only-of-type {\n",
       "        vertical-align: middle;\n",
       "    }\n",
       "\n",
       "    .dataframe tbody tr th {\n",
       "        vertical-align: top;\n",
       "    }\n",
       "\n",
       "    .dataframe thead th {\n",
       "        text-align: right;\n",
       "    }\n",
       "</style>\n",
       "<table border=\"1\" class=\"dataframe\">\n",
       "  <thead>\n",
       "    <tr style=\"text-align: right;\">\n",
       "      <th></th>\n",
       "      <th>file_system</th>\n",
       "      <th>num_job</th>\n",
       "      <th>first_bandwidth(MiB/s)</th>\n",
       "      <th>second_bandwidth(MiB/s)</th>\n",
       "      <th>second_cmp_lat(ns)</th>\n",
       "      <th>second_fp_lat(ns)</th>\n",
       "      <th>second_prefetch_lat(ns)</th>\n",
       "      <th>second_lookup_lat(ns)</th>\n",
       "      <th>second_copy_user(ns)</th>\n",
       "      <th>second_others_lat(ns)</th>\n",
       "      <th>second_lat(ns)</th>\n",
       "    </tr>\n",
       "  </thead>\n",
       "  <tbody>\n",
       "    <tr>\n",
       "      <th>0</th>\n",
       "      <td>Naive</td>\n",
       "      <td>1</td>\n",
       "      <td>1038</td>\n",
       "      <td>705</td>\n",
       "      <td>10603683210</td>\n",
       "      <td>1461762104</td>\n",
       "      <td>0</td>\n",
       "      <td>799846850</td>\n",
       "      <td>811298639</td>\n",
       "      <td>1198947828</td>\n",
       "      <td>14875538631</td>\n",
       "    </tr>\n",
       "    <tr>\n",
       "      <th>1</th>\n",
       "      <td>Prefetch-Cmp-64</td>\n",
       "      <td>1</td>\n",
       "      <td>1060</td>\n",
       "      <td>947</td>\n",
       "      <td>5727565215</td>\n",
       "      <td>1441754973</td>\n",
       "      <td>0</td>\n",
       "      <td>801298881</td>\n",
       "      <td>799130309</td>\n",
       "      <td>1237160812</td>\n",
       "      <td>10006910192</td>\n",
       "    </tr>\n",
       "    <tr>\n",
       "      <th>2</th>\n",
       "      <td>Prefetch-Cmp-256-64</td>\n",
       "      <td>1</td>\n",
       "      <td>1062</td>\n",
       "      <td>1016</td>\n",
       "      <td>4430234752</td>\n",
       "      <td>1446222632</td>\n",
       "      <td>0</td>\n",
       "      <td>798968061</td>\n",
       "      <td>800391639</td>\n",
       "      <td>1550140901</td>\n",
       "      <td>9025957987</td>\n",
       "    </tr>\n",
       "    <tr>\n",
       "      <th>3</th>\n",
       "      <td>Prefetch-Current</td>\n",
       "      <td>1</td>\n",
       "      <td>1078</td>\n",
       "      <td>1105</td>\n",
       "      <td>2998075889</td>\n",
       "      <td>1630764921</td>\n",
       "      <td>123376998</td>\n",
       "      <td>821588722</td>\n",
       "      <td>804341338</td>\n",
       "      <td>1577896120</td>\n",
       "      <td>7956043989</td>\n",
       "    </tr>\n",
       "    <tr>\n",
       "      <th>4</th>\n",
       "      <td>Speculation</td>\n",
       "      <td>1</td>\n",
       "      <td>1067</td>\n",
       "      <td>1161</td>\n",
       "      <td>5074052801</td>\n",
       "      <td>49719260</td>\n",
       "      <td>0</td>\n",
       "      <td>53037846</td>\n",
       "      <td>800566517</td>\n",
       "      <td>1404580490</td>\n",
       "      <td>7381956915</td>\n",
       "    </tr>\n",
       "  </tbody>\n",
       "</table>\n",
       "</div>"
      ],
      "text/plain": [
       "           file_system  num_job  first_bandwidth(MiB/s)  \\\n",
       "0                Naive        1                    1038   \n",
       "1      Prefetch-Cmp-64        1                    1060   \n",
       "2  Prefetch-Cmp-256-64        1                    1062   \n",
       "3     Prefetch-Current        1                    1078   \n",
       "4          Speculation        1                    1067   \n",
       "\n",
       "   second_bandwidth(MiB/s)  second_cmp_lat(ns)  second_fp_lat(ns)  \\\n",
       "0                      705         10603683210         1461762104   \n",
       "1                      947          5727565215         1441754973   \n",
       "2                     1016          4430234752         1446222632   \n",
       "3                     1105          2998075889         1630764921   \n",
       "4                     1161          5074052801           49719260   \n",
       "\n",
       "   second_prefetch_lat(ns)  second_lookup_lat(ns)  second_copy_user(ns)  \\\n",
       "0                        0              799846850             811298639   \n",
       "1                        0              801298881             799130309   \n",
       "2                        0              798968061             800391639   \n",
       "3                123376998              821588722             804341338   \n",
       "4                        0               53037846             800566517   \n",
       "\n",
       "   second_others_lat(ns)  second_lat(ns)  \n",
       "0             1198947828     14875538631  \n",
       "1             1237160812     10006910192  \n",
       "2             1550140901      9025957987  \n",
       "3             1577896120      7956043989  \n",
       "4             1404580490      7381956915  "
      ]
     },
     "execution_count": 1,
     "metadata": {},
     "output_type": "execute_result"
    }
   ],
   "source": [
    "import pandas as pd\n",
    "\n",
    "with open(\"./performance-comparison-table-single\", \"r\") as f:\n",
    "    df_single = pd.read_csv(f, delim_whitespace=True, engine='python')\n",
    "df_single.head()"
   ]
  },
  {
   "attachments": {},
   "cell_type": "markdown",
   "metadata": {},
   "source": [
    "- How much performance improvemnt does PN compared to others"
   ]
  },
  {
   "cell_type": "code",
   "execution_count": 2,
   "metadata": {},
   "outputs": [
    {
     "name": "stdout",
     "output_type": "stream",
     "text": [
      "x: 1.0594315245478036\n",
      "x: 1.7446808510638299\n"
     ]
    }
   ],
   "source": [
    "for fs in [\"Speculation\", \"Naive\"]:\n",
    "    x = df_single[(df_single[\"num_job\"] == 1) & (df_single[\"file_system\"] == \"Prefetch-Next\")][\"second_bandwidth(MiB/s)\"].iloc[0] / df_single[(df_single[\"num_job\"] == 1) & (df_single[\"file_system\"] == fs)][\"second_bandwidth(MiB/s)\"].iloc[0]\n",
    "    print(\"x: \" + str(x))"
   ]
  },
  {
   "attachments": {},
   "cell_type": "markdown",
   "metadata": {},
   "source": [
    "- How much performance improvement does Prefetch-Cmp-64 compared to Naive"
   ]
  },
  {
   "cell_type": "code",
   "execution_count": 3,
   "metadata": {},
   "outputs": [
    {
     "name": "stdout",
     "output_type": "stream",
     "text": [
      "x: 1.3432624113475178\n"
     ]
    }
   ],
   "source": [
    "x = df_single[(df_single[\"num_job\"] == 1) & (df_single[\"file_system\"] == \"Prefetch-Cmp-64\")][\"second_bandwidth(MiB/s)\"].iloc[0] / df_single[(df_single[\"num_job\"] == 1) & (df_single[\"file_system\"] == \"Naive\")][\"second_bandwidth(MiB/s)\"].iloc[0]\n",
    "print(\"x: \" + str(x))"
   ]
  },
  {
   "attachments": {},
   "cell_type": "markdown",
   "metadata": {},
   "source": [
    "- How much performance improvement does Prefetch-Cmp-256-64 compared to Prefetch-Cmp-64"
   ]
  },
  {
   "cell_type": "code",
   "execution_count": 4,
   "metadata": {},
   "outputs": [
    {
     "name": "stdout",
     "output_type": "stream",
     "text": [
      "x: 1.0728616684266103\n"
     ]
    }
   ],
   "source": [
    "x = df_single[(df_single[\"num_job\"] == 1) & (df_single[\"file_system\"] == \"Prefetch-Cmp-256-64\")][\"second_bandwidth(MiB/s)\"].iloc[0] / df_single[(df_single[\"num_job\"] == 1) & (df_single[\"file_system\"] == \"Prefetch-Cmp-64\")][\"second_bandwidth(MiB/s)\"].iloc[0]\n",
    "print(\"x: \" + str(x))"
   ]
  },
  {
   "attachments": {},
   "cell_type": "markdown",
   "metadata": {},
   "source": [
    "- How much performance improvement does PN compared to SP"
   ]
  },
  {
   "cell_type": "code",
   "execution_count": 7,
   "metadata": {},
   "outputs": [
    {
     "name": "stdout",
     "output_type": "stream",
     "text": [
      "x: 1.0594315245478036\n"
     ]
    }
   ],
   "source": [
    "x = df_single[(df_single[\"num_job\"] == 1) & (df_single[\"file_system\"] == \"Prefetch-Next\")][\"second_bandwidth(MiB/s)\"].iloc[0] / df_single[(df_single[\"num_job\"] == 1) & (df_single[\"file_system\"] == \"Speculation\")][\"second_bandwidth(MiB/s)\"].iloc[0]\n",
    "print(\"x: \" + str(x))"
   ]
  }
 ],
 "metadata": {
  "kernelspec": {
   "display_name": "Python 3.6.8 64-bit",
   "language": "python",
   "name": "python3"
  },
  "language_info": {
   "codemirror_mode": {
    "name": "ipython",
    "version": 3
   },
   "file_extension": ".py",
   "mimetype": "text/x-python",
   "name": "python",
   "nbconvert_exporter": "python",
   "pygments_lexer": "ipython3",
   "version": "3.6.8"
  },
  "orig_nbformat": 4,
  "vscode": {
   "interpreter": {
    "hash": "916dbcbb3f70747c44a77c7bcd40155683ae19c65e1c03b4aa3499c5328201f1"
   }
  }
 },
 "nbformat": 4,
 "nbformat_minor": 2
}

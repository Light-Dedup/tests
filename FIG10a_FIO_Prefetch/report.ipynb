{
 "cells": [
  {
   "cell_type": "code",
   "execution_count": 17,
   "metadata": {},
   "outputs": [
    {
     "data": {
      "text/html": [
       "<div>\n",
       "<style scoped>\n",
       "    .dataframe tbody tr th:only-of-type {\n",
       "        vertical-align: middle;\n",
       "    }\n",
       "\n",
       "    .dataframe tbody tr th {\n",
       "        vertical-align: top;\n",
       "    }\n",
       "\n",
       "    .dataframe thead th {\n",
       "        text-align: right;\n",
       "    }\n",
       "</style>\n",
       "<table border=\"1\" class=\"dataframe\">\n",
       "  <thead>\n",
       "    <tr style=\"text-align: right;\">\n",
       "      <th></th>\n",
       "      <th>file_system</th>\n",
       "      <th>num_job</th>\n",
       "      <th>first_bandwidth(MiB/s)</th>\n",
       "      <th>second_bandwidth(MiB/s)</th>\n",
       "      <th>second_cmp_lat(ns)</th>\n",
       "      <th>second_fp_lat(ns)</th>\n",
       "      <th>second_prefetch_lat(ns)</th>\n",
       "      <th>second_lookup_lat(ns)</th>\n",
       "      <th>second_copy_user(ns)</th>\n",
       "      <th>second_others_lat(ns)</th>\n",
       "      <th>second_lat(ns)</th>\n",
       "    </tr>\n",
       "  </thead>\n",
       "  <tbody>\n",
       "    <tr>\n",
       "      <th>0</th>\n",
       "      <td>Naive</td>\n",
       "      <td>1</td>\n",
       "      <td>1619</td>\n",
       "      <td>864</td>\n",
       "      <td>52060410770</td>\n",
       "      <td>5014076922</td>\n",
       "      <td>0</td>\n",
       "      <td>3796590143</td>\n",
       "      <td>3237111950</td>\n",
       "      <td>2490803097</td>\n",
       "      <td>66598992884</td>\n",
       "    </tr>\n",
       "    <tr>\n",
       "      <th>1</th>\n",
       "      <td>Prefetch-Cmp-64</td>\n",
       "      <td>1</td>\n",
       "      <td>1625</td>\n",
       "      <td>1259</td>\n",
       "      <td>28210149085</td>\n",
       "      <td>4999374599</td>\n",
       "      <td>0</td>\n",
       "      <td>3757575300</td>\n",
       "      <td>3480609348</td>\n",
       "      <td>2495629695</td>\n",
       "      <td>42943338029</td>\n",
       "    </tr>\n",
       "    <tr>\n",
       "      <th>2</th>\n",
       "      <td>Prefetch-Cmp-256-64</td>\n",
       "      <td>1</td>\n",
       "      <td>1613</td>\n",
       "      <td>1396</td>\n",
       "      <td>21558832056</td>\n",
       "      <td>4963276687</td>\n",
       "      <td>0</td>\n",
       "      <td>3729257260</td>\n",
       "      <td>3479097198</td>\n",
       "      <td>4087808159</td>\n",
       "      <td>37818271362</td>\n",
       "    </tr>\n",
       "    <tr>\n",
       "      <th>3</th>\n",
       "      <td>Prefetch-Current</td>\n",
       "      <td>1</td>\n",
       "      <td>1580</td>\n",
       "      <td>1628</td>\n",
       "      <td>13539480874</td>\n",
       "      <td>4928369936</td>\n",
       "      <td>850855024</td>\n",
       "      <td>4036807781</td>\n",
       "      <td>3527251990</td>\n",
       "      <td>4238140911</td>\n",
       "      <td>31120906518</td>\n",
       "    </tr>\n",
       "    <tr>\n",
       "      <th>4</th>\n",
       "      <td>Speculation</td>\n",
       "      <td>1</td>\n",
       "      <td>1588</td>\n",
       "      <td>1705</td>\n",
       "      <td>26025645635</td>\n",
       "      <td>8137</td>\n",
       "      <td>0</td>\n",
       "      <td>14401</td>\n",
       "      <td>7170</td>\n",
       "      <td>3225373607</td>\n",
       "      <td>29251048952</td>\n",
       "    </tr>\n",
       "  </tbody>\n",
       "</table>\n",
       "</div>"
      ],
      "text/plain": [
       "           file_system  num_job  first_bandwidth(MiB/s)  \\\n",
       "0                Naive        1                    1619   \n",
       "1      Prefetch-Cmp-64        1                    1625   \n",
       "2  Prefetch-Cmp-256-64        1                    1613   \n",
       "3     Prefetch-Current        1                    1580   \n",
       "4          Speculation        1                    1588   \n",
       "\n",
       "   second_bandwidth(MiB/s)  second_cmp_lat(ns)  second_fp_lat(ns)  \\\n",
       "0                      864         52060410770         5014076922   \n",
       "1                     1259         28210149085         4999374599   \n",
       "2                     1396         21558832056         4963276687   \n",
       "3                     1628         13539480874         4928369936   \n",
       "4                     1705         26025645635               8137   \n",
       "\n",
       "   second_prefetch_lat(ns)  second_lookup_lat(ns)  second_copy_user(ns)  \\\n",
       "0                        0             3796590143            3237111950   \n",
       "1                        0             3757575300            3480609348   \n",
       "2                        0             3729257260            3479097198   \n",
       "3                850855024             4036807781            3527251990   \n",
       "4                        0                  14401                  7170   \n",
       "\n",
       "   second_others_lat(ns)  second_lat(ns)  \n",
       "0             2490803097     66598992884  \n",
       "1             2495629695     42943338029  \n",
       "2             4087808159     37818271362  \n",
       "3             4238140911     31120906518  \n",
       "4             3225373607     29251048952  "
      ]
     },
     "execution_count": 17,
     "metadata": {},
     "output_type": "execute_result"
    }
   ],
   "source": [
    "import pandas as pd\n",
    "\n",
    "with open(\"./performance-comparison-table-single\", \"r\") as f:\n",
    "    df_single = pd.read_csv(f, delim_whitespace=True, engine='python')\n",
    "df_single.head()"
   ]
  },
  {
   "cell_type": "markdown",
   "metadata": {},
   "source": [
    "- How much performance improvemnt does PN compared to others"
   ]
  },
  {
   "cell_type": "code",
   "execution_count": 18,
   "metadata": {},
   "outputs": [
    {
     "name": "stdout",
     "output_type": "stream",
     "text": [
      "x: 1.1120234604105572\n",
      "x: 2.1944444444444446\n"
     ]
    }
   ],
   "source": [
    "for fs in [\"Speculation\", \"Naive\"]:\n",
    "    x = df_single[(df_single[\"num_job\"] == 1) & (df_single[\"file_system\"] == \"Prefetch-Next\")][\"second_bandwidth(MiB/s)\"].iloc[0] / df_single[(df_single[\"num_job\"] == 1) & (df_single[\"file_system\"] == fs)][\"second_bandwidth(MiB/s)\"].iloc[0]\n",
    "    print(\"x: \" + str(x))"
   ]
  },
  {
   "cell_type": "markdown",
   "metadata": {},
   "source": [
    "- How much performance improvement does Prefetch-Cmp-64 compared to Naive"
   ]
  },
  {
   "cell_type": "code",
   "execution_count": 19,
   "metadata": {},
   "outputs": [
    {
     "name": "stdout",
     "output_type": "stream",
     "text": [
      "x: 1.4571759259259258\n"
     ]
    }
   ],
   "source": [
    "x = df_single[(df_single[\"num_job\"] == 1) & (df_single[\"file_system\"] == \"Prefetch-Cmp-64\")][\"second_bandwidth(MiB/s)\"].iloc[0] / df_single[(df_single[\"num_job\"] == 1) & (df_single[\"file_system\"] == \"Naive\")][\"second_bandwidth(MiB/s)\"].iloc[0]\n",
    "print(\"x: \" + str(x))"
   ]
  },
  {
   "cell_type": "markdown",
   "metadata": {},
   "source": [
    "- How much performance improvement does Prefetch-Cmp-256-64 compared to Prefetch-Cmp-64"
   ]
  },
  {
   "cell_type": "code",
   "execution_count": 20,
   "metadata": {},
   "outputs": [
    {
     "name": "stdout",
     "output_type": "stream",
     "text": [
      "x: 1.108816521048451\n"
     ]
    }
   ],
   "source": [
    "x = df_single[(df_single[\"num_job\"] == 1) & (df_single[\"file_system\"] == \"Prefetch-Cmp-256-64\")][\"second_bandwidth(MiB/s)\"].iloc[0] / df_single[(df_single[\"num_job\"] == 1) & (df_single[\"file_system\"] == \"Prefetch-Cmp-64\")][\"second_bandwidth(MiB/s)\"].iloc[0]\n",
    "print(\"x: \" + str(x))"
   ]
  },
  {
   "cell_type": "markdown",
   "metadata": {},
   "source": [
    "- How much performance improvement does PN compared to SP"
   ]
  },
  {
   "cell_type": "code",
   "execution_count": 21,
   "metadata": {},
   "outputs": [
    {
     "name": "stdout",
     "output_type": "stream",
     "text": [
      "x: 1.1120234604105572\n"
     ]
    }
   ],
   "source": [
    "x = df_single[(df_single[\"num_job\"] == 1) & (df_single[\"file_system\"] == \"Prefetch-Next\")][\"second_bandwidth(MiB/s)\"].iloc[0] / df_single[(df_single[\"num_job\"] == 1) & (df_single[\"file_system\"] == \"Speculation\")][\"second_bandwidth(MiB/s)\"].iloc[0]\n",
    "print(\"x: \" + str(x))"
   ]
  },
  {
   "cell_type": "code",
   "execution_count": 22,
   "metadata": {},
   "outputs": [
    {
     "data": {
      "text/html": [
       "<div>\n",
       "<style scoped>\n",
       "    .dataframe tbody tr th:only-of-type {\n",
       "        vertical-align: middle;\n",
       "    }\n",
       "\n",
       "    .dataframe tbody tr th {\n",
       "        vertical-align: top;\n",
       "    }\n",
       "\n",
       "    .dataframe thead th {\n",
       "        text-align: right;\n",
       "    }\n",
       "</style>\n",
       "<table border=\"1\" class=\"dataframe\">\n",
       "  <thead>\n",
       "    <tr style=\"text-align: right;\">\n",
       "      <th></th>\n",
       "      <th>file_system</th>\n",
       "      <th>num_job</th>\n",
       "      <th>first_bandwidth(MiB/s)</th>\n",
       "      <th>second_bandwidth(MiB/s)</th>\n",
       "      <th>second_cmp_lat(ns)</th>\n",
       "      <th>second_fp_lat(ns)</th>\n",
       "      <th>second_prefetch_lat(ns)</th>\n",
       "      <th>second_lookup_lat(ns)</th>\n",
       "      <th>second_others_lat(ns)</th>\n",
       "      <th>second_lat(ns)</th>\n",
       "    </tr>\n",
       "  </thead>\n",
       "  <tbody>\n",
       "    <tr>\n",
       "      <th>0</th>\n",
       "      <td>Naive</td>\n",
       "      <td>1</td>\n",
       "      <td>1626</td>\n",
       "      <td>871</td>\n",
       "      <td>51974808813</td>\n",
       "      <td>4903211004</td>\n",
       "      <td>0</td>\n",
       "      <td>3725713479</td>\n",
       "      <td>5.605797e+09</td>\n",
       "      <td>66209530163</td>\n",
       "    </tr>\n",
       "    <tr>\n",
       "      <th>1</th>\n",
       "      <td>Naive</td>\n",
       "      <td>2</td>\n",
       "      <td>1914</td>\n",
       "      <td>1678</td>\n",
       "      <td>53717805518</td>\n",
       "      <td>5126033861</td>\n",
       "      <td>0</td>\n",
       "      <td>3902799456</td>\n",
       "      <td>5.767641e+09</td>\n",
       "      <td>68514280271</td>\n",
       "    </tr>\n",
       "    <tr>\n",
       "      <th>2</th>\n",
       "      <td>Naive</td>\n",
       "      <td>3</td>\n",
       "      <td>2007</td>\n",
       "      <td>2474</td>\n",
       "      <td>54738098559</td>\n",
       "      <td>5192601685</td>\n",
       "      <td>0</td>\n",
       "      <td>4012439161</td>\n",
       "      <td>5.805393e+09</td>\n",
       "      <td>69748532483</td>\n",
       "    </tr>\n",
       "    <tr>\n",
       "      <th>3</th>\n",
       "      <td>Naive</td>\n",
       "      <td>4</td>\n",
       "      <td>2068</td>\n",
       "      <td>3223</td>\n",
       "      <td>56076395395</td>\n",
       "      <td>5287442282</td>\n",
       "      <td>0</td>\n",
       "      <td>4147406190</td>\n",
       "      <td>5.920490e+09</td>\n",
       "      <td>71431733714</td>\n",
       "    </tr>\n",
       "    <tr>\n",
       "      <th>4</th>\n",
       "      <td>Naive</td>\n",
       "      <td>5</td>\n",
       "      <td>2125</td>\n",
       "      <td>3963</td>\n",
       "      <td>57182326701</td>\n",
       "      <td>5299950697</td>\n",
       "      <td>0</td>\n",
       "      <td>4228225395</td>\n",
       "      <td>6.020265e+09</td>\n",
       "      <td>72730767424</td>\n",
       "    </tr>\n",
       "  </tbody>\n",
       "</table>\n",
       "</div>"
      ],
      "text/plain": [
       "  file_system  num_job  first_bandwidth(MiB/s)  second_bandwidth(MiB/s)  \\\n",
       "0       Naive        1                    1626                      871   \n",
       "1       Naive        2                    1914                     1678   \n",
       "2       Naive        3                    2007                     2474   \n",
       "3       Naive        4                    2068                     3223   \n",
       "4       Naive        5                    2125                     3963   \n",
       "\n",
       "   second_cmp_lat(ns)  second_fp_lat(ns)  second_prefetch_lat(ns)  \\\n",
       "0         51974808813         4903211004                        0   \n",
       "1         53717805518         5126033861                        0   \n",
       "2         54738098559         5192601685                        0   \n",
       "3         56076395395         5287442282                        0   \n",
       "4         57182326701         5299950697                        0   \n",
       "\n",
       "   second_lookup_lat(ns)  second_others_lat(ns)  second_lat(ns)  \n",
       "0             3725713479           5.605797e+09     66209530163  \n",
       "1             3902799456           5.767641e+09     68514280271  \n",
       "2             4012439161           5.805393e+09     69748532483  \n",
       "3             4147406190           5.920490e+09     71431733714  \n",
       "4             4228225395           6.020265e+09     72730767424  "
      ]
     },
     "execution_count": 22,
     "metadata": {},
     "output_type": "execute_result"
    }
   ],
   "source": [
    "import pandas as pd\n",
    "\n",
    "with open(\"./performance-comparison-table-multi\", \"r\") as f:\n",
    "    df_multi = pd.read_csv(f, delim_whitespace=True, engine='python')\n",
    "df_multi.head()"
   ]
  },
  {
   "cell_type": "markdown",
   "metadata": {},
   "source": [
    "- How much performance improvement of Prefetch-Next compared to Speculation when #. threads <= 5"
   ]
  },
  {
   "cell_type": "code",
   "execution_count": 23,
   "metadata": {},
   "outputs": [
    {
     "name": "stdout",
     "output_type": "stream",
     "text": [
      "x: 1.2793034159410583\n",
      "x: 1.2857644991212653\n",
      "x: 1.2114355231143552\n",
      "x: 1.113343737807257\n",
      "x: 1.029503105590062\n"
     ]
    }
   ],
   "source": [
    "for thread in range(1, 6):\n",
    "    x = df_multi[(df_multi[\"num_job\"] == thread) & (df_multi[\"file_system\"] == \"Prefetch-Next\")][\"second_bandwidth(MiB/s)\"].iloc[0] / df_multi[(df_multi[\"num_job\"] == thread) & (df_multi[\"file_system\"] == \"Speculation-64\")][\"second_bandwidth(MiB/s)\"].iloc[0]\n",
    "    print(\"x: \" + str(x))"
   ]
  },
  {
   "cell_type": "markdown",
   "metadata": {},
   "source": [
    "- How much performance improvement of Prefetch-Next compared to NV when #. threads <= 5"
   ]
  },
  {
   "cell_type": "code",
   "execution_count": 24,
   "metadata": {},
   "outputs": [
    {
     "name": "stdout",
     "output_type": "stream",
     "text": [
      "x: 2.192881745120551\n",
      "x: 2.1799761620977356\n",
      "x: 2.0125303152789007\n",
      "x: 1.7707105181507912\n",
      "x: 1.5056775170325511\n"
     ]
    }
   ],
   "source": [
    "for thread in range(1, 6):\n",
    "    x = df_multi[(df_multi[\"num_job\"] == thread) & (df_multi[\"file_system\"] == \"Prefetch-Next\")][\"second_bandwidth(MiB/s)\"].iloc[0] / df_multi[(df_multi[\"num_job\"] == thread) & (df_multi[\"file_system\"] == \"Naive\")][\"second_bandwidth(MiB/s)\"].iloc[0]\n",
    "    print(\"x: \" + str(x))"
   ]
  },
  {
   "cell_type": "markdown",
   "metadata": {},
   "source": [
    "- How much performance improvement of Speculation compared to Prefetch-Next when #. threads >= 6"
   ]
  },
  {
   "cell_type": "code",
   "execution_count": 25,
   "metadata": {},
   "outputs": [
    {
     "name": "stdout",
     "output_type": "stream",
     "text": [
      "x: 1.1068800588668137\n",
      "x: 1.4187734082397003\n",
      "x: 1.6609465817879878\n",
      "x: 1.767990444908928\n",
      "x: 1.780128794848206\n",
      "x: 1.784019975031211\n",
      "x: 1.7767997485067588\n",
      "x: 1.7789672544080604\n",
      "x: 1.7748260594560406\n",
      "x: 1.7639810426540283\n",
      "x: 1.763082778306375\n",
      "x: 1.1146063281824872\n",
      "x: 1.417368913857678\n",
      "x: 1.6573484638804317\n",
      "x: 1.7638100925649447\n",
      "x: 1.78196872125115\n",
      "x: 1.7905742821473158\n",
      "x: 1.7846589122917322\n",
      "x: 1.7786523929471032\n",
      "x: 1.777988614800759\n",
      "x: 1.770616113744076\n",
      "x: 1.773231842689502\n"
     ]
    }
   ],
   "source": [
    "for thread in range(6, 17):\n",
    "    x = df_multi[(df_multi[\"num_job\"] == thread) & (df_multi[\"file_system\"] == \"Speculation-64\")][\"second_bandwidth(MiB/s)\"].iloc[0] / df_multi[(df_multi[\"num_job\"] == thread) & (df_multi[\"file_system\"] == \"Prefetch-Next\")][\"second_bandwidth(MiB/s)\"].iloc[0]\n",
    "    print(\"x: \" + str(x))\n",
    "for thread in range(6, 17):\n",
    "    x = df_multi[(df_multi[\"num_job\"] == thread) & (df_multi[\"file_system\"] == \"Transition\")][\"second_bandwidth(MiB/s)\"].iloc[0] / df_multi[(df_multi[\"num_job\"] == thread) & (df_multi[\"file_system\"] == \"Prefetch-Next\")][\"second_bandwidth(MiB/s)\"].iloc[0]\n",
    "    print(\"x: \" + str(x))"
   ]
  },
  {
   "cell_type": "markdown",
   "metadata": {},
   "source": [
    "- How much content-comparing latency of Speculation compared to Prefetch-Next when #. threads >= 6"
   ]
  },
  {
   "cell_type": "code",
   "execution_count": 26,
   "metadata": {},
   "outputs": [
    {
     "name": "stdout",
     "output_type": "stream",
     "text": [
      "x: 0.9463944237692196\n",
      "x: 1.2428317299250737\n",
      "x: 1.469323023814465\n",
      "x: 1.5579113113030902\n",
      "x: 1.5810357672476734\n",
      "x: 1.6032293141689973\n",
      "x: 1.6286011223760692\n",
      "x: 1.6411707481549416\n",
      "x: 1.649659686354587\n",
      "x: 1.6483228230792146\n",
      "x: 1.6458274015627725\n",
      "x: 1.057538066183254\n",
      "x: 1.2822885321153492\n",
      "x: 1.4813264758965643\n",
      "x: 1.5566448392289771\n",
      "x: 1.5819539937263443\n",
      "x: 1.6055119753448983\n",
      "x: 1.6321442747518007\n",
      "x: 1.6385055204121726\n",
      "x: 1.6550259634130318\n",
      "x: 1.649458778896681\n",
      "x: 1.6556083520507425\n"
     ]
    }
   ],
   "source": [
    "for thread in range(6, 17):\n",
    "    x = df_multi[(df_multi[\"num_job\"] == thread) & (df_multi[\"file_system\"] == \"Prefetch-Next\")][\"second_cmp_lat(ns)\"].iloc[0] / df_multi[(df_multi[\"num_job\"] == thread) & (df_multi[\"file_system\"] == \"Speculation-64\")][\"second_cmp_lat(ns)\"].iloc[0]\n",
    "    print(\"x: \" + str(x))\n",
    "for thread in range(6, 17):\n",
    "    x = df_multi[(df_multi[\"num_job\"] == thread) & (df_multi[\"file_system\"] == \"Prefetch-Next\")][\"second_cmp_lat(ns)\"].iloc[0] / df_multi[(df_multi[\"num_job\"] == thread) & (df_multi[\"file_system\"] == \"Transition\")][\"second_cmp_lat(ns)\"].iloc[0]\n",
    "    print(\"x: \" + str(x))"
   ]
  },
  {
   "cell_type": "markdown",
   "metadata": {},
   "source": [
    "# Obsolete Part"
   ]
  },
  {
   "cell_type": "markdown",
   "metadata": {},
   "source": [
    "- How much performance improvment of Prefetch-Next+Speculation under single threads"
   ]
  },
  {
   "cell_type": "code",
   "execution_count": 27,
   "metadata": {},
   "outputs": [
    {
     "name": "stdout",
     "output_type": "stream",
     "text": [
      "Series([], Name: second_bandwidth(MiB/s), dtype: float64)\n",
      "Series([], Name: second_bandwidth(MiB/s), dtype: float64)\n"
     ]
    }
   ],
   "source": [
    "print(df_multi[(df_multi[\"num_job\"] == 1) & (df_multi[\"file_system\"] == \"Prefetch-Next+Speculation\")][\"second_bandwidth(MiB/s)\"] / min(df_multi[df_multi[\"num_job\"] == 1][\"second_bandwidth(MiB/s)\"]))\n",
    "\n",
    "print(df_multi[(df_multi[\"num_job\"] == 1) & (df_multi[\"file_system\"] == \"Prefetch-Next+Speculation\")][\"second_bandwidth(MiB/s)\"] / max(df_multi[(df_multi[\"num_job\"] == 1) & (df_multi[\"file_system\"] != \"Prefetch-Next+Speculation\")][\"second_bandwidth(MiB/s)\"]))"
   ]
  },
  {
   "cell_type": "markdown",
   "metadata": {},
   "source": [
    "- How much performance is Prefecth-Current faster than others"
   ]
  },
  {
   "cell_type": "code",
   "execution_count": 28,
   "metadata": {},
   "outputs": [
    {
     "name": "stdout",
     "output_type": "stream",
     "text": [
      "Series([], Name: second_bandwidth(MiB/s), dtype: float64)\n",
      "Series([], Name: second_bandwidth(MiB/s), dtype: float64)\n"
     ]
    }
   ],
   "source": [
    "print(df_multi[(df_multi[\"num_job\"] == 2) & (df_multi[\"file_system\"] == \"Prefetch-Current\")][\"second_bandwidth(MiB/s)\"] / min(df_multi[df_multi[\"num_job\"] == 2][\"second_bandwidth(MiB/s)\"]))\n",
    "\n",
    "print(df_multi[(df_multi[\"num_job\"] == 2) & (df_multi[\"file_system\"] == \"Prefetch-Current\")][\"second_bandwidth(MiB/s)\"] / max(df_multi[(df_multi[\"num_job\"] == 2) & (df_multi[\"file_system\"] != \"Prefetch-Current\")][\"second_bandwidth(MiB/s)\"]))"
   ]
  },
  {
   "cell_type": "code",
   "execution_count": 29,
   "metadata": {},
   "outputs": [
    {
     "name": "stdout",
     "output_type": "stream",
     "text": [
      "Series([], Name: second_bandwidth(MiB/s), dtype: float64)\n",
      "Series([], Name: second_bandwidth(MiB/s), dtype: float64)\n"
     ]
    }
   ],
   "source": [
    "print(df_multi[(df_multi[\"num_job\"] == 4) & (df_multi[\"file_system\"] == \"Prefetch-Current\")][\"second_bandwidth(MiB/s)\"] / min(df_multi[df_multi[\"num_job\"] == 4][\"second_bandwidth(MiB/s)\"]))\n",
    "\n",
    "print(df_multi[(df_multi[\"num_job\"] == 4) & (df_multi[\"file_system\"] == \"Prefetch-Current\")][\"second_bandwidth(MiB/s)\"] / max(df_multi[(df_multi[\"num_job\"] == 4) & (df_multi[\"file_system\"] != \"Prefetch-Current\")][\"second_bandwidth(MiB/s)\"]))"
   ]
  },
  {
   "cell_type": "markdown",
   "metadata": {},
   "source": [
    "- How much performance is Speculation faster than others"
   ]
  },
  {
   "cell_type": "code",
   "execution_count": 30,
   "metadata": {},
   "outputs": [
    {
     "name": "stdout",
     "output_type": "stream",
     "text": [
      "Series([], Name: second_bandwidth(MiB/s), dtype: float64)\n",
      "Series([], Name: second_bandwidth(MiB/s), dtype: float64)\n"
     ]
    }
   ],
   "source": [
    "print(df_multi[(df_multi[\"num_job\"] == 8) & (df_multi[\"file_system\"] == \"Speculation\")][\"second_bandwidth(MiB/s)\"] / min(df_multi[df_multi[\"num_job\"] == 8][\"second_bandwidth(MiB/s)\"]))\n",
    "\n",
    "print(df_multi[(df_multi[\"num_job\"] == 8) & (df_multi[\"file_system\"] == \"Speculation\")][\"second_bandwidth(MiB/s)\"] / max(df_multi[(df_multi[\"num_job\"] == 8) & (df_multi[\"file_system\"] != \"Speculation\")][\"second_bandwidth(MiB/s)\"]))"
   ]
  },
  {
   "cell_type": "code",
   "execution_count": 31,
   "metadata": {},
   "outputs": [
    {
     "name": "stdout",
     "output_type": "stream",
     "text": [
      "Series([], Name: second_bandwidth(MiB/s), dtype: float64)\n",
      "Series([], Name: second_bandwidth(MiB/s), dtype: float64)\n"
     ]
    }
   ],
   "source": [
    "print(df_multi[(df_multi[\"num_job\"] == 16) & (df_multi[\"file_system\"] == \"Speculation\")][\"second_bandwidth(MiB/s)\"] / min(df_multi[df_multi[\"num_job\"] == 16][\"second_bandwidth(MiB/s)\"]))\n",
    "\n",
    "print(df_multi[(df_multi[\"num_job\"] == 16) & (df_multi[\"file_system\"] == \"Speculation\")][\"second_bandwidth(MiB/s)\"] / max(df_multi[(df_multi[\"num_job\"] == 16) & (df_multi[\"file_system\"] != \"Speculation\")][\"second_bandwidth(MiB/s)\"]))"
   ]
  }
 ],
 "metadata": {
  "kernelspec": {
   "display_name": "Python 3.6.8 64-bit",
   "language": "python",
   "name": "python3"
  },
  "language_info": {
   "codemirror_mode": {
    "name": "ipython",
    "version": 3
   },
   "file_extension": ".py",
   "mimetype": "text/x-python",
   "name": "python",
   "nbconvert_exporter": "python",
   "pygments_lexer": "ipython3",
   "version": "3.6.8"
  },
  "orig_nbformat": 4,
  "vscode": {
   "interpreter": {
    "hash": "916dbcbb3f70747c44a77c7bcd40155683ae19c65e1c03b4aa3499c5328201f1"
   }
  }
 },
 "nbformat": 4,
 "nbformat_minor": 2
}

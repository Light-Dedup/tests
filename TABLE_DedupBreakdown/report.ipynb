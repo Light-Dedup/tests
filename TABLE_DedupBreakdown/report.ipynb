{
 "cells": [
  {
   "cell_type": "code",
   "execution_count": 1,
   "metadata": {},
   "outputs": [
    {
     "data": {
      "text/html": [
       "<div>\n",
       "<style scoped>\n",
       "    .dataframe tbody tr th:only-of-type {\n",
       "        vertical-align: middle;\n",
       "    }\n",
       "\n",
       "    .dataframe tbody tr th {\n",
       "        vertical-align: top;\n",
       "    }\n",
       "\n",
       "    .dataframe thead th {\n",
       "        text-align: right;\n",
       "    }\n",
       "</style>\n",
       "<table border=\"1\" class=\"dataframe\">\n",
       "  <thead>\n",
       "    <tr style=\"text-align: right;\">\n",
       "      <th></th>\n",
       "      <th>system</th>\n",
       "      <th>whole_time</th>\n",
       "      <th>fp_time</th>\n",
       "      <th>IO_time</th>\n",
       "      <th>cmp_time</th>\n",
       "      <th>others</th>\n",
       "      <th>bw</th>\n",
       "    </tr>\n",
       "  </thead>\n",
       "  <tbody>\n",
       "    <tr>\n",
       "      <th>0</th>\n",
       "      <td>NOVA</td>\n",
       "      <td>2782</td>\n",
       "      <td>0</td>\n",
       "      <td>1879</td>\n",
       "      <td>0</td>\n",
       "      <td>903</td>\n",
       "      <td>1404</td>\n",
       "    </tr>\n",
       "    <tr>\n",
       "      <th>1</th>\n",
       "      <td>NO-SPECULATION-First</td>\n",
       "      <td>2598</td>\n",
       "      <td>295</td>\n",
       "      <td>483</td>\n",
       "      <td>0</td>\n",
       "      <td>1820</td>\n",
       "      <td>1503</td>\n",
       "    </tr>\n",
       "    <tr>\n",
       "      <th>2</th>\n",
       "      <td>NO-SPECULATION-Second</td>\n",
       "      <td>3046</td>\n",
       "      <td>298</td>\n",
       "      <td>0</td>\n",
       "      <td>1478</td>\n",
       "      <td>1270</td>\n",
       "      <td>1282</td>\n",
       "    </tr>\n",
       "  </tbody>\n",
       "</table>\n",
       "</div>"
      ],
      "text/plain": [
       "                  system  whole_time  fp_time  IO_time  cmp_time  others    bw\n",
       "0                   NOVA        2782        0     1879         0     903  1404\n",
       "1   NO-SPECULATION-First        2598      295      483         0    1820  1503\n",
       "2  NO-SPECULATION-Second        3046      298        0      1478    1270  1282"
      ]
     },
     "execution_count": 1,
     "metadata": {},
     "output_type": "execute_result"
    }
   ],
   "source": [
    "import pandas as pd\n",
    "\n",
    "with open(\"./avg-test-result-in-paper\", \"r\") as f:\n",
    "    df = pd.read_csv(f, delim_whitespace=True, engine='python')\n",
    "df.head()"
   ]
  },
  {
   "cell_type": "markdown",
   "metadata": {},
   "source": [
    "- How many percentage of cmp_time occupy whole_time ?"
   ]
  },
  {
   "cell_type": "code",
   "execution_count": 2,
   "metadata": {},
   "outputs": [
    {
     "name": "stdout",
     "output_type": "stream",
     "text": [
      "Occupy:  1478/3046 = 0.4852265265922521\n"
     ]
    }
   ],
   "source": [
    "dup_write = df.iloc[2]\n",
    "print(\"Occupy: \", str(dup_write[\"cmp_time\"]) + \"/\" + str(dup_write[\"whole_time\"]), \"=\", dup_write[\"cmp_time\"] / dup_write[\"whole_time\"]) "
   ]
  }
 ],
 "metadata": {
  "kernelspec": {
   "display_name": "Python 3.6.8 64-bit",
   "language": "python",
   "name": "python3"
  },
  "language_info": {
   "codemirror_mode": {
    "name": "ipython",
    "version": 3
   },
   "file_extension": ".py",
   "mimetype": "text/x-python",
   "name": "python",
   "nbconvert_exporter": "python",
   "pygments_lexer": "ipython3",
   "version": "3.6.8"
  },
  "orig_nbformat": 4,
  "vscode": {
   "interpreter": {
    "hash": "916dbcbb3f70747c44a77c7bcd40155683ae19c65e1c03b4aa3499c5328201f1"
   }
  }
 },
 "nbformat": 4,
 "nbformat_minor": 2
}

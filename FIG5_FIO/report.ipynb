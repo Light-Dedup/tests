{
 "cells": [
  {
   "cell_type": "code",
   "execution_count": 1,
   "metadata": {},
   "outputs": [
    {
     "data": {
      "text/html": [
       "<div>\n",
       "<style scoped>\n",
       "    .dataframe tbody tr th:only-of-type {\n",
       "        vertical-align: middle;\n",
       "    }\n",
       "\n",
       "    .dataframe tbody tr th {\n",
       "        vertical-align: top;\n",
       "    }\n",
       "\n",
       "    .dataframe thead th {\n",
       "        text-align: right;\n",
       "    }\n",
       "</style>\n",
       "<table border=\"1\" class=\"dataframe\">\n",
       "  <thead>\n",
       "    <tr style=\"text-align: right;\">\n",
       "      <th></th>\n",
       "      <th>file_system</th>\n",
       "      <th>dup_rate</th>\n",
       "      <th>num_job</th>\n",
       "      <th>bandwidth(MiB/s)</th>\n",
       "    </tr>\n",
       "  </thead>\n",
       "  <tbody>\n",
       "    <tr>\n",
       "      <th>0</th>\n",
       "      <td>Light-Dedup</td>\n",
       "      <td>0</td>\n",
       "      <td>1</td>\n",
       "      <td>808</td>\n",
       "    </tr>\n",
       "    <tr>\n",
       "      <th>1</th>\n",
       "      <td>Light-Dedup</td>\n",
       "      <td>0</td>\n",
       "      <td>2</td>\n",
       "      <td>1263</td>\n",
       "    </tr>\n",
       "    <tr>\n",
       "      <th>2</th>\n",
       "      <td>Light-Dedup</td>\n",
       "      <td>0</td>\n",
       "      <td>4</td>\n",
       "      <td>1666</td>\n",
       "    </tr>\n",
       "    <tr>\n",
       "      <th>3</th>\n",
       "      <td>Light-Dedup</td>\n",
       "      <td>0</td>\n",
       "      <td>8</td>\n",
       "      <td>1787</td>\n",
       "    </tr>\n",
       "    <tr>\n",
       "      <th>4</th>\n",
       "      <td>Light-Dedup</td>\n",
       "      <td>0</td>\n",
       "      <td>16</td>\n",
       "      <td>1573</td>\n",
       "    </tr>\n",
       "  </tbody>\n",
       "</table>\n",
       "</div>"
      ],
      "text/plain": [
       "   file_system  dup_rate  num_job  bandwidth(MiB/s)\n",
       "0  Light-Dedup         0        1               808\n",
       "1  Light-Dedup         0        2              1263\n",
       "2  Light-Dedup         0        4              1666\n",
       "3  Light-Dedup         0        8              1787\n",
       "4  Light-Dedup         0       16              1573"
      ]
     },
     "execution_count": 1,
     "metadata": {},
     "output_type": "execute_result"
    }
   ],
   "source": [
    "import pandas as pd\n",
    "\n",
    "with open(\"./avg-test-result-in-paper\", \"r\") as f:\n",
    "    df = pd.read_csv(f, delim_whitespace=True, engine='python')\n",
    "df.head()"
   ]
  },
  {
   "cell_type": "markdown",
   "metadata": {},
   "source": [
    "- How much Light-Dedup outperform other deduplication file systems under 0, 25, 50, 75 duplication ratio?"
   ]
  },
  {
   "cell_type": "code",
   "execution_count": 2,
   "metadata": {},
   "outputs": [
    {
     "data": {
      "text/html": [
       "<div>\n",
       "<style scoped>\n",
       "    .dataframe tbody tr th:only-of-type {\n",
       "        vertical-align: middle;\n",
       "    }\n",
       "\n",
       "    .dataframe tbody tr th {\n",
       "        vertical-align: top;\n",
       "    }\n",
       "\n",
       "    .dataframe thead th {\n",
       "        text-align: right;\n",
       "    }\n",
       "</style>\n",
       "<table border=\"1\" class=\"dataframe\">\n",
       "  <thead>\n",
       "    <tr style=\"text-align: right;\">\n",
       "      <th></th>\n",
       "      <th>index</th>\n",
       "      <th>file_system</th>\n",
       "      <th>dup_rate</th>\n",
       "      <th>num_job</th>\n",
       "      <th>bandwidth(MiB/s)</th>\n",
       "      <th>Light-Dedup(SHA256)</th>\n",
       "      <th>NV-Dedup</th>\n",
       "      <th>NOVA</th>\n",
       "    </tr>\n",
       "  </thead>\n",
       "  <tbody>\n",
       "    <tr>\n",
       "      <th>0</th>\n",
       "      <td>0</td>\n",
       "      <td>Light-Dedup</td>\n",
       "      <td>0</td>\n",
       "      <td>1</td>\n",
       "      <td>808</td>\n",
       "      <td>2.916968</td>\n",
       "      <td>1.034571</td>\n",
       "      <td>0.960761</td>\n",
       "    </tr>\n",
       "    <tr>\n",
       "      <th>1</th>\n",
       "      <td>1</td>\n",
       "      <td>Light-Dedup</td>\n",
       "      <td>0</td>\n",
       "      <td>2</td>\n",
       "      <td>1263</td>\n",
       "      <td>2.396584</td>\n",
       "      <td>0.991366</td>\n",
       "      <td>0.916546</td>\n",
       "    </tr>\n",
       "    <tr>\n",
       "      <th>2</th>\n",
       "      <td>2</td>\n",
       "      <td>Light-Dedup</td>\n",
       "      <td>0</td>\n",
       "      <td>4</td>\n",
       "      <td>1666</td>\n",
       "      <td>1.824754</td>\n",
       "      <td>1.007864</td>\n",
       "      <td>0.951456</td>\n",
       "    </tr>\n",
       "    <tr>\n",
       "      <th>3</th>\n",
       "      <td>3</td>\n",
       "      <td>Light-Dedup</td>\n",
       "      <td>0</td>\n",
       "      <td>8</td>\n",
       "      <td>1787</td>\n",
       "      <td>1.580018</td>\n",
       "      <td>1.172572</td>\n",
       "      <td>0.953575</td>\n",
       "    </tr>\n",
       "    <tr>\n",
       "      <th>4</th>\n",
       "      <td>4</td>\n",
       "      <td>Light-Dedup</td>\n",
       "      <td>0</td>\n",
       "      <td>16</td>\n",
       "      <td>1573</td>\n",
       "      <td>1.170387</td>\n",
       "      <td>1.189864</td>\n",
       "      <td>1.021429</td>\n",
       "    </tr>\n",
       "    <tr>\n",
       "      <th>5</th>\n",
       "      <td>20</td>\n",
       "      <td>Light-Dedup</td>\n",
       "      <td>25</td>\n",
       "      <td>1</td>\n",
       "      <td>740</td>\n",
       "      <td>2.681159</td>\n",
       "      <td>1.459566</td>\n",
       "      <td>0.857474</td>\n",
       "    </tr>\n",
       "    <tr>\n",
       "      <th>6</th>\n",
       "      <td>21</td>\n",
       "      <td>Light-Dedup</td>\n",
       "      <td>25</td>\n",
       "      <td>2</td>\n",
       "      <td>1306</td>\n",
       "      <td>2.516378</td>\n",
       "      <td>1.439912</td>\n",
       "      <td>0.971726</td>\n",
       "    </tr>\n",
       "    <tr>\n",
       "      <th>7</th>\n",
       "      <td>22</td>\n",
       "      <td>Light-Dedup</td>\n",
       "      <td>25</td>\n",
       "      <td>4</td>\n",
       "      <td>1990</td>\n",
       "      <td>2.068607</td>\n",
       "      <td>1.373361</td>\n",
       "      <td>1.139096</td>\n",
       "    </tr>\n",
       "    <tr>\n",
       "      <th>8</th>\n",
       "      <td>23</td>\n",
       "      <td>Light-Dedup</td>\n",
       "      <td>25</td>\n",
       "      <td>8</td>\n",
       "      <td>2127</td>\n",
       "      <td>1.443992</td>\n",
       "      <td>1.293009</td>\n",
       "      <td>1.136218</td>\n",
       "    </tr>\n",
       "    <tr>\n",
       "      <th>9</th>\n",
       "      <td>24</td>\n",
       "      <td>Light-Dedup</td>\n",
       "      <td>25</td>\n",
       "      <td>16</td>\n",
       "      <td>1600</td>\n",
       "      <td>0.956938</td>\n",
       "      <td>1.109570</td>\n",
       "      <td>1.039636</td>\n",
       "    </tr>\n",
       "    <tr>\n",
       "      <th>10</th>\n",
       "      <td>40</td>\n",
       "      <td>Light-Dedup</td>\n",
       "      <td>50</td>\n",
       "      <td>1</td>\n",
       "      <td>749</td>\n",
       "      <td>2.488372</td>\n",
       "      <td>2.086351</td>\n",
       "      <td>0.887441</td>\n",
       "    </tr>\n",
       "    <tr>\n",
       "      <th>11</th>\n",
       "      <td>41</td>\n",
       "      <td>Light-Dedup</td>\n",
       "      <td>50</td>\n",
       "      <td>2</td>\n",
       "      <td>1383</td>\n",
       "      <td>2.401042</td>\n",
       "      <td>2.174528</td>\n",
       "      <td>1.016912</td>\n",
       "    </tr>\n",
       "    <tr>\n",
       "      <th>12</th>\n",
       "      <td>42</td>\n",
       "      <td>Light-Dedup</td>\n",
       "      <td>50</td>\n",
       "      <td>4</td>\n",
       "      <td>2318</td>\n",
       "      <td>2.122711</td>\n",
       "      <td>2.012153</td>\n",
       "      <td>1.324571</td>\n",
       "    </tr>\n",
       "    <tr>\n",
       "      <th>13</th>\n",
       "      <td>43</td>\n",
       "      <td>Light-Dedup</td>\n",
       "      <td>50</td>\n",
       "      <td>8</td>\n",
       "      <td>2694</td>\n",
       "      <td>1.481848</td>\n",
       "      <td>1.486755</td>\n",
       "      <td>1.438334</td>\n",
       "    </tr>\n",
       "    <tr>\n",
       "      <th>14</th>\n",
       "      <td>44</td>\n",
       "      <td>Light-Dedup</td>\n",
       "      <td>50</td>\n",
       "      <td>16</td>\n",
       "      <td>2071</td>\n",
       "      <td>0.932463</td>\n",
       "      <td>1.123102</td>\n",
       "      <td>1.364295</td>\n",
       "    </tr>\n",
       "    <tr>\n",
       "      <th>15</th>\n",
       "      <td>60</td>\n",
       "      <td>Light-Dedup</td>\n",
       "      <td>75</td>\n",
       "      <td>1</td>\n",
       "      <td>831</td>\n",
       "      <td>2.233871</td>\n",
       "      <td>2.056931</td>\n",
       "      <td>0.956272</td>\n",
       "    </tr>\n",
       "    <tr>\n",
       "      <th>16</th>\n",
       "      <td>61</td>\n",
       "      <td>Light-Dedup</td>\n",
       "      <td>75</td>\n",
       "      <td>2</td>\n",
       "      <td>1567</td>\n",
       "      <td>2.213277</td>\n",
       "      <td>2.207042</td>\n",
       "      <td>1.171151</td>\n",
       "    </tr>\n",
       "    <tr>\n",
       "      <th>17</th>\n",
       "      <td>62</td>\n",
       "      <td>Light-Dedup</td>\n",
       "      <td>75</td>\n",
       "      <td>4</td>\n",
       "      <td>2870</td>\n",
       "      <td>2.096421</td>\n",
       "      <td>2.223083</td>\n",
       "      <td>1.640938</td>\n",
       "    </tr>\n",
       "    <tr>\n",
       "      <th>18</th>\n",
       "      <td>63</td>\n",
       "      <td>Light-Dedup</td>\n",
       "      <td>75</td>\n",
       "      <td>8</td>\n",
       "      <td>4181</td>\n",
       "      <td>1.748641</td>\n",
       "      <td>1.941040</td>\n",
       "      <td>2.232248</td>\n",
       "    </tr>\n",
       "    <tr>\n",
       "      <th>19</th>\n",
       "      <td>64</td>\n",
       "      <td>Light-Dedup</td>\n",
       "      <td>75</td>\n",
       "      <td>16</td>\n",
       "      <td>3371</td>\n",
       "      <td>0.973715</td>\n",
       "      <td>1.319374</td>\n",
       "      <td>2.232450</td>\n",
       "    </tr>\n",
       "  </tbody>\n",
       "</table>\n",
       "</div>"
      ],
      "text/plain": [
       "    index  file_system  dup_rate  num_job  bandwidth(MiB/s)  \\\n",
       "0       0  Light-Dedup         0        1               808   \n",
       "1       1  Light-Dedup         0        2              1263   \n",
       "2       2  Light-Dedup         0        4              1666   \n",
       "3       3  Light-Dedup         0        8              1787   \n",
       "4       4  Light-Dedup         0       16              1573   \n",
       "5      20  Light-Dedup        25        1               740   \n",
       "6      21  Light-Dedup        25        2              1306   \n",
       "7      22  Light-Dedup        25        4              1990   \n",
       "8      23  Light-Dedup        25        8              2127   \n",
       "9      24  Light-Dedup        25       16              1600   \n",
       "10     40  Light-Dedup        50        1               749   \n",
       "11     41  Light-Dedup        50        2              1383   \n",
       "12     42  Light-Dedup        50        4              2318   \n",
       "13     43  Light-Dedup        50        8              2694   \n",
       "14     44  Light-Dedup        50       16              2071   \n",
       "15     60  Light-Dedup        75        1               831   \n",
       "16     61  Light-Dedup        75        2              1567   \n",
       "17     62  Light-Dedup        75        4              2870   \n",
       "18     63  Light-Dedup        75        8              4181   \n",
       "19     64  Light-Dedup        75       16              3371   \n",
       "\n",
       "    Light-Dedup(SHA256)  NV-Dedup      NOVA  \n",
       "0              2.916968  1.034571  0.960761  \n",
       "1              2.396584  0.991366  0.916546  \n",
       "2              1.824754  1.007864  0.951456  \n",
       "3              1.580018  1.172572  0.953575  \n",
       "4              1.170387  1.189864  1.021429  \n",
       "5              2.681159  1.459566  0.857474  \n",
       "6              2.516378  1.439912  0.971726  \n",
       "7              2.068607  1.373361  1.139096  \n",
       "8              1.443992  1.293009  1.136218  \n",
       "9              0.956938  1.109570  1.039636  \n",
       "10             2.488372  2.086351  0.887441  \n",
       "11             2.401042  2.174528  1.016912  \n",
       "12             2.122711  2.012153  1.324571  \n",
       "13             1.481848  1.486755  1.438334  \n",
       "14             0.932463  1.123102  1.364295  \n",
       "15             2.233871  2.056931  0.956272  \n",
       "16             2.213277  2.207042  1.171151  \n",
       "17             2.096421  2.223083  1.640938  \n",
       "18             1.748641  1.941040  2.232248  \n",
       "19             0.973715  1.319374  2.232450  "
      ]
     },
     "execution_count": 2,
     "metadata": {},
     "output_type": "execute_result"
    }
   ],
   "source": [
    "fs_names = df['file_system'].drop_duplicates().reset_index().drop(columns=['index'])['file_system']\n",
    "\n",
    "light_dedup =  df[df[\"file_system\"] == \"Light-Dedup\"].copy().reset_index()\n",
    "\n",
    "for fs_name in fs_names:\n",
    "    if fs_name == \"Light-Dedup\":\n",
    "        continue\n",
    "    fs = df[df[\"file_system\"] == fs_name]\n",
    "    # print(pd.DataFrame([1, 2, 3]) / pd.DataFrame([1, 2, 3]))\n",
    "    light_dedup[fs_name] = light_dedup[\"bandwidth(MiB/s)\"] / fs[\"bandwidth(MiB/s)\"].reset_index()[\"bandwidth(MiB/s)\"]\n",
    "\n",
    "light_dedup\n",
    "    "
   ]
  },
  {
   "cell_type": "markdown",
   "metadata": {},
   "source": [
    "- How much throughput Light-Dedup achieves over NOVA and NV-Dedup when dedup ratio >= 25%?"
   ]
  },
  {
   "cell_type": "code",
   "execution_count": 3,
   "metadata": {},
   "outputs": [
    {
     "name": "stdout",
     "output_type": "stream",
     "text": [
      "Max higher than NV-Dedup:2.223082881487219\n",
      "Min higher than NV-Dedup:1.1095700416088765\n",
      "Max higher than NOVA:2.2324503311258277\n",
      "Min higher than NOVA:0.8574739281575898\n"
     ]
    }
   ],
   "source": [
    "print(\"Max higher than NV-Dedup:\" + str(max(light_dedup[light_dedup[\"dup_rate\"] >= 25][\"NV-Dedup\"])))\n",
    "print(\"Min higher than NV-Dedup:\" + str(min(light_dedup[light_dedup[\"dup_rate\"] >= 25][\"NV-Dedup\"])))\n",
    "print(\"Max higher than NOVA:\" + str(max(light_dedup[light_dedup[\"dup_rate\"] >= 25][\"NOVA\"])))\n",
    "print(\"Min higher than NOVA:\" + str(min(light_dedup[light_dedup[\"dup_rate\"] >= 25][\"NOVA\"])))"
   ]
  },
  {
   "cell_type": "markdown",
   "metadata": {},
   "source": [
    "- How much slower Light-Dedup than NOVA when dedup ratio == 0%?"
   ]
  },
  {
   "cell_type": "code",
   "execution_count": 4,
   "metadata": {},
   "outputs": [
    {
     "data": {
      "text/plain": [
       "0    0.960761\n",
       "1    0.916546\n",
       "2    0.951456\n",
       "3    0.953575\n",
       "4    1.021429\n",
       "Name: NOVA, dtype: float64"
      ]
     },
     "execution_count": 4,
     "metadata": {},
     "output_type": "execute_result"
    }
   ],
   "source": [
    "light_dedup[light_dedup[\"dup_rate\"] == 0][\"NOVA\"]"
   ]
  },
  {
   "cell_type": "markdown",
   "metadata": {},
   "source": [
    "- How much faster Light-Dedup than NV-Dedup when dedup ratio == 75%?"
   ]
  },
  {
   "cell_type": "code",
   "execution_count": 5,
   "metadata": {},
   "outputs": [
    {
     "data": {
      "text/plain": [
       "15    2.056931\n",
       "16    2.207042\n",
       "17    2.223083\n",
       "18    1.941040\n",
       "19    1.319374\n",
       "Name: NV-Dedup, dtype: float64"
      ]
     },
     "execution_count": 5,
     "metadata": {},
     "output_type": "execute_result"
    }
   ],
   "source": [
    "light_dedup[light_dedup[\"dup_rate\"] == 75][\"NV-Dedup\"]"
   ]
  },
  {
   "cell_type": "markdown",
   "metadata": {},
   "source": [
    "- How much faster Light-Dedup than SHA256 when dedup ratio == 75%?"
   ]
  },
  {
   "cell_type": "code",
   "execution_count": 6,
   "metadata": {},
   "outputs": [
    {
     "data": {
      "text/plain": [
       "15    2.233871\n",
       "Name: Light-Dedup(SHA256), dtype: float64"
      ]
     },
     "execution_count": 6,
     "metadata": {},
     "output_type": "execute_result"
    }
   ],
   "source": [
    "light_dedup[(light_dedup[\"dup_rate\"] == 75) & (light_dedup[\"num_job\"] == 1)][\"Light-Dedup(SHA256)\"]"
   ]
  },
  {
   "cell_type": "markdown",
   "metadata": {},
   "source": [
    "- Performance Improvement of Light-Dedup from 0% to 75% "
   ]
  },
  {
   "cell_type": "code",
   "execution_count": 7,
   "metadata": {},
   "outputs": [
    {
     "data": {
      "text/plain": [
       "0    1.028465\n",
       "1    1.240697\n",
       "2    1.722689\n",
       "3    2.339675\n",
       "4    2.143039\n",
       "Name: bandwidth(MiB/s), dtype: float64"
      ]
     },
     "execution_count": 7,
     "metadata": {},
     "output_type": "execute_result"
    }
   ],
   "source": [
    "light_dedup[(light_dedup[\"dup_rate\"] == 75)].reset_index()[\"bandwidth(MiB/s)\"]/light_dedup[(light_dedup[\"dup_rate\"] == 0)].reset_index()[\"bandwidth(MiB/s)\"]"
   ]
  }
 ],
 "metadata": {
  "kernelspec": {
   "display_name": "Python 3.6.8 64-bit",
   "language": "python",
   "name": "python3"
  },
  "language_info": {
   "codemirror_mode": {
    "name": "ipython",
    "version": 3
   },
   "file_extension": ".py",
   "mimetype": "text/x-python",
   "name": "python",
   "nbconvert_exporter": "python",
   "pygments_lexer": "ipython3",
   "version": "3.6.8"
  },
  "orig_nbformat": 4,
  "vscode": {
   "interpreter": {
    "hash": "916dbcbb3f70747c44a77c7bcd40155683ae19c65e1c03b4aa3499c5328201f1"
   }
  }
 },
 "nbformat": 4,
 "nbformat_minor": 2
}

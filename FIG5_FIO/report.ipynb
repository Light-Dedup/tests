{
 "cells": [
  {
   "cell_type": "code",
   "execution_count": 3,
   "metadata": {},
   "outputs": [
    {
     "data": {
      "text/html": [
       "<div>\n",
       "<style scoped>\n",
       "    .dataframe tbody tr th:only-of-type {\n",
       "        vertical-align: middle;\n",
       "    }\n",
       "\n",
       "    .dataframe tbody tr th {\n",
       "        vertical-align: top;\n",
       "    }\n",
       "\n",
       "    .dataframe thead th {\n",
       "        text-align: right;\n",
       "    }\n",
       "</style>\n",
       "<table border=\"1\" class=\"dataframe\">\n",
       "  <thead>\n",
       "    <tr style=\"text-align: right;\">\n",
       "      <th></th>\n",
       "      <th>file_system</th>\n",
       "      <th>dup_rate</th>\n",
       "      <th>num_job</th>\n",
       "      <th>bandwidth(MiB/s)</th>\n",
       "    </tr>\n",
       "  </thead>\n",
       "  <tbody>\n",
       "    <tr>\n",
       "      <th>0</th>\n",
       "      <td>Light-Dedup</td>\n",
       "      <td>0</td>\n",
       "      <td>1</td>\n",
       "      <td>778</td>\n",
       "    </tr>\n",
       "    <tr>\n",
       "      <th>1</th>\n",
       "      <td>Light-Dedup</td>\n",
       "      <td>0</td>\n",
       "      <td>2</td>\n",
       "      <td>1233</td>\n",
       "    </tr>\n",
       "    <tr>\n",
       "      <th>2</th>\n",
       "      <td>Light-Dedup</td>\n",
       "      <td>0</td>\n",
       "      <td>4</td>\n",
       "      <td>1667</td>\n",
       "    </tr>\n",
       "    <tr>\n",
       "      <th>3</th>\n",
       "      <td>Light-Dedup</td>\n",
       "      <td>0</td>\n",
       "      <td>8</td>\n",
       "      <td>1793</td>\n",
       "    </tr>\n",
       "    <tr>\n",
       "      <th>4</th>\n",
       "      <td>Light-Dedup</td>\n",
       "      <td>0</td>\n",
       "      <td>16</td>\n",
       "      <td>1563</td>\n",
       "    </tr>\n",
       "  </tbody>\n",
       "</table>\n",
       "</div>"
      ],
      "text/plain": [
       "   file_system  dup_rate  num_job  bandwidth(MiB/s)\n",
       "0  Light-Dedup         0        1               778\n",
       "1  Light-Dedup         0        2              1233\n",
       "2  Light-Dedup         0        4              1667\n",
       "3  Light-Dedup         0        8              1793\n",
       "4  Light-Dedup         0       16              1563"
      ]
     },
     "execution_count": 3,
     "metadata": {},
     "output_type": "execute_result"
    }
   ],
   "source": [
    "import pandas as pd\n",
    "\n",
    "with open(\"./avg-test-result-in-paper\", \"r\") as f:\n",
    "    df = pd.read_csv(f, delim_whitespace=True, engine='python')\n",
    "df.head()"
   ]
  },
  {
   "cell_type": "markdown",
   "metadata": {},
   "source": [
    "- How much Light-Dedup outperform other deduplication file systems under 0, 25, 50, 75 duplication ratio?"
   ]
  },
  {
   "cell_type": "code",
   "execution_count": 4,
   "metadata": {},
   "outputs": [
    {
     "data": {
      "text/html": [
       "<div>\n",
       "<style scoped>\n",
       "    .dataframe tbody tr th:only-of-type {\n",
       "        vertical-align: middle;\n",
       "    }\n",
       "\n",
       "    .dataframe tbody tr th {\n",
       "        vertical-align: top;\n",
       "    }\n",
       "\n",
       "    .dataframe thead th {\n",
       "        text-align: right;\n",
       "    }\n",
       "</style>\n",
       "<table border=\"1\" class=\"dataframe\">\n",
       "  <thead>\n",
       "    <tr style=\"text-align: right;\">\n",
       "      <th></th>\n",
       "      <th>index</th>\n",
       "      <th>file_system</th>\n",
       "      <th>dup_rate</th>\n",
       "      <th>num_job</th>\n",
       "      <th>bandwidth(MiB/s)</th>\n",
       "      <th>Light-Dedup(SHA256)</th>\n",
       "      <th>NV-Dedup</th>\n",
       "      <th>NOVA</th>\n",
       "    </tr>\n",
       "  </thead>\n",
       "  <tbody>\n",
       "    <tr>\n",
       "      <th>0</th>\n",
       "      <td>0</td>\n",
       "      <td>Light-Dedup</td>\n",
       "      <td>0</td>\n",
       "      <td>1</td>\n",
       "      <td>778</td>\n",
       "      <td>2.768683</td>\n",
       "      <td>0.972500</td>\n",
       "      <td>0.900463</td>\n",
       "    </tr>\n",
       "    <tr>\n",
       "      <th>1</th>\n",
       "      <td>1</td>\n",
       "      <td>Light-Dedup</td>\n",
       "      <td>0</td>\n",
       "      <td>2</td>\n",
       "      <td>1233</td>\n",
       "      <td>2.357553</td>\n",
       "      <td>0.950655</td>\n",
       "      <td>0.911982</td>\n",
       "    </tr>\n",
       "    <tr>\n",
       "      <th>2</th>\n",
       "      <td>2</td>\n",
       "      <td>Light-Dedup</td>\n",
       "      <td>0</td>\n",
       "      <td>4</td>\n",
       "      <td>1667</td>\n",
       "      <td>1.809989</td>\n",
       "      <td>1.011529</td>\n",
       "      <td>0.956946</td>\n",
       "    </tr>\n",
       "    <tr>\n",
       "      <th>3</th>\n",
       "      <td>3</td>\n",
       "      <td>Light-Dedup</td>\n",
       "      <td>0</td>\n",
       "      <td>8</td>\n",
       "      <td>1793</td>\n",
       "      <td>1.567308</td>\n",
       "      <td>1.178055</td>\n",
       "      <td>0.960364</td>\n",
       "    </tr>\n",
       "    <tr>\n",
       "      <th>4</th>\n",
       "      <td>4</td>\n",
       "      <td>Light-Dedup</td>\n",
       "      <td>0</td>\n",
       "      <td>16</td>\n",
       "      <td>1563</td>\n",
       "      <td>1.158636</td>\n",
       "      <td>1.178733</td>\n",
       "      <td>1.005145</td>\n",
       "    </tr>\n",
       "    <tr>\n",
       "      <th>5</th>\n",
       "      <td>20</td>\n",
       "      <td>Light-Dedup</td>\n",
       "      <td>25</td>\n",
       "      <td>1</td>\n",
       "      <td>690</td>\n",
       "      <td>2.429577</td>\n",
       "      <td>1.292135</td>\n",
       "      <td>0.817536</td>\n",
       "    </tr>\n",
       "    <tr>\n",
       "      <th>6</th>\n",
       "      <td>21</td>\n",
       "      <td>Light-Dedup</td>\n",
       "      <td>25</td>\n",
       "      <td>2</td>\n",
       "      <td>1206</td>\n",
       "      <td>2.258427</td>\n",
       "      <td>1.273495</td>\n",
       "      <td>0.900000</td>\n",
       "    </tr>\n",
       "    <tr>\n",
       "      <th>7</th>\n",
       "      <td>22</td>\n",
       "      <td>Light-Dedup</td>\n",
       "      <td>25</td>\n",
       "      <td>4</td>\n",
       "      <td>1887</td>\n",
       "      <td>1.904137</td>\n",
       "      <td>1.288934</td>\n",
       "      <td>1.080137</td>\n",
       "    </tr>\n",
       "    <tr>\n",
       "      <th>8</th>\n",
       "      <td>23</td>\n",
       "      <td>Light-Dedup</td>\n",
       "      <td>25</td>\n",
       "      <td>8</td>\n",
       "      <td>2091</td>\n",
       "      <td>1.391218</td>\n",
       "      <td>1.271898</td>\n",
       "      <td>1.121180</td>\n",
       "    </tr>\n",
       "    <tr>\n",
       "      <th>9</th>\n",
       "      <td>24</td>\n",
       "      <td>Light-Dedup</td>\n",
       "      <td>25</td>\n",
       "      <td>16</td>\n",
       "      <td>1670</td>\n",
       "      <td>0.969240</td>\n",
       "      <td>1.158917</td>\n",
       "      <td>1.075338</td>\n",
       "    </tr>\n",
       "    <tr>\n",
       "      <th>10</th>\n",
       "      <td>40</td>\n",
       "      <td>Light-Dedup</td>\n",
       "      <td>50</td>\n",
       "      <td>1</td>\n",
       "      <td>678</td>\n",
       "      <td>2.194175</td>\n",
       "      <td>1.862637</td>\n",
       "      <td>0.790210</td>\n",
       "    </tr>\n",
       "    <tr>\n",
       "      <th>11</th>\n",
       "      <td>41</td>\n",
       "      <td>Light-Dedup</td>\n",
       "      <td>50</td>\n",
       "      <td>2</td>\n",
       "      <td>1248</td>\n",
       "      <td>2.126065</td>\n",
       "      <td>1.893778</td>\n",
       "      <td>0.916300</td>\n",
       "    </tr>\n",
       "    <tr>\n",
       "      <th>12</th>\n",
       "      <td>42</td>\n",
       "      <td>Light-Dedup</td>\n",
       "      <td>50</td>\n",
       "      <td>4</td>\n",
       "      <td>2133</td>\n",
       "      <td>1.916442</td>\n",
       "      <td>1.777500</td>\n",
       "      <td>1.224455</td>\n",
       "    </tr>\n",
       "    <tr>\n",
       "      <th>13</th>\n",
       "      <td>43</td>\n",
       "      <td>Light-Dedup</td>\n",
       "      <td>50</td>\n",
       "      <td>8</td>\n",
       "      <td>2667</td>\n",
       "      <td>1.436961</td>\n",
       "      <td>1.453406</td>\n",
       "      <td>1.432331</td>\n",
       "    </tr>\n",
       "    <tr>\n",
       "      <th>14</th>\n",
       "      <td>44</td>\n",
       "      <td>Light-Dedup</td>\n",
       "      <td>50</td>\n",
       "      <td>16</td>\n",
       "      <td>2099</td>\n",
       "      <td>0.908265</td>\n",
       "      <td>1.130927</td>\n",
       "      <td>1.368318</td>\n",
       "    </tr>\n",
       "    <tr>\n",
       "      <th>15</th>\n",
       "      <td>60</td>\n",
       "      <td>Light-Dedup</td>\n",
       "      <td>75</td>\n",
       "      <td>1</td>\n",
       "      <td>776</td>\n",
       "      <td>2.080429</td>\n",
       "      <td>1.901961</td>\n",
       "      <td>0.910798</td>\n",
       "    </tr>\n",
       "    <tr>\n",
       "      <th>16</th>\n",
       "      <td>61</td>\n",
       "      <td>Light-Dedup</td>\n",
       "      <td>75</td>\n",
       "      <td>2</td>\n",
       "      <td>1465</td>\n",
       "      <td>2.057584</td>\n",
       "      <td>1.993197</td>\n",
       "      <td>1.087602</td>\n",
       "    </tr>\n",
       "    <tr>\n",
       "      <th>17</th>\n",
       "      <td>62</td>\n",
       "      <td>Light-Dedup</td>\n",
       "      <td>75</td>\n",
       "      <td>4</td>\n",
       "      <td>2682</td>\n",
       "      <td>1.947712</td>\n",
       "      <td>1.957664</td>\n",
       "      <td>1.534325</td>\n",
       "    </tr>\n",
       "    <tr>\n",
       "      <th>18</th>\n",
       "      <td>63</td>\n",
       "      <td>Light-Dedup</td>\n",
       "      <td>75</td>\n",
       "      <td>8</td>\n",
       "      <td>4068</td>\n",
       "      <td>1.662444</td>\n",
       "      <td>1.828315</td>\n",
       "      <td>2.173077</td>\n",
       "    </tr>\n",
       "    <tr>\n",
       "      <th>19</th>\n",
       "      <td>64</td>\n",
       "      <td>Light-Dedup</td>\n",
       "      <td>75</td>\n",
       "      <td>16</td>\n",
       "      <td>3384</td>\n",
       "      <td>0.970462</td>\n",
       "      <td>1.324980</td>\n",
       "      <td>2.166453</td>\n",
       "    </tr>\n",
       "  </tbody>\n",
       "</table>\n",
       "</div>"
      ],
      "text/plain": [
       "    index  file_system  dup_rate  num_job  bandwidth(MiB/s)  \\\n",
       "0       0  Light-Dedup         0        1               778   \n",
       "1       1  Light-Dedup         0        2              1233   \n",
       "2       2  Light-Dedup         0        4              1667   \n",
       "3       3  Light-Dedup         0        8              1793   \n",
       "4       4  Light-Dedup         0       16              1563   \n",
       "5      20  Light-Dedup        25        1               690   \n",
       "6      21  Light-Dedup        25        2              1206   \n",
       "7      22  Light-Dedup        25        4              1887   \n",
       "8      23  Light-Dedup        25        8              2091   \n",
       "9      24  Light-Dedup        25       16              1670   \n",
       "10     40  Light-Dedup        50        1               678   \n",
       "11     41  Light-Dedup        50        2              1248   \n",
       "12     42  Light-Dedup        50        4              2133   \n",
       "13     43  Light-Dedup        50        8              2667   \n",
       "14     44  Light-Dedup        50       16              2099   \n",
       "15     60  Light-Dedup        75        1               776   \n",
       "16     61  Light-Dedup        75        2              1465   \n",
       "17     62  Light-Dedup        75        4              2682   \n",
       "18     63  Light-Dedup        75        8              4068   \n",
       "19     64  Light-Dedup        75       16              3384   \n",
       "\n",
       "    Light-Dedup(SHA256)  NV-Dedup      NOVA  \n",
       "0              2.768683  0.972500  0.900463  \n",
       "1              2.357553  0.950655  0.911982  \n",
       "2              1.809989  1.011529  0.956946  \n",
       "3              1.567308  1.178055  0.960364  \n",
       "4              1.158636  1.178733  1.005145  \n",
       "5              2.429577  1.292135  0.817536  \n",
       "6              2.258427  1.273495  0.900000  \n",
       "7              1.904137  1.288934  1.080137  \n",
       "8              1.391218  1.271898  1.121180  \n",
       "9              0.969240  1.158917  1.075338  \n",
       "10             2.194175  1.862637  0.790210  \n",
       "11             2.126065  1.893778  0.916300  \n",
       "12             1.916442  1.777500  1.224455  \n",
       "13             1.436961  1.453406  1.432331  \n",
       "14             0.908265  1.130927  1.368318  \n",
       "15             2.080429  1.901961  0.910798  \n",
       "16             2.057584  1.993197  1.087602  \n",
       "17             1.947712  1.957664  1.534325  \n",
       "18             1.662444  1.828315  2.173077  \n",
       "19             0.970462  1.324980  2.166453  "
      ]
     },
     "execution_count": 4,
     "metadata": {},
     "output_type": "execute_result"
    }
   ],
   "source": [
    "fs_names = df['file_system'].drop_duplicates().reset_index().drop(columns=['index'])['file_system']\n",
    "\n",
    "light_dedup =  df[df[\"file_system\"] == \"Light-Dedup\"].copy().reset_index()\n",
    "\n",
    "for fs_name in fs_names:\n",
    "    if fs_name == \"Light-Dedup\":\n",
    "        continue\n",
    "    fs = df[df[\"file_system\"] == fs_name]\n",
    "    # print(pd.DataFrame([1, 2, 3]) / pd.DataFrame([1, 2, 3]))\n",
    "    light_dedup[fs_name] = light_dedup[\"bandwidth(MiB/s)\"] / fs[\"bandwidth(MiB/s)\"].reset_index()[\"bandwidth(MiB/s)\"]\n",
    "\n",
    "light_dedup\n",
    "    "
   ]
  },
  {
   "cell_type": "markdown",
   "metadata": {},
   "source": [
    "- How much throughput Light-Dedup achieves over NOVA and NV-Dedup when dedup ratio >= 25%?"
   ]
  },
  {
   "cell_type": "code",
   "execution_count": 5,
   "metadata": {},
   "outputs": [
    {
     "name": "stdout",
     "output_type": "stream",
     "text": [
      "Max higher than NV-Dedup:1.9931972789115646\n",
      "Min higher than NV-Dedup:1.130926724137931\n",
      "Max higher than NOVA:2.173076923076923\n",
      "Min higher than NOVA:0.7902097902097902\n"
     ]
    }
   ],
   "source": [
    "print(\"Max higher than NV-Dedup:\" + str(max(light_dedup[light_dedup[\"dup_rate\"] >= 25][\"NV-Dedup\"])))\n",
    "print(\"Min higher than NV-Dedup:\" + str(min(light_dedup[light_dedup[\"dup_rate\"] >= 25][\"NV-Dedup\"])))\n",
    "print(\"Max higher than NOVA:\" + str(max(light_dedup[light_dedup[\"dup_rate\"] >= 25][\"NOVA\"])))\n",
    "print(\"Min higher than NOVA:\" + str(min(light_dedup[light_dedup[\"dup_rate\"] >= 25][\"NOVA\"])))"
   ]
  },
  {
   "cell_type": "markdown",
   "metadata": {},
   "source": [
    "- How much slower Light-Dedup than NOVA when dedup ratio == 0%?"
   ]
  },
  {
   "cell_type": "code",
   "execution_count": 6,
   "metadata": {},
   "outputs": [
    {
     "data": {
      "text/plain": [
       "0    0.900463\n",
       "1    0.911982\n",
       "2    0.956946\n",
       "3    0.960364\n",
       "4    1.005145\n",
       "Name: NOVA, dtype: float64"
      ]
     },
     "execution_count": 6,
     "metadata": {},
     "output_type": "execute_result"
    }
   ],
   "source": [
    "light_dedup[light_dedup[\"dup_rate\"] == 0][\"NOVA\"]"
   ]
  },
  {
   "cell_type": "markdown",
   "metadata": {},
   "source": [
    "- How much faster Light-Dedup than NV-Dedup when dedup ratio == 75%?"
   ]
  },
  {
   "cell_type": "code",
   "execution_count": 7,
   "metadata": {},
   "outputs": [
    {
     "data": {
      "text/plain": [
       "15    1.901961\n",
       "16    1.993197\n",
       "17    1.957664\n",
       "18    1.828315\n",
       "19    1.324980\n",
       "Name: NV-Dedup, dtype: float64"
      ]
     },
     "execution_count": 7,
     "metadata": {},
     "output_type": "execute_result"
    }
   ],
   "source": [
    "light_dedup[light_dedup[\"dup_rate\"] == 75][\"NV-Dedup\"]"
   ]
  },
  {
   "cell_type": "markdown",
   "metadata": {},
   "source": [
    "- How much faster Light-Dedup than SHA256 when dedup ratio == 75%?"
   ]
  },
  {
   "cell_type": "code",
   "execution_count": 8,
   "metadata": {},
   "outputs": [
    {
     "data": {
      "text/plain": [
       "15    2.080429\n",
       "Name: Light-Dedup(SHA256), dtype: float64"
      ]
     },
     "execution_count": 8,
     "metadata": {},
     "output_type": "execute_result"
    }
   ],
   "source": [
    "light_dedup[(light_dedup[\"dup_rate\"] == 75) & (light_dedup[\"num_job\"] == 1)][\"Light-Dedup(SHA256)\"]"
   ]
  },
  {
   "cell_type": "markdown",
   "metadata": {},
   "source": [
    "- Performance Improvement of Light-Dedup from 0% to 75% "
   ]
  },
  {
   "cell_type": "code",
   "execution_count": 11,
   "metadata": {},
   "outputs": [
    {
     "data": {
      "text/plain": [
       "0    0.997429\n",
       "1    1.188159\n",
       "2    1.608878\n",
       "3    2.268823\n",
       "4    2.165067\n",
       "Name: bandwidth(MiB/s), dtype: float64"
      ]
     },
     "execution_count": 11,
     "metadata": {},
     "output_type": "execute_result"
    }
   ],
   "source": [
    "light_dedup[(light_dedup[\"dup_rate\"] == 75)].reset_index()[\"bandwidth(MiB/s)\"]/light_dedup[(light_dedup[\"dup_rate\"] == 0)].reset_index()[\"bandwidth(MiB/s)\"]"
   ]
  }
 ],
 "metadata": {
  "kernelspec": {
   "display_name": "Python 3.6.8 64-bit",
   "language": "python",
   "name": "python3"
  },
  "language_info": {
   "codemirror_mode": {
    "name": "ipython",
    "version": 3
   },
   "file_extension": ".py",
   "mimetype": "text/x-python",
   "name": "python",
   "nbconvert_exporter": "python",
   "pygments_lexer": "ipython3",
   "version": "3.6.8"
  },
  "orig_nbformat": 4,
  "vscode": {
   "interpreter": {
    "hash": "916dbcbb3f70747c44a77c7bcd40155683ae19c65e1c03b4aa3499c5328201f1"
   }
  }
 },
 "nbformat": 4,
 "nbformat_minor": 2
}

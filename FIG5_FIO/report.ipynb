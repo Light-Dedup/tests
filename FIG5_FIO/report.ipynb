{
 "cells": [
  {
   "cell_type": "code",
   "execution_count": 8,
   "metadata": {},
   "outputs": [
    {
     "data": {
      "text/html": [
       "<div>\n",
       "<style scoped>\n",
       "    .dataframe tbody tr th:only-of-type {\n",
       "        vertical-align: middle;\n",
       "    }\n",
       "\n",
       "    .dataframe tbody tr th {\n",
       "        vertical-align: top;\n",
       "    }\n",
       "\n",
       "    .dataframe thead th {\n",
       "        text-align: right;\n",
       "    }\n",
       "</style>\n",
       "<table border=\"1\" class=\"dataframe\">\n",
       "  <thead>\n",
       "    <tr style=\"text-align: right;\">\n",
       "      <th></th>\n",
       "      <th>file_system</th>\n",
       "      <th>dup_rate</th>\n",
       "      <th>num_job</th>\n",
       "      <th>bandwidth(MiB/s)</th>\n",
       "    </tr>\n",
       "  </thead>\n",
       "  <tbody>\n",
       "    <tr>\n",
       "      <th>0</th>\n",
       "      <td>Light-Dedup</td>\n",
       "      <td>0</td>\n",
       "      <td>1</td>\n",
       "      <td>751</td>\n",
       "    </tr>\n",
       "    <tr>\n",
       "      <th>1</th>\n",
       "      <td>Light-Dedup</td>\n",
       "      <td>0</td>\n",
       "      <td>2</td>\n",
       "      <td>1124</td>\n",
       "    </tr>\n",
       "    <tr>\n",
       "      <th>2</th>\n",
       "      <td>Light-Dedup</td>\n",
       "      <td>0</td>\n",
       "      <td>4</td>\n",
       "      <td>1496</td>\n",
       "    </tr>\n",
       "    <tr>\n",
       "      <th>3</th>\n",
       "      <td>Light-Dedup</td>\n",
       "      <td>0</td>\n",
       "      <td>8</td>\n",
       "      <td>1647</td>\n",
       "    </tr>\n",
       "    <tr>\n",
       "      <th>4</th>\n",
       "      <td>Light-Dedup</td>\n",
       "      <td>0</td>\n",
       "      <td>16</td>\n",
       "      <td>1442</td>\n",
       "    </tr>\n",
       "  </tbody>\n",
       "</table>\n",
       "</div>"
      ],
      "text/plain": [
       "   file_system  dup_rate  num_job  bandwidth(MiB/s)\n",
       "0  Light-Dedup         0        1               751\n",
       "1  Light-Dedup         0        2              1124\n",
       "2  Light-Dedup         0        4              1496\n",
       "3  Light-Dedup         0        8              1647\n",
       "4  Light-Dedup         0       16              1442"
      ]
     },
     "execution_count": 8,
     "metadata": {},
     "output_type": "execute_result"
    }
   ],
   "source": [
    "import pandas as pd\n",
    "\n",
    "with open(\"./avg-test-result-in-paper\", \"r\") as f:\n",
    "    df = pd.read_csv(f, delim_whitespace=True, engine='python')\n",
    "df.head()"
   ]
  },
  {
   "cell_type": "markdown",
   "metadata": {},
   "source": [
    "- How much Light-Dedup outperform other deduplication file systems under 0, 25, 50, 75 duplication ratio?"
   ]
  },
  {
   "cell_type": "code",
   "execution_count": 9,
   "metadata": {},
   "outputs": [
    {
     "data": {
      "text/html": [
       "<div>\n",
       "<style scoped>\n",
       "    .dataframe tbody tr th:only-of-type {\n",
       "        vertical-align: middle;\n",
       "    }\n",
       "\n",
       "    .dataframe tbody tr th {\n",
       "        vertical-align: top;\n",
       "    }\n",
       "\n",
       "    .dataframe thead th {\n",
       "        text-align: right;\n",
       "    }\n",
       "</style>\n",
       "<table border=\"1\" class=\"dataframe\">\n",
       "  <thead>\n",
       "    <tr style=\"text-align: right;\">\n",
       "      <th></th>\n",
       "      <th>index</th>\n",
       "      <th>file_system</th>\n",
       "      <th>dup_rate</th>\n",
       "      <th>num_job</th>\n",
       "      <th>bandwidth(MiB/s)</th>\n",
       "      <th>Light-Dedup(SHA256)</th>\n",
       "      <th>NV-Dedup</th>\n",
       "      <th>NOVA</th>\n",
       "    </tr>\n",
       "  </thead>\n",
       "  <tbody>\n",
       "    <tr>\n",
       "      <th>0</th>\n",
       "      <td>0</td>\n",
       "      <td>Light-Dedup</td>\n",
       "      <td>0</td>\n",
       "      <td>1</td>\n",
       "      <td>751</td>\n",
       "      <td>2.781481</td>\n",
       "      <td>0.888757</td>\n",
       "      <td>0.866205</td>\n",
       "    </tr>\n",
       "    <tr>\n",
       "      <th>1</th>\n",
       "      <td>1</td>\n",
       "      <td>Light-Dedup</td>\n",
       "      <td>0</td>\n",
       "      <td>2</td>\n",
       "      <td>1124</td>\n",
       "      <td>2.412017</td>\n",
       "      <td>0.857361</td>\n",
       "      <td>0.829520</td>\n",
       "    </tr>\n",
       "    <tr>\n",
       "      <th>2</th>\n",
       "      <td>2</td>\n",
       "      <td>Light-Dedup</td>\n",
       "      <td>0</td>\n",
       "      <td>4</td>\n",
       "      <td>1496</td>\n",
       "      <td>1.842365</td>\n",
       "      <td>0.807339</td>\n",
       "      <td>0.855835</td>\n",
       "    </tr>\n",
       "    <tr>\n",
       "      <th>3</th>\n",
       "      <td>3</td>\n",
       "      <td>Light-Dedup</td>\n",
       "      <td>0</td>\n",
       "      <td>8</td>\n",
       "      <td>1647</td>\n",
       "      <td>1.534949</td>\n",
       "      <td>1.004881</td>\n",
       "      <td>0.879808</td>\n",
       "    </tr>\n",
       "    <tr>\n",
       "      <th>4</th>\n",
       "      <td>4</td>\n",
       "      <td>Light-Dedup</td>\n",
       "      <td>0</td>\n",
       "      <td>16</td>\n",
       "      <td>1442</td>\n",
       "      <td>1.129209</td>\n",
       "      <td>1.099924</td>\n",
       "      <td>0.936972</td>\n",
       "    </tr>\n",
       "    <tr>\n",
       "      <th>5</th>\n",
       "      <td>20</td>\n",
       "      <td>Light-Dedup</td>\n",
       "      <td>25</td>\n",
       "      <td>1</td>\n",
       "      <td>741</td>\n",
       "      <td>2.714286</td>\n",
       "      <td>1.337545</td>\n",
       "      <td>0.812500</td>\n",
       "    </tr>\n",
       "    <tr>\n",
       "      <th>6</th>\n",
       "      <td>21</td>\n",
       "      <td>Light-Dedup</td>\n",
       "      <td>25</td>\n",
       "      <td>2</td>\n",
       "      <td>1199</td>\n",
       "      <td>2.412475</td>\n",
       "      <td>1.236082</td>\n",
       "      <td>0.892777</td>\n",
       "    </tr>\n",
       "    <tr>\n",
       "      <th>7</th>\n",
       "      <td>22</td>\n",
       "      <td>Light-Dedup</td>\n",
       "      <td>25</td>\n",
       "      <td>4</td>\n",
       "      <td>1774</td>\n",
       "      <td>1.962389</td>\n",
       "      <td>1.133546</td>\n",
       "      <td>1.016619</td>\n",
       "    </tr>\n",
       "    <tr>\n",
       "      <th>8</th>\n",
       "      <td>23</td>\n",
       "      <td>Light-Dedup</td>\n",
       "      <td>25</td>\n",
       "      <td>8</td>\n",
       "      <td>1969</td>\n",
       "      <td>1.417567</td>\n",
       "      <td>1.108671</td>\n",
       "      <td>1.049574</td>\n",
       "    </tr>\n",
       "    <tr>\n",
       "      <th>9</th>\n",
       "      <td>24</td>\n",
       "      <td>Light-Dedup</td>\n",
       "      <td>25</td>\n",
       "      <td>16</td>\n",
       "      <td>1554</td>\n",
       "      <td>0.975518</td>\n",
       "      <td>1.079917</td>\n",
       "      <td>1.003228</td>\n",
       "    </tr>\n",
       "    <tr>\n",
       "      <th>10</th>\n",
       "      <td>40</td>\n",
       "      <td>Light-Dedup</td>\n",
       "      <td>50</td>\n",
       "      <td>1</td>\n",
       "      <td>753</td>\n",
       "      <td>2.501661</td>\n",
       "      <td>2.085873</td>\n",
       "      <td>0.862543</td>\n",
       "    </tr>\n",
       "    <tr>\n",
       "      <th>11</th>\n",
       "      <td>41</td>\n",
       "      <td>Light-Dedup</td>\n",
       "      <td>50</td>\n",
       "      <td>2</td>\n",
       "      <td>1293</td>\n",
       "      <td>2.317204</td>\n",
       "      <td>1.909897</td>\n",
       "      <td>0.974378</td>\n",
       "    </tr>\n",
       "    <tr>\n",
       "      <th>12</th>\n",
       "      <td>42</td>\n",
       "      <td>Light-Dedup</td>\n",
       "      <td>50</td>\n",
       "      <td>4</td>\n",
       "      <td>2101</td>\n",
       "      <td>2.043774</td>\n",
       "      <td>1.674104</td>\n",
       "      <td>1.203322</td>\n",
       "    </tr>\n",
       "    <tr>\n",
       "      <th>13</th>\n",
       "      <td>43</td>\n",
       "      <td>Light-Dedup</td>\n",
       "      <td>50</td>\n",
       "      <td>8</td>\n",
       "      <td>2512</td>\n",
       "      <td>1.482881</td>\n",
       "      <td>1.264217</td>\n",
       "      <td>1.341880</td>\n",
       "    </tr>\n",
       "    <tr>\n",
       "      <th>14</th>\n",
       "      <td>44</td>\n",
       "      <td>Light-Dedup</td>\n",
       "      <td>50</td>\n",
       "      <td>16</td>\n",
       "      <td>2001</td>\n",
       "      <td>0.949692</td>\n",
       "      <td>0.971359</td>\n",
       "      <td>1.303583</td>\n",
       "    </tr>\n",
       "    <tr>\n",
       "      <th>15</th>\n",
       "      <td>60</td>\n",
       "      <td>Light-Dedup</td>\n",
       "      <td>75</td>\n",
       "      <td>1</td>\n",
       "      <td>850</td>\n",
       "      <td>2.335165</td>\n",
       "      <td>2.119701</td>\n",
       "      <td>1.004728</td>\n",
       "    </tr>\n",
       "    <tr>\n",
       "      <th>16</th>\n",
       "      <td>61</td>\n",
       "      <td>Light-Dedup</td>\n",
       "      <td>75</td>\n",
       "      <td>2</td>\n",
       "      <td>1476</td>\n",
       "      <td>2.173785</td>\n",
       "      <td>1.975904</td>\n",
       "      <td>1.088496</td>\n",
       "    </tr>\n",
       "    <tr>\n",
       "      <th>17</th>\n",
       "      <td>62</td>\n",
       "      <td>Light-Dedup</td>\n",
       "      <td>75</td>\n",
       "      <td>4</td>\n",
       "      <td>2593</td>\n",
       "      <td>2.041732</td>\n",
       "      <td>1.828632</td>\n",
       "      <td>1.485960</td>\n",
       "    </tr>\n",
       "    <tr>\n",
       "      <th>18</th>\n",
       "      <td>63</td>\n",
       "      <td>Light-Dedup</td>\n",
       "      <td>75</td>\n",
       "      <td>8</td>\n",
       "      <td>3774</td>\n",
       "      <td>1.733578</td>\n",
       "      <td>1.616274</td>\n",
       "      <td>2.016026</td>\n",
       "    </tr>\n",
       "    <tr>\n",
       "      <th>19</th>\n",
       "      <td>64</td>\n",
       "      <td>Light-Dedup</td>\n",
       "      <td>75</td>\n",
       "      <td>16</td>\n",
       "      <td>3261</td>\n",
       "      <td>1.008349</td>\n",
       "      <td>1.102434</td>\n",
       "      <td>2.149637</td>\n",
       "    </tr>\n",
       "  </tbody>\n",
       "</table>\n",
       "</div>"
      ],
      "text/plain": [
       "    index  file_system  dup_rate  num_job  bandwidth(MiB/s)  \\\n",
       "0       0  Light-Dedup         0        1               751   \n",
       "1       1  Light-Dedup         0        2              1124   \n",
       "2       2  Light-Dedup         0        4              1496   \n",
       "3       3  Light-Dedup         0        8              1647   \n",
       "4       4  Light-Dedup         0       16              1442   \n",
       "5      20  Light-Dedup        25        1               741   \n",
       "6      21  Light-Dedup        25        2              1199   \n",
       "7      22  Light-Dedup        25        4              1774   \n",
       "8      23  Light-Dedup        25        8              1969   \n",
       "9      24  Light-Dedup        25       16              1554   \n",
       "10     40  Light-Dedup        50        1               753   \n",
       "11     41  Light-Dedup        50        2              1293   \n",
       "12     42  Light-Dedup        50        4              2101   \n",
       "13     43  Light-Dedup        50        8              2512   \n",
       "14     44  Light-Dedup        50       16              2001   \n",
       "15     60  Light-Dedup        75        1               850   \n",
       "16     61  Light-Dedup        75        2              1476   \n",
       "17     62  Light-Dedup        75        4              2593   \n",
       "18     63  Light-Dedup        75        8              3774   \n",
       "19     64  Light-Dedup        75       16              3261   \n",
       "\n",
       "    Light-Dedup(SHA256)  NV-Dedup      NOVA  \n",
       "0              2.781481  0.888757  0.866205  \n",
       "1              2.412017  0.857361  0.829520  \n",
       "2              1.842365  0.807339  0.855835  \n",
       "3              1.534949  1.004881  0.879808  \n",
       "4              1.129209  1.099924  0.936972  \n",
       "5              2.714286  1.337545  0.812500  \n",
       "6              2.412475  1.236082  0.892777  \n",
       "7              1.962389  1.133546  1.016619  \n",
       "8              1.417567  1.108671  1.049574  \n",
       "9              0.975518  1.079917  1.003228  \n",
       "10             2.501661  2.085873  0.862543  \n",
       "11             2.317204  1.909897  0.974378  \n",
       "12             2.043774  1.674104  1.203322  \n",
       "13             1.482881  1.264217  1.341880  \n",
       "14             0.949692  0.971359  1.303583  \n",
       "15             2.335165  2.119701  1.004728  \n",
       "16             2.173785  1.975904  1.088496  \n",
       "17             2.041732  1.828632  1.485960  \n",
       "18             1.733578  1.616274  2.016026  \n",
       "19             1.008349  1.102434  2.149637  "
      ]
     },
     "execution_count": 9,
     "metadata": {},
     "output_type": "execute_result"
    }
   ],
   "source": [
    "fs_names = df['file_system'].drop_duplicates().reset_index().drop(columns=['index'])['file_system']\n",
    "\n",
    "light_dedup =  df[df[\"file_system\"] == \"Light-Dedup\"].copy().reset_index()\n",
    "\n",
    "for fs_name in fs_names:\n",
    "    if fs_name == \"Light-Dedup\":\n",
    "        continue\n",
    "    fs = df[df[\"file_system\"] == fs_name]\n",
    "    # print(pd.DataFrame([1, 2, 3]) / pd.DataFrame([1, 2, 3]))\n",
    "    light_dedup[fs_name] = light_dedup[\"bandwidth(MiB/s)\"] / fs[\"bandwidth(MiB/s)\"].reset_index()[\"bandwidth(MiB/s)\"]\n",
    "\n",
    "light_dedup\n",
    "    "
   ]
  },
  {
   "cell_type": "markdown",
   "metadata": {},
   "source": [
    "- How much throughput Light-Dedup achieves over NOVA and NV-Dedup when dedup ratio >= 25%?"
   ]
  },
  {
   "cell_type": "code",
   "execution_count": 10,
   "metadata": {},
   "outputs": [
    {
     "name": "stdout",
     "output_type": "stream",
     "text": [
      "Max higher than NV-Dedup:2.119700748129676\n",
      "Min higher than NV-Dedup:0.9713592233009709\n",
      "Max higher than NOVA:2.149637442320369\n",
      "Min higher than NOVA:0.8125\n"
     ]
    }
   ],
   "source": [
    "print(\"Max higher than NV-Dedup:\" + str(max(light_dedup[light_dedup[\"dup_rate\"] >= 25][\"NV-Dedup\"])))\n",
    "print(\"Min higher than NV-Dedup:\" + str(min(light_dedup[light_dedup[\"dup_rate\"] >= 25][\"NV-Dedup\"])))\n",
    "print(\"Max higher than NOVA:\" + str(max(light_dedup[light_dedup[\"dup_rate\"] >= 25][\"NOVA\"])))\n",
    "print(\"Min higher than NOVA:\" + str(min(light_dedup[light_dedup[\"dup_rate\"] >= 25][\"NOVA\"])))"
   ]
  },
  {
   "cell_type": "markdown",
   "metadata": {},
   "source": [
    "- How much slower Light-Dedup than NOVA when dedup ratio == 0%?"
   ]
  },
  {
   "cell_type": "code",
   "execution_count": 11,
   "metadata": {},
   "outputs": [
    {
     "data": {
      "text/plain": [
       "0    0.866205\n",
       "1    0.829520\n",
       "2    0.855835\n",
       "3    0.879808\n",
       "4    0.936972\n",
       "Name: NOVA, dtype: float64"
      ]
     },
     "execution_count": 11,
     "metadata": {},
     "output_type": "execute_result"
    }
   ],
   "source": [
    "light_dedup[light_dedup[\"dup_rate\"] == 0][\"NOVA\"]"
   ]
  },
  {
   "cell_type": "markdown",
   "metadata": {},
   "source": [
    "- How much faster Light-Dedup than NV-Dedup when dedup ratio == 75%?"
   ]
  },
  {
   "cell_type": "code",
   "execution_count": 12,
   "metadata": {},
   "outputs": [
    {
     "data": {
      "text/plain": [
       "15    2.119701\n",
       "16    1.975904\n",
       "17    1.828632\n",
       "18    1.616274\n",
       "19    1.102434\n",
       "Name: NV-Dedup, dtype: float64"
      ]
     },
     "execution_count": 12,
     "metadata": {},
     "output_type": "execute_result"
    }
   ],
   "source": [
    "light_dedup[light_dedup[\"dup_rate\"] == 75][\"NV-Dedup\"]"
   ]
  },
  {
   "cell_type": "markdown",
   "metadata": {},
   "source": [
    "- How much faster Light-Dedup than SHA256 when dedup ratio == 75%?"
   ]
  },
  {
   "cell_type": "code",
   "execution_count": 13,
   "metadata": {},
   "outputs": [
    {
     "data": {
      "text/plain": [
       "15    2.335165\n",
       "Name: Light-Dedup(SHA256), dtype: float64"
      ]
     },
     "execution_count": 13,
     "metadata": {},
     "output_type": "execute_result"
    }
   ],
   "source": [
    "light_dedup[(light_dedup[\"dup_rate\"] == 75) & (light_dedup[\"num_job\"] == 1)][\"Light-Dedup(SHA256)\"]"
   ]
  },
  {
   "cell_type": "markdown",
   "metadata": {},
   "source": [
    "- Performance Improvement of Light-Dedup from 0% to 75% "
   ]
  },
  {
   "cell_type": "code",
   "execution_count": 14,
   "metadata": {},
   "outputs": [
    {
     "data": {
      "text/plain": [
       "0    1.131824\n",
       "1    1.313167\n",
       "2    1.733289\n",
       "3    2.291439\n",
       "4    2.261442\n",
       "Name: bandwidth(MiB/s), dtype: float64"
      ]
     },
     "execution_count": 14,
     "metadata": {},
     "output_type": "execute_result"
    }
   ],
   "source": [
    "light_dedup[(light_dedup[\"dup_rate\"] == 75)].reset_index()[\"bandwidth(MiB/s)\"]/light_dedup[(light_dedup[\"dup_rate\"] == 0)].reset_index()[\"bandwidth(MiB/s)\"]"
   ]
  }
 ],
 "metadata": {
  "kernelspec": {
   "display_name": "Python 3.6.8 64-bit",
   "language": "python",
   "name": "python3"
  },
  "language_info": {
   "codemirror_mode": {
    "name": "ipython",
    "version": 3
   },
   "file_extension": ".py",
   "mimetype": "text/x-python",
   "name": "python",
   "nbconvert_exporter": "python",
   "pygments_lexer": "ipython3",
   "version": "3.6.8"
  },
  "orig_nbformat": 4,
  "vscode": {
   "interpreter": {
    "hash": "916dbcbb3f70747c44a77c7bcd40155683ae19c65e1c03b4aa3499c5328201f1"
   }
  }
 },
 "nbformat": 4,
 "nbformat_minor": 2
}
